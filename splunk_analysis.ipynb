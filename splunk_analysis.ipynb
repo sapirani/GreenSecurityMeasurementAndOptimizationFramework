{
 "cells": [
  {
   "cell_type": "code",
   "execution_count": 1,
   "metadata": {},
   "outputs": [],
   "source": [
    "\n",
    "import numpy as np\n",
    "import altair as alt\n",
    "from tqdm import tqdm\n",
    "from general_consts import *\n",
    "alt.data_transformers.enable('csv')\n",
    "import csv\n",
    "import json\n",
    "import os\n",
    "import pandas as pd\n",
    "from scipy import integrate\n",
    "import matplotlib.pyplot as plt\n",
    "\n",
    "# alt.renderers.enable('altair_saver', fmts=['png'])"
   ]
  },
  {
   "cell_type": "code",
   "execution_count": 2,
   "metadata": {},
   "outputs": [],
   "source": [
    "def get_df(path, table_name):\n",
    "    df = pd.read_csv(fr\"{path}/{table_name}.csv\")\n",
    "    df[CPUColumns.TIME] = pd.to_datetime(df[CPUColumns.TIME], unit='s')\n",
    "    df[CPUColumns.TIME] += pd.Timedelta(hours=2)\n",
    "    return df\n",
    "\n",
    "def load_tables(path):\n",
    "    cpu_df = get_df(path, TableNames.CPU)\n",
    "    memory_df = get_df(path, TableNames.MEMORY)\n",
    "    all_processes_df = get_df(path, TableNames.ALL_PROCESSES)\n",
    "    disk_df = get_df(path, TableNames.DISK)\n",
    "    # splunk_logs_df = pd.read_csv(fr\"{path}/logs.csv\")\n",
    "    return cpu_df, memory_df, all_processes_df, disk_df\n",
    "    \n",
    "def draw_plot(df, y, path, plot_name, save=True):\n",
    "    chart = alt.Chart(df).mark_line(interpolate='linear').encode(\n",
    "        alt.Y(f\"{y}:Q\", scale=alt.Scale(domain=[min(df[y]), max(df[y])])),\n",
    "        alt.X(f\"{CPUColumns.TIME}:T\"),\n",
    "    ).properties(\n",
    "        width=2100,\n",
    "        height=300\n",
    "    )\n",
    "    if save:\n",
    "        # Create PNG image data and then write to a file\n",
    "        with alt.data_transformers.enable('default'):\n",
    "            chart.save(f\"{path}/graphs/{plot_name}.png\", engine=\"altair_saver\")\n",
    "    return chart"
   ]
  },
  {
   "cell_type": "code",
   "execution_count": 3,
   "metadata": {},
   "outputs": [],
   "source": [
    "# tables = []\n",
    "# for measurment_no in range(13,19):\n",
    "#     path = fr\"../../Repositories/GreenSecurity-FirstExperiment/Dell Inc. Linux 5.15.0-69-generic/Splunk Enterprise SIEM/Power Saver Plan/One Scan/Measurement {measurment_no}\"\n",
    "#     cpu_df, memory_df, all_processes_df, disk_df, splunk_logs_df = load_tables(path)\n",
    "#     tmp = all_processes_df[(all_processes_df['PID'].isin(pids))]\n",
    "#     if not tmp.empty:\n",
    "#         tables.append(tmp.groupby('PID').mean())\n",
    "    # cpu = draw_plot(cpu_df, CPUColumns.USED_PERCENT, path, 'cpu')\n",
    "    # disc_r_c = draw_plot(disk_df, DiskIOColumns.READ_COUNT, path, 'disk_read_count')\n",
    "    # disc_w_c = draw_plot(disk_df, DiskIOColumns.WRITE_COUNT, path, 'disk_write_count')\n",
    "    # disc_r_b = draw_plot(disk_df, DiskIOColumns.READ_BYTES, path, 'disk_read_bytes')\n",
    "    # disc_w_b = draw_plot(disk_df, DiskIOColumns.WRITE_BYTES, path, 'disk_write_bytes')\n",
    "    # splunk_logs_df['_time'] = pd.to_datetime(splunk_logs_df['_time'])\n",
    "    # splunk_logs_df['_time'] = splunk_logs_df['_time'].dt.tz_localize(None)\n",
    "\n",
    "    # # Define number of bins and opacity range\n",
    "    # n_bins = 200\n",
    "    # logs = alt.Chart(splunk_logs_df).mark_bar(opacity=0.3, color='green').encode(\n",
    "    #     alt.Y(\"count():Q\"),\n",
    "    #     alt.X(\"_time:T\", bin=alt.Bin(maxbins=n_bins)),\n",
    "    # ).properties(\n",
    "    #     width=2100,\n",
    "    #     height=300,\n",
    "    # )\n",
    "    # # Create PNG image data and then write to a file\n",
    "    # with alt.data_transformers.enable('default'):\n",
    "    #     logs.save(f\"{path}/graphs/logs_dist.png\", engine=\"altair_saver\")\n",
    "    #     alt.layer(cpu,logs).resolve_scale(\n",
    "    #     y = 'independent').save(f\"{path}/graphs/cpu_logs_merge.png\", engine=\"altair_saver\")\n",
    "        \n",
    "    #     alt.layer(disc_r_c,logs).resolve_scale(\n",
    "    #     y = 'independent').save(f\"{path}/graphs/disc_r_c_logs_merge.png\", engine=\"altair_saver\")\n",
    "        \n",
    "    #     alt.layer(disc_w_c,logs).resolve_scale(\n",
    "    #     y = 'independent').save(f\"{path}/graphs/disc_w_c_logs_merge.png\", engine=\"altair_saver\")\n",
    "        \n",
    "    #     alt.layer(disc_r_b,logs).resolve_scale(\n",
    "    #     y = 'independent').save(f\"{path}/graphs/disc_r_b_logs_merge.png\", engine=\"altair_saver\")\n",
    "        \n",
    "    #     alt.layer(disc_w_b,logs).resolve_scale(\n",
    "    #     y = 'independent').save(f\"{path}/graphs/disc_w_b_logs_merge.png\", engine=\"altair_saver\")\n",
    "        "
   ]
  },
  {
   "cell_type": "code",
   "execution_count": 4,
   "metadata": {},
   "outputs": [],
   "source": [
    "# splunk_logs_df['_time'] = pd.to_datetime(splunk_logs_df['_time']).dt.strftime('%H:%M:%S')\n",
    "# Define number of bins and opacity range\n",
    "# n_bins = 200\n",
    "# opacity_range = [0.2, 0.8]\n",
    "\n",
    "\n",
    "# chart = alt.Chart(splunk_logs_df).mark_bar(opacity=0.3, color='green').encode(\n",
    "#     alt.Y(\"count():Q\"),\n",
    "#     alt.X(\"_time:T\", bin=alt.Bin(maxbins=n_bins))\n",
    "# ).properties(\n",
    "#     width=2100,\n",
    "#     height=300,\n",
    "#     # title='Bar Chart with Adjustable Opacity'\n",
    "# )\n",
    "# with alt.data_transformers.enable('default'):\n",
    "#     alt.layer(draw_plot(cpu_df, CPUColumns.USED_PERCENT, path, 'cpu'),chart).resolve_scale(\n",
    "#         y = 'independent'\n",
    "#     ).save(f\"{path}/graphs/merge.png\", engine=\"altair_saver\")\n"
   ]
  },
  {
   "cell_type": "code",
   "execution_count": 5,
   "metadata": {},
   "outputs": [],
   "source": [
    "# splunk_logs_df['_time'] = pd.to_datetime(splunk_logs_df['_time']).dt.strftime('%H:%M:%S')\n",
    "# Define number of bins and opacity range\n",
    "# n_bins = 200\n",
    "# opacity_range = [0.2, 0.8]\n",
    "\n",
    "# alt.layer(alt.Chart(df_pid).mark_line(interpolate='linear').encode(\n",
    "#     alt.Y(f\"{CPUColumns.USED_PERCENT.split(' ')[1]}:Q\", scale=alt.Scale(domain=[min(df[CPUColumns.USED_PERCENT.split(' ')[1]]), max(df[CPUColumns.USED_PERCENT.split(' ')[1]])])),\n",
    "#     alt.X(f\"{CPUColumns.TIME}:T\"),\n",
    "# ).properties(\n",
    "#     width=2100,\n",
    "#     height=300\n",
    "# ),alt.Chart(splunk_logs_df).mark_bar(opacity=0.3, color='green').encode(\n",
    "# alt.Y(\"count():Q\"),\n",
    "# alt.X(\"_time:T\", bin=alt.Bin(maxbins=n_bins))\n",
    "# ).properties(\n",
    "# width=2100,\n",
    "# height=300,\n",
    "# # title='Bar Chart with Adjustable Opacity'\n",
    "# )).resolve_scale(\n",
    "#     y = 'independent'\n",
    "#     )\n"
   ]
  },
  {
   "cell_type": "code",
   "execution_count": 6,
   "metadata": {},
   "outputs": [],
   "source": [
    "# alt.Chart(splunk_logs_df).mark_bar(opacity=0.3, color='green').encode(\n",
    "# alt.Y(\"count():Q\"),\n",
    "# alt.X(\"_time:T\", bin=alt.Bin(maxbins=n_bins))\n",
    "# ).properties(\n",
    "# width=2100,\n",
    "# height=300,\n",
    "# # title='Bar Chart with Adjustable Opacity'\n",
    "# )"
   ]
  },
  {
   "cell_type": "code",
   "execution_count": 7,
   "metadata": {},
   "outputs": [
    {
     "name": "stdout",
     "output_type": "stream",
     "text": [
      "PID\n",
      "2827     10.854615\n",
      "3244     10.622258\n",
      "3246     18.110923\n",
      "3247     20.523093\n",
      "3666      8.266250\n",
      "4087      6.901000\n",
      "4089     18.061169\n",
      "4090     21.109907\n",
      "13809    11.223947\n",
      "14205    10.670690\n",
      "14207    18.440167\n",
      "14208    22.281928\n",
      "24969    10.946000\n",
      "24973    11.705000\n",
      "24978    20.073151\n",
      "25113    23.770132\n",
      "Name: CPU(%), dtype: float64\n"
     ]
    }
   ],
   "source": [
    "\n",
    "\n",
    "path = '/home/shouei/GreenSecurity-FirstExperiment/VMware, Inc. Linux 3.10.0-1160.88.1.el7.x86_64/Splunk Enterprise SIEM/Power Saver Plan/One Scan'\n",
    "rng = range(22,26)\n",
    "dirs = {f'Measurement {i}'for i in rng}\n",
    "measurement_dirs = sorted([d for d in os.listdir(path) if d in dirs])\n",
    "# measurement_dirs = sorted([d for d in os.listdir(path) if d.startswith('Measurement')])\n",
    "\n",
    "# Load pids from json files\n",
    "pids = {}\n",
    "for dir_name in measurement_dirs:\n",
    "    file_path = os.path.join(path, dir_name, 'pids.json')\n",
    "    with open(file_path, 'r') as f:\n",
    "        data = json.load(f)\n",
    "        # fix it and remove!\n",
    "        data_times = {}\n",
    "        # for k,v in data.items():\n",
    "        #     data[k] = v[1]\n",
    "        #     data_times[k] = v[2]\n",
    "        pids[dir_name] = data\n",
    "\n",
    "exp_dfs = {}\n",
    "for dir_name in pids:\n",
    "    curr = pids[dir_name]\n",
    "    data = []\n",
    "    for name, [sid, pid, time, run_duration] in curr.items():\n",
    "       data.append((name, sid, pid, time, run_duration)) \n",
    "    curr_df = pd.DataFrame(data, columns=['name', 'sid', 'pid', 'time', 'run_duration'])\n",
    "    curr_df.name = curr_df.name.str.strip(' Clone')\n",
    "    curr_df.time = pd.to_datetime(curr_df.time)\n",
    "    exp_dfs[dir_name] = curr_df.sort_values('time')    \n",
    "\n",
    "# Combine all relevant data into a single dataframe\n",
    "dfs = {}\n",
    "for dir_name, pid_list in pids.items():\n",
    "    file_path = os.path.join(path, dir_name, 'processes_data.csv')\n",
    "    df = pd.read_csv(file_path)\n",
    "    df['Time(sec)'] = pd.to_datetime(df['Time(sec)'], unit='s', utc=True)\n",
    "    df = df[df['PID'].isin(exp_dfs[dir_name].pid.values)].sort_values('Time(sec)') \n",
    "    df['Measurement'] = dir_name\n",
    "    dfs[dir_name] = df\n",
    "    \n",
    "combined_df = pd.concat(dfs)\n",
    "\n",
    "# Group by PID and calculate mean CPU\n",
    "grouped_df = combined_df.groupby('PID')['CPU(%)'].mean()\n",
    "\n",
    "print(grouped_df)\n"
   ]
  },
  {
   "attachments": {},
   "cell_type": "markdown",
   "metadata": {},
   "source": [
    "Merge when the rules running one after an other with a delay"
   ]
  },
  {
   "cell_type": "code",
   "execution_count": 8,
   "metadata": {},
   "outputs": [],
   "source": [
    "# grouped_dfs = {}\n",
    "# merged_dfs = {}\n",
    "\n",
    "# from datetime import timedelta, datetime\n",
    "# for measurment_name in measurement_dirs:\n",
    "#     df1 = dfs[measurment_name].where(lambda x: x['Time(sec)'].dt.minute >= 1)\n",
    "#     df2 = exp_dfs[measurment_name].where(lambda x: x['time'].dt.minute >= 1)\n",
    "#     # merge df1 and df2 on 'pid' using a left join\n",
    "#     merged_df = pd.merge(df1, df2, left_on='PID', right_on='pid', how='left')\n",
    "\n",
    "#     # filter merged_df to keep only rows where df1['time'] is between df2['start_time'] and df2['start_time'] + 1 minute\n",
    "#     merged_df = merged_df[(merged_df['Time(sec)'] >= merged_df['time']) & (merged_df['Time(sec)'] <= merged_df['time'] + timedelta(minutes=1))]\n",
    "\n",
    "#     # drop the 'start_time' column, which is now redundant\n",
    "#     merged_df = merged_df.drop(columns=['time'])\n",
    "#     grouped_dfs[measurment_name] = merged_df.groupby('name').mean()\n",
    "#     merged_dfs[measurment_name] = merged_df\n",
    "# # concatenate the three data frames along the columns axis\n",
    "# merged_df = pd.concat([x['CPU(%)'] for x in grouped_dfs.values()], axis=1)\n",
    "\n",
    "# # compute the mean along the index axis\n",
    "# mean_df = merged_df.mean(axis=1)\n",
    "# mean_df = mean_df.reset_index().rename({0:'CPU(%)'}, axis=1)\n",
    "# mean_df\n"
   ]
  },
  {
   "cell_type": "code",
   "execution_count": 9,
   "metadata": {},
   "outputs": [],
   "source": [
    "# alt.Chart(mean_df).mark_bar().encode(\n",
    "#         alt.Y(\"CPU(%):Q\"),\n",
    "#         alt.X(f\"name:N\"),\n",
    "#     ).properties(\n",
    "#         width=600,\n",
    "#         height=300\n",
    "#     )"
   ]
  },
  {
   "cell_type": "code",
   "execution_count": 10,
   "metadata": {},
   "outputs": [],
   "source": [
    "# rule_chart = alt.Chart(df2).mark_rule(color='red', strokeDash=[5, 5]).encode(\n",
    "#     x='time:T'\n",
    "# )\n",
    "\n",
    "# c2 = alt.Chart(merged_dfs[measurment_name]).mark_line().encode(\n",
    "#         alt.Y(\"CPU(%):Q\"),\n",
    "#         alt.X(f\"Time(sec):T\"),\n",
    "#     ).properties(\n",
    "#         width=600,\n",
    "#         height=300\n",
    "#     )\n",
    "# c2+rule_chart"
   ]
  },
  {
   "attachments": {},
   "cell_type": "markdown",
   "metadata": {},
   "source": [
    "Merge when all the rules running in the same time"
   ]
  },
  {
   "cell_type": "code",
   "execution_count": 11,
   "metadata": {},
   "outputs": [
    {
     "name": "stdout",
     "output_type": "stream",
     "text": [
      "23.645366416164503\n",
      "21.21706932839352\n"
     ]
    },
    {
     "name": "stderr",
     "output_type": "stream",
     "text": [
      "/home/shouei/anaconda3/envs/py38/lib/python3.8/site-packages/altair/utils/deprecation.py:65: AltairDeprecationWarning: 'selection_multi' is deprecated.  Use 'selection_point'\n",
      "  warnings.warn(message, AltairDeprecationWarning, stacklevel=1)\n",
      "/home/shouei/anaconda3/envs/py38/lib/python3.8/site-packages/altair/utils/deprecation.py:65: AltairDeprecationWarning: 'add_selection' is deprecated. Use 'add_params' instead.\n",
      "  warnings.warn(message, AltairDeprecationWarning, stacklevel=1)\n",
      "/tmp/ipykernel_5789/1033985331.py:63: FutureWarning: The default value of numeric_only in DataFrameGroupBy.mean is deprecated. In a future version, numeric_only will default to False. Either specify numeric_only or select only columns which should be valid for the function.\n",
      "  relevant_processes_pid_names_grouped = relevant_processes_pid_names.groupby('name').mean()\n",
      "/home/shouei/anaconda3/envs/py38/lib/python3.8/site-packages/altair/utils/deprecation.py:65: AltairDeprecationWarning: 'selection_multi' is deprecated.  Use 'selection_point'\n",
      "  warnings.warn(message, AltairDeprecationWarning, stacklevel=1)\n",
      "/home/shouei/anaconda3/envs/py38/lib/python3.8/site-packages/altair/utils/deprecation.py:65: AltairDeprecationWarning: 'add_selection' is deprecated. Use 'add_params' instead.\n",
      "  warnings.warn(message, AltairDeprecationWarning, stacklevel=1)\n",
      "/tmp/ipykernel_5789/1033985331.py:63: FutureWarning: The default value of numeric_only in DataFrameGroupBy.mean is deprecated. In a future version, numeric_only will default to False. Either specify numeric_only or select only columns which should be valid for the function.\n",
      "  relevant_processes_pid_names_grouped = relevant_processes_pid_names.groupby('name').mean()\n",
      "/home/shouei/anaconda3/envs/py38/lib/python3.8/site-packages/altair/utils/deprecation.py:65: AltairDeprecationWarning: 'selection_multi' is deprecated.  Use 'selection_point'\n",
      "  warnings.warn(message, AltairDeprecationWarning, stacklevel=1)\n",
      "/home/shouei/anaconda3/envs/py38/lib/python3.8/site-packages/altair/utils/deprecation.py:65: AltairDeprecationWarning: 'add_selection' is deprecated. Use 'add_params' instead.\n",
      "  warnings.warn(message, AltairDeprecationWarning, stacklevel=1)\n"
     ]
    },
    {
     "name": "stdout",
     "output_type": "stream",
     "text": [
      "25.735018803406682\n",
      "21.251691482597394\n"
     ]
    },
    {
     "name": "stderr",
     "output_type": "stream",
     "text": [
      "/tmp/ipykernel_5789/1033985331.py:63: FutureWarning: The default value of numeric_only in DataFrameGroupBy.mean is deprecated. In a future version, numeric_only will default to False. Either specify numeric_only or select only columns which should be valid for the function.\n",
      "  relevant_processes_pid_names_grouped = relevant_processes_pid_names.groupby('name').mean()\n",
      "/home/shouei/anaconda3/envs/py38/lib/python3.8/site-packages/altair/utils/deprecation.py:65: AltairDeprecationWarning: 'selection_multi' is deprecated.  Use 'selection_point'\n",
      "  warnings.warn(message, AltairDeprecationWarning, stacklevel=1)\n",
      "/home/shouei/anaconda3/envs/py38/lib/python3.8/site-packages/altair/utils/deprecation.py:65: AltairDeprecationWarning: 'add_selection' is deprecated. Use 'add_params' instead.\n",
      "  warnings.warn(message, AltairDeprecationWarning, stacklevel=1)\n",
      "/tmp/ipykernel_5789/1033985331.py:63: FutureWarning: The default value of numeric_only in DataFrameGroupBy.mean is deprecated. In a future version, numeric_only will default to False. Either specify numeric_only or select only columns which should be valid for the function.\n",
      "  relevant_processes_pid_names_grouped = relevant_processes_pid_names.groupby('name').mean()\n"
     ]
    }
   ],
   "source": [
    "relevant_processes_pid_names_grouped_dict = {}\n",
    "relevant_processes_pid_names_mean_windows_dict = {}\n",
    "relevant_names_inegral_dict = {}\n",
    "\n",
    "# path = fr\"../../Repositories/GreenSecurity-FirstExperiment/Dell Inc. Linux 5.15.0-70-generic/Splunk Enterprise SIEM/Power Saver Plan/One Scan/\"\n",
    "for measurment_name in measurement_dirs:\n",
    "    pid_1_times = set(exp_dfs[measurment_name].groupby('pid').count().where(lambda x: x==1).dropna().index)\n",
    "    name_1_times = exp_dfs[measurment_name].where(lambda x: x.pid.isin(pid_1_times))[['name','pid']]\n",
    "    relevant_processes = dfs[measurment_name].where(lambda x: x.PID.isin(pid_1_times))\n",
    "    relevant_processes_pid_names = pd.merge(relevant_processes, name_1_times, left_on='PID', right_on='pid')\n",
    "    \n",
    "    # Get start time\n",
    "    start_time = relevant_processes_pid_names['Time(sec)'].min()\n",
    "    # Calculate delta time in seconds\n",
    "    relevant_processes_pid_names['delta_time'] = (relevant_processes_pid_names['Time(sec)'] - start_time).dt.total_seconds()\n",
    "    print(len(relevant_processes_pid_names)/relevant_processes_pid_names['delta_time'].max())\n",
    "    #####Create a chart########\n",
    "    # Create the dropdown menu selection\n",
    "    name_selection = alt.selection_multi(fields=['name'], bind='legend')\n",
    "    # Define the chart\n",
    "    chart = alt.Chart(relevant_processes_pid_names).mark_line(interpolate='linear').encode(\n",
    "            alt.Y(\"CPU(%):Q\"),\n",
    "            alt.X(f\"delta_time:Q\"),\n",
    "            alt.Color('name:N', scale=alt.Scale(scheme='category20')),\n",
    "            opacity=alt.condition(name_selection, alt.value(1), alt.value(0.1))\n",
    "        ).properties(\n",
    "            width=1500,\n",
    "            height=500\n",
    "        ).add_selection(name_selection).configure_legend(\n",
    "            orient='bottom',\n",
    "            labelLimit=10000,\n",
    "            columns=4,\n",
    "            labelFontSize=15\n",
    "        )\n",
    "    with alt.data_transformers.enable('default'):\n",
    "        chart.save(f\"{path}/{measurment_name}/graphs/interactive_line.html\")\n",
    "    ##########################\n",
    "    \n",
    "    #####Create a chart########\n",
    "    rule_chart = alt.Chart(relevant_processes_pid_names).mark_rule(strokeDash=[5, 5]).encode(\n",
    "    x='min(Time(sec)):T',color='name'\n",
    "    )\n",
    "\n",
    "    c2 = alt.Chart(relevant_processes_pid_names).mark_line(interpolate='linear').encode(\n",
    "            alt.Y(\"CPU(%):Q\"),\n",
    "            alt.X(f\"Time(sec):T\"),\n",
    "        ).properties(\n",
    "            width=1000,\n",
    "            height=500\n",
    "        )\n",
    "    mean_chart = alt.Chart(relevant_processes_pid_names).mark_rule(color='red', strokeDash=[5, 5]).encode(\n",
    "        y='mean(CPU(%)):Q'\n",
    "    )\n",
    "\n",
    "    chart2 = (c2+rule_chart+mean_chart).configure_legend(\n",
    "                labelLimit=10000,\n",
    "                labelFontSize=15\n",
    "            )\n",
    "    with alt.data_transformers.enable('default'):\n",
    "        chart2.save(f\"{path}/{measurment_name}/graphs/total_cpu.html\")\n",
    "    ##########################\n",
    "    \n",
    "    relevant_processes_pid_names_grouped = relevant_processes_pid_names.groupby('name').mean()\n",
    "    relevant_processes_pid_names_grouped_dict[measurment_name] = relevant_processes_pid_names_grouped\n",
    "    #integral by name of cpu over time\n",
    "    relevant_names_inegral_dict[measurment_name] = relevant_processes_pid_names.groupby('name').apply(lambda g: integrate.trapz(g['CPU(%)'], x=g['delta_time']))\n",
    "\n",
    "    \n",
    "    # # Define the time window size in minutes\n",
    "    # time_window_size = 1\n",
    "    # last_sec = int(np.ceil(relevant_processes_pid_names['delta_time'].max()))\n",
    "    # # Create an empty column to store the mean values\n",
    "    # relevant_processes_pid_names['mean_col'] = pd.Series()\n",
    "    # relevant_processes_pid_names['time_window'] = pd.Series()\n",
    "\n",
    "    # # Iterate over the time series data, and calculate the mean for each time window\n",
    "    # for i in range(last_sec):\n",
    "    #     start_time = i\n",
    "    #     end_time = start_time + time_window_size\n",
    "    #     window_data = relevant_processes_pid_names[(relevant_processes_pid_names['delta_time'] >= start_time) & (relevant_processes_pid_names['delta_time'] < end_time)]\n",
    "    #     mean_values = window_data.groupby('name')['CPU(%)'].mean()\n",
    "    #     for name in mean_values.index:\n",
    "    #         relevant_processes_pid_names.loc[window_data[window_data['name']==name].index, 'mean_col'] = mean_values[mean_values.index==name][0]\n",
    "    #         relevant_processes_pid_names.loc[window_data[window_data['name']==name].index, 'time_window'] = i\n",
    "    \n",
    "    relevant_processes_pid_names_mean_windows_dict[measurment_name] = relevant_processes_pid_names\n",
    "    \n",
    "\n",
    "\n"
   ]
  },
  {
   "cell_type": "code",
   "execution_count": 36,
   "metadata": {},
   "outputs": [
    {
     "data": {
      "text/plain": [
       "['enable_24', 'enable_48', 'disable_24', 'disable_48']"
      ]
     },
     "execution_count": 36,
     "metadata": {},
     "output_type": "execute_result"
    }
   ],
   "source": [
    "durations = [\"enable_24\",\"enable_48\",\"disable_24\",\"disable_48\"]\n",
    "durations"
   ]
  },
  {
   "cell_type": "code",
   "execution_count": 15,
   "metadata": {},
   "outputs": [
    {
     "name": "stdout",
     "output_type": "stream",
     "text": [
      "echo sH231294| sudo -S -E env \"PATH=$PATH\" splunk search \"index=main where (earliest=\"06/08/2023:13:33:01\" latest=\"06/08/2023:13:48:00\")\" -output csv -maxout 0 -auth shouei:sH231294 > \"./VMware, Inc. Linux 3.10.0-1160.88.1.el7.x86_64/Splunk Enterprise SIEM/Power Saver Plan/One Scan/Measurement 22/logs.csv\"\n"
     ]
    },
    {
     "name": "stderr",
     "output_type": "stream",
     "text": [
      "[sudo] password for shouei: WARNING: Server Certificate Hostname Validation is disabled. Please see server.conf/[sslConfig]/cliVerifyServerName for details.\n"
     ]
    },
    {
     "name": "stdout",
     "output_type": "stream",
     "text": [
      "echo sH231294| sudo -S -E env \"PATH=$PATH\" splunk search \"index=main where (earliest=\"06/08/2023:13:51:53\" latest=\"06/08/2023:14:06:53\")\" -output csv -maxout 0 -auth shouei:sH231294 > \"./VMware, Inc. Linux 3.10.0-1160.88.1.el7.x86_64/Splunk Enterprise SIEM/Power Saver Plan/One Scan/Measurement 23/logs.csv\"\n"
     ]
    },
    {
     "name": "stderr",
     "output_type": "stream",
     "text": [
      "[sudo] password for shouei: WARNING: Server Certificate Hostname Validation is disabled. Please see server.conf/[sslConfig]/cliVerifyServerName for details.\n"
     ]
    },
    {
     "name": "stdout",
     "output_type": "stream",
     "text": [
      "echo sH231294| sudo -S -E env \"PATH=$PATH\" splunk search \"index=main where (earliest=\"06/08/2023:14:10:50\" latest=\"06/08/2023:14:25:49\")\" -output csv -maxout 0 -auth shouei:sH231294 > \"./VMware, Inc. Linux 3.10.0-1160.88.1.el7.x86_64/Splunk Enterprise SIEM/Power Saver Plan/One Scan/Measurement 24/logs.csv\"\n"
     ]
    },
    {
     "name": "stderr",
     "output_type": "stream",
     "text": [
      "[sudo] password for shouei: WARNING: Server Certificate Hostname Validation is disabled. Please see server.conf/[sslConfig]/cliVerifyServerName for details.\n"
     ]
    },
    {
     "name": "stdout",
     "output_type": "stream",
     "text": [
      "echo sH231294| sudo -S -E env \"PATH=$PATH\" splunk search \"index=main where (earliest=\"06/08/2023:14:29:43\" latest=\"06/08/2023:14:44:42\")\" -output csv -maxout 0 -auth shouei:sH231294 > \"./VMware, Inc. Linux 3.10.0-1160.88.1.el7.x86_64/Splunk Enterprise SIEM/Power Saver Plan/One Scan/Measurement 25/logs.csv\"\n"
     ]
    },
    {
     "name": "stderr",
     "output_type": "stream",
     "text": [
      "/bin/sh: ./VMware, Inc. Linux 3.10.0-1160.88.1.el7.x86_64/Splunk Enterprise SIEM/Power Saver Plan/One Scan/Measurement 25/logs.csv: Permission denied\n"
     ]
    }
   ],
   "source": [
    "import subprocess\n",
    "import os\n",
    "dirs = {f'Measurement {i}'for i in rng}\n",
    "logs_len_list = []\n",
    "for j,i in enumerate(rng):\n",
    "    # load processes data from csv\n",
    "    path = fr\"./VMware, Inc. Linux 3.10.0-1160.88.1.el7.x86_64/Splunk Enterprise SIEM/Power Saver Plan/One Scan/Measurement {i}\"\n",
    "    cpu_df, memory_df, all_processes_df, disk_df = load_tables(path)\n",
    "    # find the start and end time of all processes_df \n",
    "    start_time = all_processes_df[CPUColumns.TIME].min().strftime('%m/%d/%Y:%H:%M:%S')\n",
    "    end_time = all_processes_df[CPUColumns.TIME].max().strftime('%m/%d/%Y:%H:%M:%S')\n",
    "    command = f'echo sH231294| sudo -S -E env \"PATH=$PATH\" splunk search \"index=main where (earliest=\"{start_time}\" latest=\"{end_time}\")\" -output csv -maxout 0 -auth shouei:sH231294 > \"{path}/logs.csv\"'\n",
    "    print(command)\n",
    "    # run the bash command\n",
    "    subprocess.run(command, shell=True)\n",
    "    "
   ]
  },
  {
   "cell_type": "code",
   "execution_count": 25,
   "metadata": {},
   "outputs": [
    {
     "data": {
      "text/plain": [
       "'sudo -E env \"PATH=$PATH\" splunk search \"index=main where earliest=2023-06-08 14:29:43.128379904\" -output csv -maxout 0 -auth shouei:sH231294 > \"Measurement 25/logs.csv\"'"
      ]
     },
     "execution_count": 25,
     "metadata": {},
     "output_type": "execute_result"
    }
   ],
   "source": [
    "command"
   ]
  },
  {
   "cell_type": "code",
   "execution_count": 18,
   "metadata": {
    "notebookRunGroups": {
     "groupValue": "2"
    }
   },
   "outputs": [],
   "source": [
    "dirs = {f'Measurement {i}'for i in rng}\n",
    "logs_len_list = []\n",
    "for j,i in enumerate(rng):\n",
    "    # print(j)\n",
    "    path = fr\"./VMware, Inc. Linux 3.10.0-1160.88.1.el7.x86_64/Splunk Enterprise SIEM/Power Saver Plan/One Scan/Measurement {i}\"\n",
    "    curr_duration = durations[j%len(durations)]\n",
    "    logs = pd.read_csv(fr\"{path}/logs.csv\")\n",
    "    logs._time = pd.to_datetime(logs._time)\n",
    "    logs = logs.where(lambda x: x._time.dt.hour == logs._time.dt.hour.unique().min())\n",
    "    logs_len_list.append(len(logs.dropna()))"
   ]
  },
  {
   "cell_type": "code",
   "execution_count": 19,
   "metadata": {},
   "outputs": [
    {
     "name": "stdout",
     "output_type": "stream",
     "text": [
      "0\n",
      "1\n",
      "2\n",
      "3\n"
     ]
    }
   ],
   "source": [
    "dirs = {f'Measurement {i}'for i in rng}\n",
    "integral_list = []\n",
    "for j,i in enumerate(rng):\n",
    "    print(j)\n",
    "    curr_duration = durations[j%len(durations)]\n",
    "    curr_df = relevant_processes_pid_names_mean_windows_dict[f'Measurement {i}']\n",
    "    name_integral = {}\n",
    "    for name in curr_df.name.unique():\n",
    "        integral = integrate.simpson(curr_df[curr_df['name']==name]['CPU(%)'], x=curr_df[curr_df['name']==name]['delta_time'])\n",
    "        name_integral[name] = integral\n",
    "    duration_name = curr_duration\n",
    "    kind = ''\n",
    "    if j < len(rng)//2:\n",
    "        kind = 'lite'\n",
    "    else:\n",
    "        kind = 'heavy'\n",
    "    integral_list.append((name_integral, duration_name, f'Measurement {i}', kind, logs_len_list[j]))\n",
    "    "
   ]
  },
  {
   "cell_type": "code",
   "execution_count": 20,
   "metadata": {},
   "outputs": [
    {
     "data": {
      "text/plain": [
       "[4, 4, 4, 4]"
      ]
     },
     "execution_count": 20,
     "metadata": {},
     "output_type": "execute_result"
    }
   ],
   "source": [
    "[len(x[0].keys()) for x in integral_list]"
   ]
  },
  {
   "cell_type": "code",
   "execution_count": 21,
   "metadata": {},
   "outputs": [
    {
     "data": {
      "text/html": [
       "<div>\n",
       "<style scoped>\n",
       "    .dataframe tbody tr th:only-of-type {\n",
       "        vertical-align: middle;\n",
       "    }\n",
       "\n",
       "    .dataframe tbody tr th {\n",
       "        vertical-align: top;\n",
       "    }\n",
       "\n",
       "    .dataframe thead th {\n",
       "        text-align: right;\n",
       "    }\n",
       "</style>\n",
       "<table border=\"1\" class=\"dataframe\">\n",
       "  <thead>\n",
       "    <tr style=\"text-align: right;\">\n",
       "      <th></th>\n",
       "      <th>integral</th>\n",
       "      <th>duration</th>\n",
       "      <th>measurment_num</th>\n",
       "      <th>kind</th>\n",
       "      <th>logs_number</th>\n",
       "    </tr>\n",
       "  </thead>\n",
       "  <tbody>\n",
       "    <tr>\n",
       "      <th>0</th>\n",
       "      <td>{'Windows Event Log Clearing Events': 39.66785...</td>\n",
       "      <td>enable_24</td>\n",
       "      <td>Measurement 22</td>\n",
       "      <td>lite</td>\n",
       "      <td>76</td>\n",
       "    </tr>\n",
       "    <tr>\n",
       "      <th>1</th>\n",
       "      <td>{'New Local Admin Account': 32.91334126636185,...</td>\n",
       "      <td>enable_48</td>\n",
       "      <td>Measurement 23</td>\n",
       "      <td>lite</td>\n",
       "      <td>40</td>\n",
       "    </tr>\n",
       "    <tr>\n",
       "      <th>2</th>\n",
       "      <td>{'Windows Event Log Clearing Events': 43.79784...</td>\n",
       "      <td>disable_24</td>\n",
       "      <td>Measurement 24</td>\n",
       "      <td>heavy</td>\n",
       "      <td>97</td>\n",
       "    </tr>\n",
       "    <tr>\n",
       "      <th>3</th>\n",
       "      <td>{'Windows Event Log Clearing Events': 40.90465...</td>\n",
       "      <td>disable_48</td>\n",
       "      <td>Measurement 25</td>\n",
       "      <td>heavy</td>\n",
       "      <td>4</td>\n",
       "    </tr>\n",
       "  </tbody>\n",
       "</table>\n",
       "</div>"
      ],
      "text/plain": [
       "                                            integral    duration  \\\n",
       "0  {'Windows Event Log Clearing Events': 39.66785...   enable_24   \n",
       "1  {'New Local Admin Account': 32.91334126636185,...   enable_48   \n",
       "2  {'Windows Event Log Clearing Events': 43.79784...  disable_24   \n",
       "3  {'Windows Event Log Clearing Events': 40.90465...  disable_48   \n",
       "\n",
       "   measurment_num   kind  logs_number  \n",
       "0  Measurement 22   lite           76  \n",
       "1  Measurement 23   lite           40  \n",
       "2  Measurement 24  heavy           97  \n",
       "3  Measurement 25  heavy            4  "
      ]
     },
     "execution_count": 21,
     "metadata": {},
     "output_type": "execute_result"
    }
   ],
   "source": [
    "df = pd.DataFrame(integral_list, columns=['integral', 'duration', 'measurment_num', 'kind', 'logs_number'])\n",
    "df"
   ]
  },
  {
   "cell_type": "code",
   "execution_count": 22,
   "metadata": {},
   "outputs": [],
   "source": [
    "# step = 1\n",
    "\n",
    "# dirs = {f'Measurement {i}'for i in rng}\n",
    "# for i in rng:\n",
    "#     if i == step:\n",
    "#         break\n",
    "#     first_measurment = f'Measurement {i}'\n",
    "#     sec_measurment = f'Measurement {i+step}'\n",
    "#     first_relevant_processes_pid_names = relevant_processes_pid_names_mean_windows_dict[first_measurment]\n",
    "#     sec_relevant_processes_pid_names = relevant_processes_pid_names_mean_windows_dict[sec_measurment]\n",
    "    \n",
    "#     rule_chart_first = alt.Chart(first_relevant_processes_pid_names).mark_rule(strokeDash=[5, 5]).encode(\n",
    "#         x='min(delta_time):Q',color='name'\n",
    "#     )\n",
    "\n",
    "#     c2_first = alt.Chart(first_relevant_processes_pid_names).mark_line(interpolate='linear').encode(\n",
    "#             alt.Y(\"CPU(%):Q\"),\n",
    "#             alt.X(f\"delta_time:Q\"),\n",
    "#         ).properties(\n",
    "#             width=1000,\n",
    "#             height=500\n",
    "#         )\n",
    "#     mean_chart_first = alt.Chart(first_relevant_processes_pid_names).mark_rule(color='blue', strokeDash=[5, 5]).encode(\n",
    "#         y='mean(CPU(%)):Q'\n",
    "#     )\n",
    "#     rule_chart_sec = alt.Chart(sec_relevant_processes_pid_names).mark_rule(strokeDash=[5, 5]).encode(\n",
    "#         x='min(delta_time):Q',color='name'\n",
    "#     )\n",
    "\n",
    "#     c2_sec = alt.Chart(sec_relevant_processes_pid_names).mark_line(color='red',interpolate='linear').encode(\n",
    "#             alt.Y(\"CPU(%):Q\"),\n",
    "#             alt.X(f\"delta_time:Q\"),\n",
    "#         ).properties(\n",
    "#             width=1000,\n",
    "#             height=500\n",
    "#         )\n",
    "#     mean_chart_sec = alt.Chart(sec_relevant_processes_pid_names).mark_rule(color='red', strokeDash=[5, 5]).encode(\n",
    "#         y='mean(CPU(%)):Q'\n",
    "#     )\n",
    "#     with alt.data_transformers.enable('default'):\n",
    "#         (c2_first+rule_chart_first+mean_chart_first+c2_sec+rule_chart_sec+mean_chart_sec).configure_legend(\n",
    "#                 labelLimit=10000,\n",
    "#                 labelFontSize=15\n",
    "#             ).save(f\"{path}/{measurment_name}/graphs/compare_cpu.html\")"
   ]
  },
  {
   "cell_type": "code",
   "execution_count": 23,
   "metadata": {},
   "outputs": [],
   "source": [
    "# # create histogram with mean rule\n",
    "# hist = alt.Chart(first_relevant_processes_pid_names).mark_bar(color='red', opacity=0.2).encode(\n",
    "#     alt.X('CPU(%)', bin=alt.Bin(step=0.2)),\n",
    "#     y='count()'\n",
    "# )\n",
    "\n",
    "# mean_rule = alt.Chart(first_relevant_processes_pid_names).mark_rule(color='red').encode(\n",
    "#     x='mean(CPU(%))'\n",
    "# )\n",
    "# # create histogram with mean rule\n",
    "# hist_sec = alt.Chart(sec_relevant_processes_pid_names).mark_bar(color='green', opacity=0.2).encode(\n",
    "#     alt.X('CPU(%)', bin=alt.Bin(step=0.2)),\n",
    "#     y='count()'\n",
    "# )\n",
    "\n",
    "# mean_rule_sec = alt.Chart(sec_relevant_processes_pid_names).mark_rule(color='green').encode(\n",
    "#     x='mean(CPU(%))'\n",
    "# )\n",
    "\n",
    "# # combine the two charts\n",
    "# # combine the two charts and add a legend\n",
    "# chart = alt.layer(hist, mean_rule, hist_sec, mean_rule_sec).properties(\n",
    "#     title='Histogram of CPU',\n",
    "#     width=500,\n",
    "#     height=300\n",
    "# )\n",
    "# chart.configure_axis(\n",
    "#     gridOpacity=0.5\n",
    "# ).configure_view(\n",
    "#     strokeWidth=0\n",
    "# ).configure_title(\n",
    "#     fontSize=20,\n",
    "#     fontWeight='bold'\n",
    "# ).configure_legend(\n",
    "#     title=None,\n",
    "#     labelFontSize=15\n",
    "# )\n"
   ]
  },
  {
   "cell_type": "code",
   "execution_count": 24,
   "metadata": {},
   "outputs": [],
   "source": [
    "# relevant_processes_pid_names.apply(lambda g: integrate.trapz(g['CPU(%)'], x=g['delta_time']), axis=1)\n"
   ]
  },
  {
   "cell_type": "code",
   "execution_count": 25,
   "metadata": {},
   "outputs": [],
   "source": [
    "# # concatenate the three data frames along the columns axis\n",
    "# merged_df_line = pd.concat([x.groupby(['name','time_window'])[['mean_col']].mean() for x in relevant_processes_pid_names_mean_windows_dict.values()], axis=1)\n",
    "# durations = [1,2,3,4]\n",
    "# num_of_different_durations = len([x for x in durations])\n",
    "# # select even and odd columns from the 'CPU(%)' columns\n",
    "# mean_std_df_line = pd.concat([merged_df_line.iloc[:, i::num_of_different_durations].agg(['mean', 'std'], axis=1).add_suffix('_'+str(durations[i])) for i in range(num_of_different_durations)], axis=1)\n",
    "# # mean_std_df.iloc[:, 0:2].columns = mean_std_df.iloc[:, 0:2].add_suffix('_odd').columns\n",
    "# # mean_std_df.iloc[:, 2:4].columns = mean_std_df.iloc[:, 2:4].add_suffix('_even').columns\n",
    "# # print the final dataframe\n",
    "# # mean_std_df_line.fillna(0, inplace=True)\n",
    "# mean_std_df_line\n"
   ]
  },
  {
   "cell_type": "code",
   "execution_count": 26,
   "metadata": {},
   "outputs": [],
   "source": [
    "# mean_df_line = mean_std_df_line[[x for x in mean_std_df_line.columns if x.startswith('mean')]].reset_index().melt(var_name='duration',id_vars='time_window')\n",
    "# std_df_line =mean_std_df_line[[x for x in mean_std_df_line.columns if x.startswith('std')]].reset_index().melt(var_name='duration',id_vars='time_window')\n",
    "# mean_df_line[['kind', 'duration']] = mean_df_line.duration.str.split('_', expand=True)\n",
    "# std_df_line[['kind', 'duration']] = std_df_line.duration.str.split('_', expand=True)"
   ]
  },
  {
   "cell_type": "code",
   "execution_count": 27,
   "metadata": {},
   "outputs": [],
   "source": [
    "# df_merged_mean_std = pd.merge(mean_df_line, std_df_line, on=['time_window', 'duration'])\n",
    "# df_merged_mean_std"
   ]
  },
  {
   "cell_type": "code",
   "execution_count": 28,
   "metadata": {},
   "outputs": [],
   "source": [
    "# # reshape dataframe using pivot\n",
    "# df_pivot = df_merged_mean_std.pivot(index=['time_window', 'duration'], columns=['kind_x','kind_y'], values=['value_x', 'value_y']).reset_index()\n",
    "\n",
    "# # rename columns\n",
    "# df_pivot.columns = ['time_window', 'duration', 'mean', 'std']\n",
    "\n",
    "# print(df_pivot)"
   ]
  },
  {
   "cell_type": "code",
   "execution_count": 29,
   "metadata": {},
   "outputs": [],
   "source": [
    "# df_pivot['minus_std'] = df_pivot['mean'] + (-1) * df_pivot['std']\n",
    "# df_pivot['pluse_std'] = df_pivot['mean'] + df_pivot['std']"
   ]
  },
  {
   "cell_type": "code",
   "execution_count": 30,
   "metadata": {
    "notebookRunGroups": {
     "groupValue": "1"
    }
   },
   "outputs": [],
   "source": [
    "# name_selection = alt.selection_multi(fields=['duration'], bind='legend')\n",
    "# lines = alt.Chart(df_pivot).mark_line().encode(\n",
    "#             alt.Y(\"mean:Q\",title='Mean CPU(%)'),\n",
    "#             alt.X(f\"time_window:Q\"),\n",
    "#             alt.Color('duration:N'),\n",
    "#             opacity=alt.condition(name_selection, alt.value(1), alt.value(0.1)),\n",
    "#         ).transform_filter(\n",
    "#     'isValid(datum.mean)'\n",
    "# )\n",
    "\n",
    "# # Create the shaded area for the standard deviation\n",
    "# band = alt.Chart(df_pivot).mark_errorband().encode(\n",
    "#     alt.Y(\"pluse_std:Q\"),\n",
    "#     alt.Y2(\"minus_std:Q\"),\n",
    "#     alt.X(f\"time_window:Q\"),\n",
    "#     alt.Color('duration:N'),\n",
    "#     opacity=alt.condition(name_selection, alt.value(0.2), alt.value(0.02)),\n",
    "#     # yError=\"std:Q\"\n",
    "# )\n",
    "# final_chart = (lines + band).properties(\n",
    "#             width=1500,\n",
    "#             height=500,\n",
    "#             title=\"Mean and Std CPU usage along the time over 4 duration\"\n",
    "#         ).add_selection(name_selection).configure_legend(\n",
    "#             labelLimit=10000,\n",
    "#             columns=4,\n",
    "#             labelFontSize=15\n",
    "#         )"
   ]
  },
  {
   "cell_type": "code",
   "execution_count": 31,
   "metadata": {},
   "outputs": [],
   "source": [
    "# with alt.data_transformers.enable('default'):\n",
    "#     final_chart.save(f\"interactive_line_all.html\")"
   ]
  },
  {
   "attachments": {},
   "cell_type": "markdown",
   "metadata": {},
   "source": [
    "Merge when all the experiments were ran for the same duration"
   ]
  },
  {
   "cell_type": "code",
   "execution_count": 32,
   "metadata": {},
   "outputs": [
    {
     "name": "stdout",
     "output_type": "stream",
     "text": [
      "Num of rules: 4\n"
     ]
    },
    {
     "data": {
      "text/html": [
       "<div>\n",
       "<style scoped>\n",
       "    .dataframe tbody tr th:only-of-type {\n",
       "        vertical-align: middle;\n",
       "    }\n",
       "\n",
       "    .dataframe tbody tr th {\n",
       "        vertical-align: top;\n",
       "    }\n",
       "\n",
       "    .dataframe thead th {\n",
       "        text-align: right;\n",
       "    }\n",
       "</style>\n",
       "<table border=\"1\" class=\"dataframe\">\n",
       "  <thead>\n",
       "    <tr style=\"text-align: right;\">\n",
       "      <th></th>\n",
       "      <th>mean</th>\n",
       "      <th>std</th>\n",
       "    </tr>\n",
       "    <tr>\n",
       "      <th>name</th>\n",
       "      <th></th>\n",
       "      <th></th>\n",
       "    </tr>\n",
       "  </thead>\n",
       "  <tbody>\n",
       "    <tr>\n",
       "      <th>Increase in # of Hosts Logged int</th>\n",
       "      <td>18.671352</td>\n",
       "      <td>0.949542</td>\n",
       "    </tr>\n",
       "    <tr>\n",
       "      <th>New Local Admin Account</th>\n",
       "      <td>9.974737</td>\n",
       "      <td>2.109131</td>\n",
       "    </tr>\n",
       "    <tr>\n",
       "      <th>User Login with Local Credentials</th>\n",
       "      <td>21.921265</td>\n",
       "      <td>1.433129</td>\n",
       "    </tr>\n",
       "    <tr>\n",
       "      <th>Windows Event Log Clearing Events</th>\n",
       "      <td>10.322703</td>\n",
       "      <td>1.379936</td>\n",
       "    </tr>\n",
       "  </tbody>\n",
       "</table>\n",
       "</div>"
      ],
      "text/plain": [
       "                                        mean       std\n",
       "name                                                  \n",
       "Increase in # of Hosts Logged int  18.671352  0.949542\n",
       "New Local Admin Account             9.974737  2.109131\n",
       "User Login with Local Credentials  21.921265  1.433129\n",
       "Windows Event Log Clearing Events  10.322703  1.379936"
      ]
     },
     "execution_count": 32,
     "metadata": {},
     "output_type": "execute_result"
    }
   ],
   "source": [
    "# concatenate the three data frames along the columns axis\n",
    "merged_df = pd.concat([x[['CPU(%)']] for x in relevant_processes_pid_names_grouped_dict.values()], axis=1)\n",
    "\n",
    "# compute the mean along the index axis\n",
    "mean_std_df = merged_df.agg(['mean', 'std'],axis=1)\n",
    "print(f\"Num of rules: {len(mean_std_df)}\")\n",
    "mean_std_df"
   ]
  },
  {
   "attachments": {},
   "cell_type": "markdown",
   "metadata": {},
   "source": [
    "Merge between the same duration"
   ]
  },
  {
   "cell_type": "code",
   "execution_count": 37,
   "metadata": {},
   "outputs": [
    {
     "data": {
      "text/html": [
       "<div>\n",
       "<style scoped>\n",
       "    .dataframe tbody tr th:only-of-type {\n",
       "        vertical-align: middle;\n",
       "    }\n",
       "\n",
       "    .dataframe tbody tr th {\n",
       "        vertical-align: top;\n",
       "    }\n",
       "\n",
       "    .dataframe thead th {\n",
       "        text-align: right;\n",
       "    }\n",
       "</style>\n",
       "<table border=\"1\" class=\"dataframe\">\n",
       "  <thead>\n",
       "    <tr style=\"text-align: right;\">\n",
       "      <th></th>\n",
       "      <th>mean_enable_24</th>\n",
       "      <th>std_enable_24</th>\n",
       "      <th>mean_enable_48</th>\n",
       "      <th>std_enable_48</th>\n",
       "      <th>mean_disable_24</th>\n",
       "      <th>std_disable_24</th>\n",
       "      <th>mean_disable_48</th>\n",
       "      <th>std_disable_48</th>\n",
       "    </tr>\n",
       "    <tr>\n",
       "      <th>name</th>\n",
       "      <th></th>\n",
       "      <th></th>\n",
       "      <th></th>\n",
       "      <th></th>\n",
       "      <th></th>\n",
       "      <th></th>\n",
       "      <th></th>\n",
       "      <th></th>\n",
       "    </tr>\n",
       "  </thead>\n",
       "  <tbody>\n",
       "    <tr>\n",
       "      <th>Increase in # of Hosts Logged int</th>\n",
       "      <td>18.110923</td>\n",
       "      <td>NaN</td>\n",
       "      <td>20.073151</td>\n",
       "      <td>NaN</td>\n",
       "      <td>18.440167</td>\n",
       "      <td>NaN</td>\n",
       "      <td>18.061169</td>\n",
       "      <td>NaN</td>\n",
       "    </tr>\n",
       "    <tr>\n",
       "      <th>New Local Admin Account</th>\n",
       "      <td>10.622258</td>\n",
       "      <td>NaN</td>\n",
       "      <td>11.705000</td>\n",
       "      <td>NaN</td>\n",
       "      <td>10.670690</td>\n",
       "      <td>NaN</td>\n",
       "      <td>6.901000</td>\n",
       "      <td>NaN</td>\n",
       "    </tr>\n",
       "    <tr>\n",
       "      <th>User Login with Local Credentials</th>\n",
       "      <td>20.523093</td>\n",
       "      <td>NaN</td>\n",
       "      <td>23.770132</td>\n",
       "      <td>NaN</td>\n",
       "      <td>22.281928</td>\n",
       "      <td>NaN</td>\n",
       "      <td>21.109907</td>\n",
       "      <td>NaN</td>\n",
       "    </tr>\n",
       "    <tr>\n",
       "      <th>Windows Event Log Clearing Events</th>\n",
       "      <td>10.854615</td>\n",
       "      <td>NaN</td>\n",
       "      <td>10.946000</td>\n",
       "      <td>NaN</td>\n",
       "      <td>11.223947</td>\n",
       "      <td>NaN</td>\n",
       "      <td>8.266250</td>\n",
       "      <td>NaN</td>\n",
       "    </tr>\n",
       "  </tbody>\n",
       "</table>\n",
       "</div>"
      ],
      "text/plain": [
       "                                   mean_enable_24  std_enable_24  \\\n",
       "name                                                               \n",
       "Increase in # of Hosts Logged int       18.110923            NaN   \n",
       "New Local Admin Account                 10.622258            NaN   \n",
       "User Login with Local Credentials       20.523093            NaN   \n",
       "Windows Event Log Clearing Events       10.854615            NaN   \n",
       "\n",
       "                                   mean_enable_48  std_enable_48  \\\n",
       "name                                                               \n",
       "Increase in # of Hosts Logged int       20.073151            NaN   \n",
       "New Local Admin Account                 11.705000            NaN   \n",
       "User Login with Local Credentials       23.770132            NaN   \n",
       "Windows Event Log Clearing Events       10.946000            NaN   \n",
       "\n",
       "                                   mean_disable_24  std_disable_24  \\\n",
       "name                                                                 \n",
       "Increase in # of Hosts Logged int        18.440167             NaN   \n",
       "New Local Admin Account                  10.670690             NaN   \n",
       "User Login with Local Credentials        22.281928             NaN   \n",
       "Windows Event Log Clearing Events        11.223947             NaN   \n",
       "\n",
       "                                   mean_disable_48  std_disable_48  \n",
       "name                                                                \n",
       "Increase in # of Hosts Logged int        18.061169             NaN  \n",
       "New Local Admin Account                   6.901000             NaN  \n",
       "User Login with Local Credentials        21.109907             NaN  \n",
       "Windows Event Log Clearing Events         8.266250             NaN  "
      ]
     },
     "execution_count": 37,
     "metadata": {},
     "output_type": "execute_result"
    }
   ],
   "source": [
    "# concatenate the three data frames along the columns axis\n",
    "merged_df = pd.concat([x[['CPU(%)']] for x in relevant_processes_pid_names_grouped_dict.values()], axis=1)\n",
    "num_of_different_durations = len([x for x in durations])\n",
    "# select even and odd columns from the 'CPU(%)' columns\n",
    "mean_std_df = pd.concat([merged_df.iloc[:, i::num_of_different_durations].agg(['mean', 'std'], axis=1).add_suffix('_'+str(durations[i])) for i in range(num_of_different_durations)], axis=1)\n",
    "# mean_std_df.iloc[:, 0:2].columns = mean_std_df.iloc[:, 0:2].add_suffix('_odd').columns\n",
    "# mean_std_df.iloc[:, 2:4].columns = mean_std_df.iloc[:, 2:4].add_suffix('_even').columns\n",
    "# print the final dataframe\n",
    "mean_std_df\n"
   ]
  },
  {
   "cell_type": "code",
   "execution_count": 39,
   "metadata": {},
   "outputs": [
    {
     "data": {
      "text/plain": [
       "['mean_enable_24', 'mean_enable_48', 'mean_disable_24', 'mean_disable_48']"
      ]
     },
     "execution_count": 39,
     "metadata": {},
     "output_type": "execute_result"
    }
   ],
   "source": [
    "mean_cols"
   ]
  },
  {
   "cell_type": "code",
   "execution_count": 40,
   "metadata": {},
   "outputs": [
    {
     "data": {
      "image/png": "[encoded data removed]",
      "text/plain": [
       "<Figure size 2000x900 with 1 Axes>"
      ]
     },
     "metadata": {},
     "output_type": "display_data"
    }
   ],
   "source": [
    "# Set up the figure\n",
    "# fig, ax = plt.subplots()\n",
    "# df_to_plot = mean_std_df.reset_index().fillna(0)\n",
    "# df_to_plot['std_15'] = df_to_plot['std_15'].astype(float)\n",
    "# df_to_plot['std_30'] = df_to_plot['std_30'].astype(float)\n",
    "# Plot the bars with error bars\n",
    "mean_cols = [f\"mean_{i}\" for i in durations]\n",
    "std_cols = [f\"std_{i}\" for i in durations]\n",
    "ax = mean_std_df.reset_index()[[\"name\"]+mean_cols].plot(x=\"name\", kind=\"bar\",capsize=4, rot=0, figsize=(20,9))\n",
    "# ax = mean_std_df.reset_index()[[\"name\"]+mean_cols].plot(x=\"name\", yerr=mean_std_df[std_cols].T.values, kind=\"bar\",capsize=4, rot=0, figsize=(20,9))\n",
    "# ax.bar(mean_std_df.reset_index()['name'], mean_std_df.reset_index()[['mean_0','mean_1']], capsize=5)\n",
    "# plt.rcParams[\"figure.figsize\"] = (20, 9)\n",
    "# Add axis labels and title\n",
    "ax.set_xlabel('Rule Name')\n",
    "ax.set_ylabel('Mean CPU(%)')\n",
    "ax.set_title('Bar chart with standard deviation error bars')\n",
    "# Rotate x-axis labels\n",
    "plt.xticks(rotation=45, ha='right')\n",
    "\n",
    "# Show the plot\n",
    "plt.show()\n"
   ]
  },
  {
   "cell_type": "code",
   "execution_count": 43,
   "metadata": {},
   "outputs": [
    {
     "data": {
      "text/plain": [
       "name\n",
       "Increase in # of Hosts Logged int    139.540020\n",
       "New Local Admin Account               32.323367\n",
       "User Login with Local Credentials    208.340708\n",
       "Windows Event Log Clearing Events     40.679437\n",
       "dtype: float64"
      ]
     },
     "execution_count": 43,
     "metadata": {},
     "output_type": "execute_result"
    }
   ],
   "source": [
    "relevant_processes_pid_names.groupby('name').apply(lambda g: integrate.trapz(g['CPU(%)'], x=g['delta_time']))"
   ]
  },
  {
   "cell_type": "code",
   "execution_count": 44,
   "metadata": {},
   "outputs": [
    {
     "data": {
      "text/plain": [
       "array([[Timestamp('2023-06-08 12:40:00.751596800+0000', tz='UTC'), 3666,\n",
       "        'splunkd', ..., 'Windows Event Log Clearing Events', 3666, 0.0],\n",
       "       [Timestamp('2023-06-08 12:40:00.934272256+0000', tz='UTC'), 3666,\n",
       "        'splunkd', ..., 'Windows Event Log Clearing Events', 3666,\n",
       "        0.182675456],\n",
       "       [Timestamp('2023-06-08 12:40:01.099630080+0000', tz='UTC'), 3666,\n",
       "        'splunkd', ..., 'Windows Event Log Clearing Events', 3666,\n",
       "        0.34803328],\n",
       "       ...,\n",
       "       [Timestamp('2023-06-08 12:40:12.189276416+0000', tz='UTC'), 4090,\n",
       "        'splunkd', ..., 'User Login with Local Credentials', 4090,\n",
       "        11.437679616],\n",
       "       [Timestamp('2023-06-08 12:40:12.252651264+0000', tz='UTC'), 4090,\n",
       "        'splunkd', ..., 'User Login with Local Credentials', 4090,\n",
       "        11.501054464],\n",
       "       [Timestamp('2023-06-08 12:40:12.327145984+0000', tz='UTC'), 4090,\n",
       "        'splunkd', ..., 'User Login with Local Credentials', 4090,\n",
       "        11.575549184]], dtype=object)"
      ]
     },
     "execution_count": 44,
     "metadata": {},
     "output_type": "execute_result"
    }
   ],
   "source": [
    "relevant_processes_pid_names.values"
   ]
  },
  {
   "cell_type": "code",
   "execution_count": 45,
   "metadata": {},
   "outputs": [
    {
     "data": {
      "text/html": [
       "<div>\n",
       "<style scoped>\n",
       "    .dataframe tbody tr th:only-of-type {\n",
       "        vertical-align: middle;\n",
       "    }\n",
       "\n",
       "    .dataframe tbody tr th {\n",
       "        vertical-align: top;\n",
       "    }\n",
       "\n",
       "    .dataframe thead th {\n",
       "        text-align: right;\n",
       "    }\n",
       "</style>\n",
       "<table border=\"1\" class=\"dataframe\">\n",
       "  <thead>\n",
       "    <tr style=\"text-align: right;\">\n",
       "      <th></th>\n",
       "      <th>mean_1</th>\n",
       "      <th>std_1</th>\n",
       "    </tr>\n",
       "    <tr>\n",
       "      <th>name</th>\n",
       "      <th></th>\n",
       "      <th></th>\n",
       "    </tr>\n",
       "  </thead>\n",
       "  <tbody>\n",
       "    <tr>\n",
       "      <th>Increase in # of Hosts Logged int</th>\n",
       "      <td>120.438259</td>\n",
       "      <td>21.381184</td>\n",
       "    </tr>\n",
       "    <tr>\n",
       "      <th>New Local Admin Account</th>\n",
       "      <td>34.747182</td>\n",
       "      <td>2.299977</td>\n",
       "    </tr>\n",
       "    <tr>\n",
       "      <th>User Login with Local Credentials</th>\n",
       "      <td>196.260893</td>\n",
       "      <td>39.319405</td>\n",
       "    </tr>\n",
       "    <tr>\n",
       "      <th>Windows Event Log Clearing Events</th>\n",
       "      <td>38.973061</td>\n",
       "      <td>5.370882</td>\n",
       "    </tr>\n",
       "  </tbody>\n",
       "</table>\n",
       "</div>"
      ],
      "text/plain": [
       "                                       mean_1      std_1\n",
       "name                                                    \n",
       "Increase in # of Hosts Logged int  120.438259  21.381184\n",
       "New Local Admin Account             34.747182   2.299977\n",
       "User Login with Local Credentials  196.260893  39.319405\n",
       "Windows Event Log Clearing Events   38.973061   5.370882"
      ]
     },
     "execution_count": 45,
     "metadata": {},
     "output_type": "execute_result"
    }
   ],
   "source": [
    "# concatenate the three data frames along the columns axis\n",
    "merged_df = pd.concat([x for x in relevant_names_inegral_dict.values()], axis=1)\n",
    "durations = [1]\n",
    "num_of_different_durations = len([x for x in durations])\n",
    "# select even and odd columns from the 'CPU(%)' columns\n",
    "mean_std_df = pd.concat([merged_df.iloc[:, i::num_of_different_durations].agg(['mean', 'std'], axis=1).add_suffix('_'+str(durations[i])) for i in range(num_of_different_durations)], axis=1)\n",
    "# mean_std_df.iloc[:, 0:2].columns = mean_std_df.iloc[:, 0:2].add_suffix('_odd').columns\n",
    "# mean_std_df.iloc[:, 2:4].columns = mean_std_df.iloc[:, 2:4].add_suffix('_even').columns\n",
    "# print the final dataframe\n",
    "mean_std_df"
   ]
  },
  {
   "cell_type": "code",
   "execution_count": 46,
   "metadata": {},
   "outputs": [
    {
     "data": {
      "image/png": "[encoded data removed]",
      "text/plain": [
       "<Figure size 2000x900 with 1 Axes>"
      ]
     },
     "metadata": {},
     "output_type": "display_data"
    }
   ],
   "source": [
    "\n",
    "# Set up the figure\n",
    "# fig, ax = plt.subplots()\n",
    "# df_to_plot = mean_std_df.reset_index().fillna(0)\n",
    "# df_to_plot['std_15'] = df_to_plot['std_15'].astype(float)\n",
    "# df_to_plot['std_30'] = df_to_plot['std_30'].astype(float)\n",
    "# Plot the bars with error bars\n",
    "mean_cols = [f\"mean_{i}\" for i in durations]\n",
    "std_cols = [f\"std_{i}\" for i in durations]\n",
    "ax = mean_std_df.reset_index()[[\"name\"]+mean_cols].plot(x=\"name\", yerr=mean_std_df[std_cols].T.values, kind=\"bar\", rot=0, capsize=4, figsize=(20,9))\n",
    "# ax.bar(mean_std_df.reset_index()['name'], mean_std_df.reset_index()[['mean_0','mean_1']], capsize=5)\n",
    "# plt.rcParams[\"figure.figsize\"] = (20, 9)\n",
    "# Add axis labels and title\n",
    "ax.set_xlabel('Rule Name')\n",
    "ax.set_ylabel('Mean Integral')\n",
    "ax.set_title('Integral of CPU over Time (Mean and Std)')\n",
    "# Rotate x-axis labels\n",
    "plt.xticks(rotation=45, ha='right')\n",
    "\n",
    "# Show the plot\n",
    "plt.show()"
   ]
  },
  {
   "cell_type": "code",
   "execution_count": 47,
   "metadata": {},
   "outputs": [
    {
     "data": {
      "text/plain": [
       "{'Windows Event Log Clearing Events': 39.66785027467283,\n",
       " 'New Local Admin Account': 35.41175174419554,\n",
       " 'Increase in # of Hosts Logged int': 111.11761702284639,\n",
       " 'User Login with Local Credentials': 172.57471908326698}"
      ]
     },
     "execution_count": 47,
     "metadata": {},
     "output_type": "execute_result"
    }
   ],
   "source": [
    "df.integral[0]"
   ]
  },
  {
   "cell_type": "code",
   "execution_count": 48,
   "metadata": {},
   "outputs": [],
   "source": [
    "sum_df = df\n",
    "sum_df['sum_integral'] = df.integral.apply(lambda x: sum(x.values()))"
   ]
  },
  {
   "cell_type": "code",
   "execution_count": 49,
   "metadata": {},
   "outputs": [
    {
     "data": {
      "text/html": [
       "<div>\n",
       "<style scoped>\n",
       "    .dataframe tbody tr th:only-of-type {\n",
       "        vertical-align: middle;\n",
       "    }\n",
       "\n",
       "    .dataframe tbody tr th {\n",
       "        vertical-align: top;\n",
       "    }\n",
       "\n",
       "    .dataframe thead th {\n",
       "        text-align: right;\n",
       "    }\n",
       "</style>\n",
       "<table border=\"1\" class=\"dataframe\">\n",
       "  <thead>\n",
       "    <tr style=\"text-align: right;\">\n",
       "      <th></th>\n",
       "      <th>integral</th>\n",
       "      <th>duration</th>\n",
       "      <th>measurment_num</th>\n",
       "      <th>kind</th>\n",
       "      <th>logs_number</th>\n",
       "      <th>sum_integral</th>\n",
       "    </tr>\n",
       "  </thead>\n",
       "  <tbody>\n",
       "    <tr>\n",
       "      <th>0</th>\n",
       "      <td>{'Windows Event Log Clearing Events': 39.66785...</td>\n",
       "      <td>enable_24</td>\n",
       "      <td>Measurement 22</td>\n",
       "      <td>lite</td>\n",
       "      <td>76</td>\n",
       "      <td>358.771938</td>\n",
       "    </tr>\n",
       "    <tr>\n",
       "      <th>1</th>\n",
       "      <td>{'New Local Admin Account': 32.91334126636185,...</td>\n",
       "      <td>enable_48</td>\n",
       "      <td>Measurement 23</td>\n",
       "      <td>lite</td>\n",
       "      <td>40</td>\n",
       "      <td>447.093561</td>\n",
       "    </tr>\n",
       "    <tr>\n",
       "      <th>2</th>\n",
       "      <td>{'Windows Event Log Clearing Events': 43.79784...</td>\n",
       "      <td>disable_24</td>\n",
       "      <td>Measurement 24</td>\n",
       "      <td>heavy</td>\n",
       "      <td>97</td>\n",
       "      <td>332.294769</td>\n",
       "    </tr>\n",
       "    <tr>\n",
       "      <th>3</th>\n",
       "      <td>{'Windows Event Log Clearing Events': 40.90465...</td>\n",
       "      <td>disable_48</td>\n",
       "      <td>Measurement 25</td>\n",
       "      <td>heavy</td>\n",
       "      <td>4</td>\n",
       "      <td>418.795795</td>\n",
       "    </tr>\n",
       "  </tbody>\n",
       "</table>\n",
       "</div>"
      ],
      "text/plain": [
       "                                            integral    duration  \\\n",
       "0  {'Windows Event Log Clearing Events': 39.66785...   enable_24   \n",
       "1  {'New Local Admin Account': 32.91334126636185,...   enable_48   \n",
       "2  {'Windows Event Log Clearing Events': 43.79784...  disable_24   \n",
       "3  {'Windows Event Log Clearing Events': 40.90465...  disable_48   \n",
       "\n",
       "   measurment_num   kind  logs_number  sum_integral  \n",
       "0  Measurement 22   lite           76    358.771938  \n",
       "1  Measurement 23   lite           40    447.093561  \n",
       "2  Measurement 24  heavy           97    332.294769  \n",
       "3  Measurement 25  heavy            4    418.795795  "
      ]
     },
     "execution_count": 49,
     "metadata": {},
     "output_type": "execute_result"
    }
   ],
   "source": [
    "sum_df"
   ]
  },
  {
   "cell_type": "code",
   "execution_count": 50,
   "metadata": {},
   "outputs": [
    {
     "name": "stderr",
     "output_type": "stream",
     "text": [
      "/tmp/ipykernel_5789/3215586396.py:1: FutureWarning: ['integral', 'measurment_num'] did not aggregate successfully. If any error is raised this will raise in a future version of pandas. Drop these columns/ops to avoid this warning.\n",
      "  df_group = sum_df.groupby(['duration','kind']).agg(['mean','std'])\n"
     ]
    },
    {
     "data": {
      "text/html": [
       "<div>\n",
       "<style scoped>\n",
       "    .dataframe tbody tr th:only-of-type {\n",
       "        vertical-align: middle;\n",
       "    }\n",
       "\n",
       "    .dataframe tbody tr th {\n",
       "        vertical-align: top;\n",
       "    }\n",
       "\n",
       "    .dataframe thead th {\n",
       "        text-align: right;\n",
       "    }\n",
       "</style>\n",
       "<table border=\"1\" class=\"dataframe\">\n",
       "  <thead>\n",
       "    <tr style=\"text-align: right;\">\n",
       "      <th></th>\n",
       "      <th>duration</th>\n",
       "      <th>kind</th>\n",
       "      <th>logs_number_mean</th>\n",
       "      <th>logs_number_std</th>\n",
       "      <th>sum_integral_mean</th>\n",
       "      <th>sum_integral_std</th>\n",
       "    </tr>\n",
       "  </thead>\n",
       "  <tbody>\n",
       "    <tr>\n",
       "      <th>0</th>\n",
       "      <td>disable_24</td>\n",
       "      <td>heavy</td>\n",
       "      <td>97.0</td>\n",
       "      <td>NaN</td>\n",
       "      <td>332.294769</td>\n",
       "      <td>NaN</td>\n",
       "    </tr>\n",
       "    <tr>\n",
       "      <th>1</th>\n",
       "      <td>disable_48</td>\n",
       "      <td>heavy</td>\n",
       "      <td>4.0</td>\n",
       "      <td>NaN</td>\n",
       "      <td>418.795795</td>\n",
       "      <td>NaN</td>\n",
       "    </tr>\n",
       "    <tr>\n",
       "      <th>2</th>\n",
       "      <td>enable_24</td>\n",
       "      <td>lite</td>\n",
       "      <td>76.0</td>\n",
       "      <td>NaN</td>\n",
       "      <td>358.771938</td>\n",
       "      <td>NaN</td>\n",
       "    </tr>\n",
       "    <tr>\n",
       "      <th>3</th>\n",
       "      <td>enable_48</td>\n",
       "      <td>lite</td>\n",
       "      <td>40.0</td>\n",
       "      <td>NaN</td>\n",
       "      <td>447.093561</td>\n",
       "      <td>NaN</td>\n",
       "    </tr>\n",
       "  </tbody>\n",
       "</table>\n",
       "</div>"
      ],
      "text/plain": [
       "     duration   kind  logs_number_mean  logs_number_std  sum_integral_mean  \\\n",
       "0  disable_24  heavy              97.0              NaN         332.294769   \n",
       "1  disable_48  heavy               4.0              NaN         418.795795   \n",
       "2   enable_24   lite              76.0              NaN         358.771938   \n",
       "3   enable_48   lite              40.0              NaN         447.093561   \n",
       "\n",
       "   sum_integral_std  \n",
       "0               NaN  \n",
       "1               NaN  \n",
       "2               NaN  \n",
       "3               NaN  "
      ]
     },
     "execution_count": 50,
     "metadata": {},
     "output_type": "execute_result"
    }
   ],
   "source": [
    "df_group = sum_df.groupby(['duration','kind']).agg(['mean','std'])\n",
    "df_group.columns = df_group.columns.to_flat_index()\n",
    "df_group = df_group.reset_index()\n",
    "df_group.columns = ['duration', 'kind','logs_number_mean','logs_number_std','sum_integral_mean','sum_integral_std']\n",
    "df_group"
   ]
  },
  {
   "cell_type": "code",
   "execution_count": 51,
   "metadata": {},
   "outputs": [
    {
     "data": {
      "text/html": [
       "<div>\n",
       "<style scoped>\n",
       "    .dataframe tbody tr th:only-of-type {\n",
       "        vertical-align: middle;\n",
       "    }\n",
       "\n",
       "    .dataframe tbody tr th {\n",
       "        vertical-align: top;\n",
       "    }\n",
       "\n",
       "    .dataframe thead th {\n",
       "        text-align: right;\n",
       "    }\n",
       "</style>\n",
       "<table border=\"1\" class=\"dataframe\">\n",
       "  <thead>\n",
       "    <tr style=\"text-align: right;\">\n",
       "      <th></th>\n",
       "      <th>duration</th>\n",
       "      <th>kind</th>\n",
       "      <th>logs_number_mean</th>\n",
       "      <th>logs_number_std</th>\n",
       "      <th>sum_integral_mean</th>\n",
       "      <th>sum_integral_std</th>\n",
       "      <th>logs_number_std2</th>\n",
       "      <th>sum_integral_std2</th>\n",
       "    </tr>\n",
       "  </thead>\n",
       "  <tbody>\n",
       "    <tr>\n",
       "      <th>0</th>\n",
       "      <td>disable_24</td>\n",
       "      <td>heavy</td>\n",
       "      <td>97.0</td>\n",
       "      <td>NaN</td>\n",
       "      <td>332.294769</td>\n",
       "      <td>NaN</td>\n",
       "      <td>NaN</td>\n",
       "      <td>NaN</td>\n",
       "    </tr>\n",
       "    <tr>\n",
       "      <th>1</th>\n",
       "      <td>disable_48</td>\n",
       "      <td>heavy</td>\n",
       "      <td>4.0</td>\n",
       "      <td>NaN</td>\n",
       "      <td>418.795795</td>\n",
       "      <td>NaN</td>\n",
       "      <td>NaN</td>\n",
       "      <td>NaN</td>\n",
       "    </tr>\n",
       "    <tr>\n",
       "      <th>2</th>\n",
       "      <td>enable_24</td>\n",
       "      <td>lite</td>\n",
       "      <td>76.0</td>\n",
       "      <td>NaN</td>\n",
       "      <td>358.771938</td>\n",
       "      <td>NaN</td>\n",
       "      <td>NaN</td>\n",
       "      <td>NaN</td>\n",
       "    </tr>\n",
       "    <tr>\n",
       "      <th>3</th>\n",
       "      <td>enable_48</td>\n",
       "      <td>lite</td>\n",
       "      <td>40.0</td>\n",
       "      <td>NaN</td>\n",
       "      <td>447.093561</td>\n",
       "      <td>NaN</td>\n",
       "      <td>NaN</td>\n",
       "      <td>NaN</td>\n",
       "    </tr>\n",
       "  </tbody>\n",
       "</table>\n",
       "</div>"
      ],
      "text/plain": [
       "     duration   kind  logs_number_mean  logs_number_std  sum_integral_mean  \\\n",
       "0  disable_24  heavy              97.0              NaN         332.294769   \n",
       "1  disable_48  heavy               4.0              NaN         418.795795   \n",
       "2   enable_24   lite              76.0              NaN         358.771938   \n",
       "3   enable_48   lite              40.0              NaN         447.093561   \n",
       "\n",
       "   sum_integral_std  logs_number_std2  sum_integral_std2  \n",
       "0               NaN               NaN                NaN  \n",
       "1               NaN               NaN                NaN  \n",
       "2               NaN               NaN                NaN  \n",
       "3               NaN               NaN                NaN  "
      ]
     },
     "execution_count": 51,
     "metadata": {},
     "output_type": "execute_result"
    }
   ],
   "source": [
    "df_group['logs_number_std2'] = df_group['logs_number_mean']-df_group.logs_number_std/2\n",
    "df_group['logs_number_std'] = df_group['logs_number_mean']+df_group.logs_number_std/2\n",
    "df_group['sum_integral_std2'] = df_group['sum_integral_mean']-df_group.sum_integral_std/2\n",
    "df_group['sum_integral_std'] = df_group['sum_integral_mean']+df_group.sum_integral_std/2\n",
    "df_group"
   ]
  },
  {
   "cell_type": "code",
   "execution_count": 52,
   "metadata": {},
   "outputs": [
    {
     "data": {
      "text/html": [
       "\n",
       "<style>\n",
       "  #altair-viz-700b0f0a5b4748a8b6dc9d97ab4fc7d6.vega-embed {\n",
       "    width: 100%;\n",
       "    display: flex;\n",
       "  }\n",
       "\n",
       "  #altair-viz-700b0f0a5b4748a8b6dc9d97ab4fc7d6.vega-embed details,\n",
       "  #altair-viz-700b0f0a5b4748a8b6dc9d97ab4fc7d6.vega-embed details summary {\n",
       "    position: relative;\n",
       "  }\n",
       "</style>\n",
       "<div id=\"altair-viz-700b0f0a5b4748a8b6dc9d97ab4fc7d6\"></div>\n",
       "<script type=\"text/javascript\">\n",
       "  var VEGA_DEBUG = (typeof VEGA_DEBUG == \"undefined\") ? {} : VEGA_DEBUG;\n",
       "  (function(spec, embedOpt){\n",
       "    let outputDiv = document.currentScript.previousElementSibling;\n",
       "    if (outputDiv.id !== \"altair-viz-700b0f0a5b4748a8b6dc9d97ab4fc7d6\") {\n",
       "      outputDiv = document.getElementById(\"altair-viz-700b0f0a5b4748a8b6dc9d97ab4fc7d6\");\n",
       "    }\n",
       "    const paths = {\n",
       "      \"vega\": \"https://cdn.jsdelivr.net/npm/vega@5?noext\",\n",
       "      \"vega-lib\": \"https://cdn.jsdelivr.net/npm/vega-lib?noext\",\n",
       "      \"vega-lite\": \"https://cdn.jsdelivr.net/npm/vega-lite@5.8.0?noext\",\n",
       "      \"vega-embed\": \"https://cdn.jsdelivr.net/npm/vega-embed@6?noext\",\n",
       "    };\n",
       "\n",
       "    function maybeLoadScript(lib, version) {\n",
       "      var key = `${lib.replace(\"-\", \"\")}_version`;\n",
       "      return (VEGA_DEBUG[key] == version) ?\n",
       "        Promise.resolve(paths[lib]) :\n",
       "        new Promise(function(resolve, reject) {\n",
       "          var s = document.createElement('script');\n",
       "          document.getElementsByTagName(\"head\")[0].appendChild(s);\n",
       "          s.async = true;\n",
       "          s.onload = () => {\n",
       "            VEGA_DEBUG[key] = version;\n",
       "            return resolve(paths[lib]);\n",
       "          };\n",
       "          s.onerror = () => reject(`Error loading script: ${paths[lib]}`);\n",
       "          s.src = paths[lib];\n",
       "        });\n",
       "    }\n",
       "\n",
       "    function showError(err) {\n",
       "      outputDiv.innerHTML = `<div class=\"error\" style=\"color:red;\">${err}</div>`;\n",
       "      throw err;\n",
       "    }\n",
       "\n",
       "    function displayChart(vegaEmbed) {\n",
       "      vegaEmbed(outputDiv, spec, embedOpt)\n",
       "        .catch(err => showError(`Javascript Error: ${err.message}<br>This usually means there's a typo in your chart specification. See the javascript console for the full traceback.`));\n",
       "    }\n",
       "\n",
       "    if(typeof define === \"function\" && define.amd) {\n",
       "      requirejs.config({paths});\n",
       "      require([\"vega-embed\"], displayChart, err => showError(`Error loading script: ${err.message}`));\n",
       "    } else {\n",
       "      maybeLoadScript(\"vega\", \"5\")\n",
       "        .then(() => maybeLoadScript(\"vega-lite\", \"5.8.0\"))\n",
       "        .then(() => maybeLoadScript(\"vega-embed\", \"6\"))\n",
       "        .catch(showError)\n",
       "        .then(() => displayChart(vegaEmbed));\n",
       "    }\n",
       "  })({\"config\": {\"view\": {\"continuousWidth\": 300, \"continuousHeight\": 300}}, \"data\": {\"url\": \"altair-data-0e553bdfab9fc9360f49509a04cb6287.csv\", \"format\": {\"type\": \"csv\"}}, \"mark\": {\"type\": \"line\", \"point\": true}, \"encoding\": {\"x\": {\"field\": \"logs_number_mean\", \"title\": \"Count of ingested logs quantity\", \"type\": \"quantitative\"}, \"y\": {\"field\": \"sum_integral_mean\", \"title\": \"Sum CPU(%) Integral over Time\", \"type\": \"quantitative\"}}, \"height\": 400, \"title\": \"\", \"width\": 1000, \"$schema\": \"https://vega.github.io/schema/vega-lite/v5.8.0.json\"}, {\"mode\": \"vega-lite\"});\n",
       "</script>"
      ],
      "text/plain": [
       "alt.Chart(...)"
      ]
     },
     "execution_count": 52,
     "metadata": {},
     "output_type": "execute_result"
    }
   ],
   "source": [
    "line = alt.Chart(df_group).mark_line(point=True).encode(\n",
    "            alt.Y(\"sum_integral_mean:Q\",title='Sum CPU(%) Integral over Time'),\n",
    "            alt.X(f\"logs_number_mean:Q\",title='Count of ingested logs quantity'),\n",
    "        ).properties(\n",
    "    width=1000,\n",
    "    height=400,\n",
    "    title=''\n",
    ")\n",
    "line"
   ]
  },
  {
   "cell_type": "code",
   "execution_count": 53,
   "metadata": {},
   "outputs": [
    {
     "ename": "NameError",
     "evalue": "name 'x' is not defined",
     "output_type": "error",
     "traceback": [
      "\u001b[0;31m---------------------------------------------------------------------------\u001b[0m",
      "\u001b[0;31mNameError\u001b[0m                                 Traceback (most recent call last)",
      "Cell \u001b[0;32mIn[53], line 1\u001b[0m\n\u001b[0;32m----> 1\u001b[0m x\n",
      "\u001b[0;31mNameError\u001b[0m: name 'x' is not defined"
     ]
    }
   ],
   "source": [
    "x"
   ]
  },
  {
   "cell_type": "code",
   "execution_count": 54,
   "metadata": {},
   "outputs": [
    {
     "data": {
      "text/html": [
       "<div>\n",
       "<style scoped>\n",
       "    .dataframe tbody tr th:only-of-type {\n",
       "        vertical-align: middle;\n",
       "    }\n",
       "\n",
       "    .dataframe tbody tr th {\n",
       "        vertical-align: top;\n",
       "    }\n",
       "\n",
       "    .dataframe thead th {\n",
       "        text-align: right;\n",
       "    }\n",
       "</style>\n",
       "<table border=\"1\" class=\"dataframe\">\n",
       "  <thead>\n",
       "    <tr style=\"text-align: right;\">\n",
       "      <th></th>\n",
       "      <th>integral</th>\n",
       "      <th>duration</th>\n",
       "      <th>measurment_num</th>\n",
       "      <th>kind</th>\n",
       "      <th>logs_number</th>\n",
       "      <th>sum_integral</th>\n",
       "    </tr>\n",
       "  </thead>\n",
       "  <tbody>\n",
       "    <tr>\n",
       "      <th>0</th>\n",
       "      <td>{'Windows Event Log Clearing Events': 39.66785...</td>\n",
       "      <td>enable_24</td>\n",
       "      <td>Measurement 22</td>\n",
       "      <td>lite</td>\n",
       "      <td>76</td>\n",
       "      <td>358.771938</td>\n",
       "    </tr>\n",
       "    <tr>\n",
       "      <th>1</th>\n",
       "      <td>{'New Local Admin Account': 32.91334126636185,...</td>\n",
       "      <td>enable_48</td>\n",
       "      <td>Measurement 23</td>\n",
       "      <td>lite</td>\n",
       "      <td>40</td>\n",
       "      <td>447.093561</td>\n",
       "    </tr>\n",
       "    <tr>\n",
       "      <th>2</th>\n",
       "      <td>{'Windows Event Log Clearing Events': 43.79784...</td>\n",
       "      <td>disable_24</td>\n",
       "      <td>Measurement 24</td>\n",
       "      <td>heavy</td>\n",
       "      <td>97</td>\n",
       "      <td>332.294769</td>\n",
       "    </tr>\n",
       "    <tr>\n",
       "      <th>3</th>\n",
       "      <td>{'Windows Event Log Clearing Events': 40.90465...</td>\n",
       "      <td>disable_48</td>\n",
       "      <td>Measurement 25</td>\n",
       "      <td>heavy</td>\n",
       "      <td>4</td>\n",
       "      <td>418.795795</td>\n",
       "    </tr>\n",
       "  </tbody>\n",
       "</table>\n",
       "</div>"
      ],
      "text/plain": [
       "                                            integral    duration  \\\n",
       "0  {'Windows Event Log Clearing Events': 39.66785...   enable_24   \n",
       "1  {'New Local Admin Account': 32.91334126636185,...   enable_48   \n",
       "2  {'Windows Event Log Clearing Events': 43.79784...  disable_24   \n",
       "3  {'Windows Event Log Clearing Events': 40.90465...  disable_48   \n",
       "\n",
       "   measurment_num   kind  logs_number  sum_integral  \n",
       "0  Measurement 22   lite           76    358.771938  \n",
       "1  Measurement 23   lite           40    447.093561  \n",
       "2  Measurement 24  heavy           97    332.294769  \n",
       "3  Measurement 25  heavy            4    418.795795  "
      ]
     },
     "execution_count": 54,
     "metadata": {},
     "output_type": "execute_result"
    }
   ],
   "source": [
    "sum_df"
   ]
  },
  {
   "attachments": {},
   "cell_type": "markdown",
   "metadata": {},
   "source": []
  },
  {
   "cell_type": "code",
   "execution_count": 55,
   "metadata": {},
   "outputs": [],
   "source": [
    "x = sum_df.pivot_table(columns=['kind'], index=['logs_number','duration'], values='sum_integral').reset_index().groupby('duration').agg(['mean','std']).fillna(0)\n",
    "x.columns = x.columns.to_flat_index()\n",
    "x.columns = ['logs_number_mean','logs_number_std','heavy_sum_integral_mean','heavy_sum_integral_std','lite_sum_integral_mean','lite_sum_integral_std']"
   ]
  },
  {
   "cell_type": "code",
   "execution_count": 56,
   "metadata": {},
   "outputs": [
    {
     "data": {
      "text/plain": [
       "<Axes: xlabel='logs_number_mean'>"
      ]
     },
     "execution_count": 56,
     "metadata": {},
     "output_type": "execute_result"
    },
    {
     "data": {
      "image/png": "[encoded data removed]",
      "text/plain": [
       "<Figure size 640x480 with 1 Axes>"
      ]
     },
     "metadata": {},
     "output_type": "display_data"
    }
   ],
   "source": [
    "x.plot(x='logs_number_mean',y=['lite_sum_integral_mean', 'heavy_sum_integral_mean'], yerr=x[['lite_sum_integral_std', 'heavy_sum_integral_std']], capsize=40)"
   ]
  },
  {
   "cell_type": "code",
   "execution_count": 57,
   "metadata": {},
   "outputs": [
    {
     "ename": "ValueError",
     "evalue": "Faceted charts cannot be layered. Instead, layer the charts before faceting.",
     "output_type": "error",
     "traceback": [
      "\u001b[0;31m---------------------------------------------------------------------------\u001b[0m",
      "\u001b[0;31mValueError\u001b[0m                                Traceback (most recent call last)",
      "Cell \u001b[0;32mIn[57], line 24\u001b[0m\n\u001b[1;32m     21\u001b[0m stderr \u001b[39m=\u001b[39m df_group\u001b[39m.\u001b[39mgroupby([\u001b[39m'\u001b[39m\u001b[39mduration\u001b[39m\u001b[39m'\u001b[39m, \u001b[39m'\u001b[39m\u001b[39mkind\u001b[39m\u001b[39m'\u001b[39m])\u001b[39m.\u001b[39magg(\u001b[39m'\u001b[39m\u001b[39mstd\u001b[39m\u001b[39m'\u001b[39m) \u001b[39m/\u001b[39m df_group\u001b[39m.\u001b[39mgroupby([\u001b[39m'\u001b[39m\u001b[39mduration\u001b[39m\u001b[39m'\u001b[39m, \u001b[39m'\u001b[39m\u001b[39mkind\u001b[39m\u001b[39m'\u001b[39m])\u001b[39m.\u001b[39magg(\u001b[39m'\u001b[39m\u001b[39mcount\u001b[39m\u001b[39m'\u001b[39m)\n\u001b[1;32m     23\u001b[0m \u001b[39m# Layer the error bars on top of the base chart\u001b[39;00m\n\u001b[0;32m---> 24\u001b[0m chart \u001b[39m=\u001b[39m (base_chart \u001b[39m+\u001b[39;49m error_bars_chart)\u001b[39m.\u001b[39mtransform_calculate(\n\u001b[1;32m     25\u001b[0m     stderr\u001b[39m=\u001b[39malt\u001b[39m.\u001b[39mdatum[\u001b[39m'\u001b[39m\u001b[39mstd\u001b[39m\u001b[39m'\u001b[39m] \u001b[39m/\u001b[39m alt\u001b[39m.\u001b[39mdatum[\u001b[39m'\u001b[39m\u001b[39mcount\u001b[39m\u001b[39m'\u001b[39m]\u001b[39m*\u001b[39m\u001b[39m*\u001b[39m\u001b[39m0.5\u001b[39m\n\u001b[1;32m     26\u001b[0m )\u001b[39m.\u001b[39mproperties(\n\u001b[1;32m     27\u001b[0m     title\u001b[39m=\u001b[39m\u001b[39m'\u001b[39m\u001b[39mMean and Standard Deviation with Error Bars\u001b[39m\u001b[39m'\u001b[39m\n\u001b[1;32m     28\u001b[0m )\n\u001b[1;32m     30\u001b[0m chart\u001b[39m.\u001b[39mshow()\n",
      "File \u001b[0;32m~/anaconda3/envs/py38/lib/python3.8/site-packages/altair/vegalite/v5/api.py:955\u001b[0m, in \u001b[0;36mTopLevelMixin.__add__\u001b[0;34m(self, other)\u001b[0m\n\u001b[1;32m    953\u001b[0m \u001b[39mif\u001b[39;00m \u001b[39mnot\u001b[39;00m \u001b[39misinstance\u001b[39m(other, TopLevelMixin):\n\u001b[1;32m    954\u001b[0m     \u001b[39mraise\u001b[39;00m \u001b[39mValueError\u001b[39;00m(\u001b[39m\"\u001b[39m\u001b[39mOnly Chart objects can be layered.\u001b[39m\u001b[39m\"\u001b[39m)\n\u001b[0;32m--> 955\u001b[0m \u001b[39mreturn\u001b[39;00m layer(\u001b[39mself\u001b[39;49m, other)\n",
      "File \u001b[0;32m~/anaconda3/envs/py38/lib/python3.8/site-packages/altair/vegalite/v5/api.py:3053\u001b[0m, in \u001b[0;36mlayer\u001b[0;34m(*charts, **kwargs)\u001b[0m\n\u001b[1;32m   3051\u001b[0m \u001b[39mdef\u001b[39;00m \u001b[39mlayer\u001b[39m(\u001b[39m*\u001b[39mcharts, \u001b[39m*\u001b[39m\u001b[39m*\u001b[39mkwargs):\n\u001b[1;32m   3052\u001b[0m \u001b[39m    \u001b[39m\u001b[39m\"\"\"layer multiple charts\"\"\"\u001b[39;00m\n\u001b[0;32m-> 3053\u001b[0m     \u001b[39mreturn\u001b[39;00m LayerChart(layer\u001b[39m=\u001b[39;49mcharts, \u001b[39m*\u001b[39;49m\u001b[39m*\u001b[39;49mkwargs)\n",
      "File \u001b[0;32m~/anaconda3/envs/py38/lib/python3.8/site-packages/altair/vegalite/v5/api.py:2973\u001b[0m, in \u001b[0;36mLayerChart.__init__\u001b[0;34m(self, data, layer, **kwargs)\u001b[0m\n\u001b[1;32m   2971\u001b[0m \u001b[39mfor\u001b[39;00m spec \u001b[39min\u001b[39;00m layer:\n\u001b[1;32m   2972\u001b[0m     _check_if_valid_subspec(spec, \u001b[39m\"\u001b[39m\u001b[39mLayerChart\u001b[39m\u001b[39m\"\u001b[39m)\n\u001b[0;32m-> 2973\u001b[0m     _check_if_can_be_layered(spec)\n\u001b[1;32m   2974\u001b[0m \u001b[39msuper\u001b[39m(LayerChart, \u001b[39mself\u001b[39m)\u001b[39m.\u001b[39m\u001b[39m__init__\u001b[39m(data\u001b[39m=\u001b[39mdata, layer\u001b[39m=\u001b[39m\u001b[39mlist\u001b[39m(layer), \u001b[39m*\u001b[39m\u001b[39m*\u001b[39mkwargs)\n\u001b[1;32m   2975\u001b[0m \u001b[39mself\u001b[39m\u001b[39m.\u001b[39mdata, \u001b[39mself\u001b[39m\u001b[39m.\u001b[39mlayer \u001b[39m=\u001b[39m _combine_subchart_data(\u001b[39mself\u001b[39m\u001b[39m.\u001b[39mdata, \u001b[39mself\u001b[39m\u001b[39m.\u001b[39mlayer)\n",
      "File \u001b[0;32m~/anaconda3/envs/py38/lib/python3.8/site-packages/altair/vegalite/v5/api.py:2595\u001b[0m, in \u001b[0;36m_check_if_can_be_layered\u001b[0;34m(spec)\u001b[0m\n\u001b[1;32m   2593\u001b[0m     \u001b[39mfor\u001b[39;00m channel \u001b[39min\u001b[39;00m [\u001b[39m\"\u001b[39m\u001b[39mrow\u001b[39m\u001b[39m\"\u001b[39m, \u001b[39m\"\u001b[39m\u001b[39mcolumn\u001b[39m\u001b[39m\"\u001b[39m, \u001b[39m\"\u001b[39m\u001b[39mfacet\u001b[39m\u001b[39m\"\u001b[39m]:\n\u001b[1;32m   2594\u001b[0m         \u001b[39mif\u001b[39;00m _get(encoding, channel) \u001b[39mis\u001b[39;00m \u001b[39mnot\u001b[39;00m Undefined:\n\u001b[0;32m-> 2595\u001b[0m             \u001b[39mraise\u001b[39;00m \u001b[39mValueError\u001b[39;00m(\n\u001b[1;32m   2596\u001b[0m                 \u001b[39m\"\u001b[39m\u001b[39mFaceted charts cannot be layered. Instead, layer the charts before faceting.\u001b[39m\u001b[39m\"\u001b[39m\n\u001b[1;32m   2597\u001b[0m             )\n\u001b[1;32m   2598\u001b[0m \u001b[39mif\u001b[39;00m \u001b[39misinstance\u001b[39m(spec, (Chart, LayerChart)):\n\u001b[1;32m   2599\u001b[0m     \u001b[39mreturn\u001b[39;00m\n",
      "\u001b[0;31mValueError\u001b[0m: Faceted charts cannot be layered. Instead, layer the charts before faceting."
     ]
    }
   ],
   "source": [
    "import altair as alt\n",
    "\n",
    "# Melt the dataframe to long format\n",
    "df_long = df_group.melt(id_vars=['duration', 'kind'])\n",
    "\n",
    "# Define the base chart with faceting\n",
    "base_chart = alt.Chart(df_long).mark_line(point=True).encode(\n",
    "    alt.Y('value:Q', title='Mean and Standard Deviation'),\n",
    "    alt.X('logs_number:Q'),\n",
    "    alt.Color('kind:N'),\n",
    "    facet=alt.Facet('stat:N', title=None, columns=2),\n",
    ")\n",
    "\n",
    "# Add error bars to each panel\n",
    "error_bars_chart = base_chart.mark_errorbar().encode(\n",
    "    y='value:Q',\n",
    "    yError='stderr:Q',\n",
    ")\n",
    "\n",
    "# Calculate the standard error of the mean for each group\n",
    "stderr = df_group.groupby(['duration', 'kind']).agg('std') / df_group.groupby(['duration', 'kind']).agg('count')\n",
    "\n",
    "# Layer the error bars on top of the base chart\n",
    "chart = (base_chart + error_bars_chart).transform_calculate(\n",
    "    stderr=alt.datum['std'] / alt.datum['count']**0.5\n",
    ").properties(\n",
    "    title='Mean and Standard Deviation with Error Bars'\n",
    ")\n",
    "\n",
    "chart.show()\n"
   ]
  },
  {
   "cell_type": "code",
   "execution_count": null,
   "metadata": {},
   "outputs": [
    {
     "ename": "TypeError",
     "evalue": "no numeric data to plot",
     "output_type": "error",
     "traceback": [
      "\u001b[0;31m---------------------------------------------------------------------------\u001b[0m",
      "\u001b[0;31mTypeError\u001b[0m                                 Traceback (most recent call last)",
      "File \u001b[0;32m~/anaconda3/envs/py38/lib/python3.8/site-packages/pandas/core/groupby/groupby.py:1558\u001b[0m, in \u001b[0;36mGroupBy.apply\u001b[0;34m(self, func, *args, **kwargs)\u001b[0m\n\u001b[1;32m   1557\u001b[0m \u001b[39mtry\u001b[39;00m:\n\u001b[0;32m-> 1558\u001b[0m     result \u001b[39m=\u001b[39m \u001b[39mself\u001b[39;49m\u001b[39m.\u001b[39;49m_python_apply_general(f, \u001b[39mself\u001b[39;49m\u001b[39m.\u001b[39;49m_selected_obj)\n\u001b[1;32m   1559\u001b[0m \u001b[39mexcept\u001b[39;00m \u001b[39mTypeError\u001b[39;00m:\n\u001b[1;32m   1560\u001b[0m     \u001b[39m# gh-20949\u001b[39;00m\n\u001b[1;32m   1561\u001b[0m     \u001b[39m# try again, with .apply acting as a filtering\u001b[39;00m\n\u001b[0;32m   (...)\u001b[0m\n\u001b[1;32m   1565\u001b[0m     \u001b[39m# fails on *some* columns, e.g. a numeric operation\u001b[39;00m\n\u001b[1;32m   1566\u001b[0m     \u001b[39m# on a string grouper column\u001b[39;00m\n",
      "File \u001b[0;32m~/anaconda3/envs/py38/lib/python3.8/site-packages/pandas/core/groupby/groupby.py:1610\u001b[0m, in \u001b[0;36mGroupBy._python_apply_general\u001b[0;34m(self, f, data, not_indexed_same, is_transform, is_agg)\u001b[0m\n\u001b[1;32m   1582\u001b[0m \u001b[39m\u001b[39m\u001b[39m\"\"\"\u001b[39;00m\n\u001b[1;32m   1583\u001b[0m \u001b[39mApply function f in python space\u001b[39;00m\n\u001b[1;32m   1584\u001b[0m \n\u001b[0;32m   (...)\u001b[0m\n\u001b[1;32m   1608\u001b[0m \u001b[39m    data after applying f\u001b[39;00m\n\u001b[1;32m   1609\u001b[0m \u001b[39m\"\"\"\u001b[39;00m\n\u001b[0;32m-> 1610\u001b[0m values, mutated \u001b[39m=\u001b[39m \u001b[39mself\u001b[39;49m\u001b[39m.\u001b[39;49mgrouper\u001b[39m.\u001b[39;49mapply(f, data, \u001b[39mself\u001b[39;49m\u001b[39m.\u001b[39;49maxis)\n\u001b[1;32m   1611\u001b[0m \u001b[39mif\u001b[39;00m not_indexed_same \u001b[39mis\u001b[39;00m \u001b[39mNone\u001b[39;00m:\n",
      "File \u001b[0;32m~/anaconda3/envs/py38/lib/python3.8/site-packages/pandas/core/groupby/ops.py:839\u001b[0m, in \u001b[0;36mBaseGrouper.apply\u001b[0;34m(self, f, data, axis)\u001b[0m\n\u001b[1;32m    838\u001b[0m group_axes \u001b[39m=\u001b[39m group\u001b[39m.\u001b[39maxes\n\u001b[0;32m--> 839\u001b[0m res \u001b[39m=\u001b[39m f(group)\n\u001b[1;32m    840\u001b[0m \u001b[39mif\u001b[39;00m \u001b[39mnot\u001b[39;00m mutated \u001b[39mand\u001b[39;00m \u001b[39mnot\u001b[39;00m _is_indexed_like(res, group_axes, axis):\n",
      "File \u001b[0;32m~/anaconda3/envs/py38/lib/python3.8/site-packages/pandas/core/groupby/groupby.py:603\u001b[0m, in \u001b[0;36mGroupByPlot.__call__.<locals>.f\u001b[0;34m(self)\u001b[0m\n\u001b[1;32m    602\u001b[0m \u001b[39mdef\u001b[39;00m \u001b[39mf\u001b[39m(\u001b[39mself\u001b[39m):\n\u001b[0;32m--> 603\u001b[0m     \u001b[39mreturn\u001b[39;00m \u001b[39mself\u001b[39;49m\u001b[39m.\u001b[39;49mplot(\u001b[39m*\u001b[39;49margs, \u001b[39m*\u001b[39;49m\u001b[39m*\u001b[39;49mkwargs)\n",
      "File \u001b[0;32m~/anaconda3/envs/py38/lib/python3.8/site-packages/pandas/plotting/_core.py:1000\u001b[0m, in \u001b[0;36mPlotAccessor.__call__\u001b[0;34m(self, *args, **kwargs)\u001b[0m\n\u001b[1;32m    998\u001b[0m             data\u001b[39m.\u001b[39mcolumns \u001b[39m=\u001b[39m label_name\n\u001b[0;32m-> 1000\u001b[0m \u001b[39mreturn\u001b[39;00m plot_backend\u001b[39m.\u001b[39;49mplot(data, kind\u001b[39m=\u001b[39;49mkind, \u001b[39m*\u001b[39;49m\u001b[39m*\u001b[39;49mkwargs)\n",
      "File \u001b[0;32m~/anaconda3/envs/py38/lib/python3.8/site-packages/pandas/plotting/_matplotlib/__init__.py:71\u001b[0m, in \u001b[0;36mplot\u001b[0;34m(data, kind, **kwargs)\u001b[0m\n\u001b[1;32m     70\u001b[0m plot_obj \u001b[39m=\u001b[39m PLOT_CLASSES[kind](data, \u001b[39m*\u001b[39m\u001b[39m*\u001b[39mkwargs)\n\u001b[0;32m---> 71\u001b[0m plot_obj\u001b[39m.\u001b[39;49mgenerate()\n\u001b[1;32m     72\u001b[0m plot_obj\u001b[39m.\u001b[39mdraw()\n",
      "File \u001b[0;32m~/anaconda3/envs/py38/lib/python3.8/site-packages/pandas/plotting/_matplotlib/core.py:450\u001b[0m, in \u001b[0;36mMPLPlot.generate\u001b[0;34m(self)\u001b[0m\n\u001b[1;32m    449\u001b[0m \u001b[39mself\u001b[39m\u001b[39m.\u001b[39m_args_adjust()\n\u001b[0;32m--> 450\u001b[0m \u001b[39mself\u001b[39;49m\u001b[39m.\u001b[39;49m_compute_plot_data()\n\u001b[1;32m    451\u001b[0m \u001b[39mself\u001b[39m\u001b[39m.\u001b[39m_setup_subplots()\n",
      "File \u001b[0;32m~/anaconda3/envs/py38/lib/python3.8/site-packages/pandas/plotting/_matplotlib/core.py:635\u001b[0m, in \u001b[0;36mMPLPlot._compute_plot_data\u001b[0;34m(self)\u001b[0m\n\u001b[1;32m    634\u001b[0m \u001b[39mif\u001b[39;00m is_empty:\n\u001b[0;32m--> 635\u001b[0m     \u001b[39mraise\u001b[39;00m \u001b[39mTypeError\u001b[39;00m(\u001b[39m\"\u001b[39m\u001b[39mno numeric data to plot\u001b[39m\u001b[39m\"\u001b[39m)\n\u001b[1;32m    637\u001b[0m \u001b[39mself\u001b[39m\u001b[39m.\u001b[39mdata \u001b[39m=\u001b[39m numeric_data\u001b[39m.\u001b[39mapply(\u001b[39mself\u001b[39m\u001b[39m.\u001b[39m_convert_to_ndarray)\n",
      "\u001b[0;31mTypeError\u001b[0m: no numeric data to plot",
      "\nDuring handling of the above exception, another exception occurred:\n",
      "\u001b[0;31mTypeError\u001b[0m                                 Traceback (most recent call last)",
      "Cell \u001b[0;32mIn[86], line 1\u001b[0m\n\u001b[0;32m----> 1\u001b[0m df\u001b[39m.\u001b[39;49mgroupby([\u001b[39m'\u001b[39;49m\u001b[39mduration\u001b[39;49m\u001b[39m'\u001b[39;49m,\u001b[39m'\u001b[39;49m\u001b[39mkind\u001b[39;49m\u001b[39m'\u001b[39;49m])\u001b[39m.\u001b[39;49mplot(x\u001b[39m=\u001b[39;49m\u001b[39m'\u001b[39;49m\u001b[39mlogs_number\u001b[39;49m\u001b[39m'\u001b[39;49m, y\u001b[39m=\u001b[39;49m\u001b[39m'\u001b[39;49m\u001b[39mintegral\u001b[39;49m\u001b[39m'\u001b[39;49m,kind\u001b[39m=\u001b[39;49m\u001b[39m'\u001b[39;49m\u001b[39mbar\u001b[39;49m\u001b[39m'\u001b[39;49m)\n",
      "File \u001b[0;32m~/anaconda3/envs/py38/lib/python3.8/site-packages/pandas/core/groupby/groupby.py:606\u001b[0m, in \u001b[0;36mGroupByPlot.__call__\u001b[0;34m(self, *args, **kwargs)\u001b[0m\n\u001b[1;32m    603\u001b[0m     \u001b[39mreturn\u001b[39;00m \u001b[39mself\u001b[39m\u001b[39m.\u001b[39mplot(\u001b[39m*\u001b[39margs, \u001b[39m*\u001b[39m\u001b[39m*\u001b[39mkwargs)\n\u001b[1;32m    605\u001b[0m f\u001b[39m.\u001b[39m\u001b[39m__name__\u001b[39m \u001b[39m=\u001b[39m \u001b[39m\"\u001b[39m\u001b[39mplot\u001b[39m\u001b[39m\"\u001b[39m\n\u001b[0;32m--> 606\u001b[0m \u001b[39mreturn\u001b[39;00m \u001b[39mself\u001b[39;49m\u001b[39m.\u001b[39;49m_groupby\u001b[39m.\u001b[39;49mapply(f)\n",
      "File \u001b[0;32m~/anaconda3/envs/py38/lib/python3.8/site-packages/pandas/core/groupby/groupby.py:1569\u001b[0m, in \u001b[0;36mGroupBy.apply\u001b[0;34m(self, func, *args, **kwargs)\u001b[0m\n\u001b[1;32m   1559\u001b[0m     \u001b[39mexcept\u001b[39;00m \u001b[39mTypeError\u001b[39;00m:\n\u001b[1;32m   1560\u001b[0m         \u001b[39m# gh-20949\u001b[39;00m\n\u001b[1;32m   1561\u001b[0m         \u001b[39m# try again, with .apply acting as a filtering\u001b[39;00m\n\u001b[0;32m   (...)\u001b[0m\n\u001b[1;32m   1565\u001b[0m         \u001b[39m# fails on *some* columns, e.g. a numeric operation\u001b[39;00m\n\u001b[1;32m   1566\u001b[0m         \u001b[39m# on a string grouper column\u001b[39;00m\n\u001b[1;32m   1568\u001b[0m         \u001b[39mwith\u001b[39;00m \u001b[39mself\u001b[39m\u001b[39m.\u001b[39m_group_selection_context():\n\u001b[0;32m-> 1569\u001b[0m             \u001b[39mreturn\u001b[39;00m \u001b[39mself\u001b[39;49m\u001b[39m.\u001b[39;49m_python_apply_general(f, \u001b[39mself\u001b[39;49m\u001b[39m.\u001b[39;49m_selected_obj)\n\u001b[1;32m   1571\u001b[0m \u001b[39mreturn\u001b[39;00m result\n",
      "File \u001b[0;32m~/anaconda3/envs/py38/lib/python3.8/site-packages/pandas/core/groupby/groupby.py:1610\u001b[0m, in \u001b[0;36mGroupBy._python_apply_general\u001b[0;34m(self, f, data, not_indexed_same, is_transform, is_agg)\u001b[0m\n\u001b[1;32m   1573\u001b[0m \u001b[39m@final\u001b[39m\n\u001b[1;32m   1574\u001b[0m \u001b[39mdef\u001b[39;00m \u001b[39m_python_apply_general\u001b[39m(\n\u001b[1;32m   1575\u001b[0m     \u001b[39mself\u001b[39m,\n\u001b[0;32m   (...)\u001b[0m\n\u001b[1;32m   1580\u001b[0m     is_agg: \u001b[39mbool\u001b[39m \u001b[39m=\u001b[39m \u001b[39mFalse\u001b[39;00m,\n\u001b[1;32m   1581\u001b[0m ) \u001b[39m-\u001b[39m\u001b[39m>\u001b[39m NDFrameT:\n\u001b[1;32m   1582\u001b[0m \u001b[39m    \u001b[39m\u001b[39m\"\"\"\u001b[39;00m\n\u001b[1;32m   1583\u001b[0m \u001b[39m    Apply function f in python space\u001b[39;00m\n\u001b[1;32m   1584\u001b[0m \n\u001b[0;32m   (...)\u001b[0m\n\u001b[1;32m   1608\u001b[0m \u001b[39m        data after applying f\u001b[39;00m\n\u001b[1;32m   1609\u001b[0m \u001b[39m    \"\"\"\u001b[39;00m\n\u001b[0;32m-> 1610\u001b[0m     values, mutated \u001b[39m=\u001b[39m \u001b[39mself\u001b[39;49m\u001b[39m.\u001b[39;49mgrouper\u001b[39m.\u001b[39;49mapply(f, data, \u001b[39mself\u001b[39;49m\u001b[39m.\u001b[39;49maxis)\n\u001b[1;32m   1611\u001b[0m     \u001b[39mif\u001b[39;00m not_indexed_same \u001b[39mis\u001b[39;00m \u001b[39mNone\u001b[39;00m:\n\u001b[1;32m   1612\u001b[0m         not_indexed_same \u001b[39m=\u001b[39m mutated \u001b[39mor\u001b[39;00m \u001b[39mself\u001b[39m\u001b[39m.\u001b[39mmutated\n",
      "File \u001b[0;32m~/anaconda3/envs/py38/lib/python3.8/site-packages/pandas/core/groupby/ops.py:839\u001b[0m, in \u001b[0;36mBaseGrouper.apply\u001b[0;34m(self, f, data, axis)\u001b[0m\n\u001b[1;32m    837\u001b[0m \u001b[39m# group might be modified\u001b[39;00m\n\u001b[1;32m    838\u001b[0m group_axes \u001b[39m=\u001b[39m group\u001b[39m.\u001b[39maxes\n\u001b[0;32m--> 839\u001b[0m res \u001b[39m=\u001b[39m f(group)\n\u001b[1;32m    840\u001b[0m \u001b[39mif\u001b[39;00m \u001b[39mnot\u001b[39;00m mutated \u001b[39mand\u001b[39;00m \u001b[39mnot\u001b[39;00m _is_indexed_like(res, group_axes, axis):\n\u001b[1;32m    841\u001b[0m     mutated \u001b[39m=\u001b[39m \u001b[39mTrue\u001b[39;00m\n",
      "File \u001b[0;32m~/anaconda3/envs/py38/lib/python3.8/site-packages/pandas/core/groupby/groupby.py:603\u001b[0m, in \u001b[0;36mGroupByPlot.__call__.<locals>.f\u001b[0;34m(self)\u001b[0m\n\u001b[1;32m    602\u001b[0m \u001b[39mdef\u001b[39;00m \u001b[39mf\u001b[39m(\u001b[39mself\u001b[39m):\n\u001b[0;32m--> 603\u001b[0m     \u001b[39mreturn\u001b[39;00m \u001b[39mself\u001b[39;49m\u001b[39m.\u001b[39;49mplot(\u001b[39m*\u001b[39;49margs, \u001b[39m*\u001b[39;49m\u001b[39m*\u001b[39;49mkwargs)\n",
      "File \u001b[0;32m~/anaconda3/envs/py38/lib/python3.8/site-packages/pandas/plotting/_core.py:1000\u001b[0m, in \u001b[0;36mPlotAccessor.__call__\u001b[0;34m(self, *args, **kwargs)\u001b[0m\n\u001b[1;32m    997\u001b[0m             label_name \u001b[39m=\u001b[39m label_kw \u001b[39mor\u001b[39;00m data\u001b[39m.\u001b[39mcolumns\n\u001b[1;32m    998\u001b[0m             data\u001b[39m.\u001b[39mcolumns \u001b[39m=\u001b[39m label_name\n\u001b[0;32m-> 1000\u001b[0m \u001b[39mreturn\u001b[39;00m plot_backend\u001b[39m.\u001b[39;49mplot(data, kind\u001b[39m=\u001b[39;49mkind, \u001b[39m*\u001b[39;49m\u001b[39m*\u001b[39;49mkwargs)\n",
      "File \u001b[0;32m~/anaconda3/envs/py38/lib/python3.8/site-packages/pandas/plotting/_matplotlib/__init__.py:71\u001b[0m, in \u001b[0;36mplot\u001b[0;34m(data, kind, **kwargs)\u001b[0m\n\u001b[1;32m     69\u001b[0m         kwargs[\u001b[39m\"\u001b[39m\u001b[39max\u001b[39m\u001b[39m\"\u001b[39m] \u001b[39m=\u001b[39m \u001b[39mgetattr\u001b[39m(ax, \u001b[39m\"\u001b[39m\u001b[39mleft_ax\u001b[39m\u001b[39m\"\u001b[39m, ax)\n\u001b[1;32m     70\u001b[0m plot_obj \u001b[39m=\u001b[39m PLOT_CLASSES[kind](data, \u001b[39m*\u001b[39m\u001b[39m*\u001b[39mkwargs)\n\u001b[0;32m---> 71\u001b[0m plot_obj\u001b[39m.\u001b[39;49mgenerate()\n\u001b[1;32m     72\u001b[0m plot_obj\u001b[39m.\u001b[39mdraw()\n\u001b[1;32m     73\u001b[0m \u001b[39mreturn\u001b[39;00m plot_obj\u001b[39m.\u001b[39mresult\n",
      "File \u001b[0;32m~/anaconda3/envs/py38/lib/python3.8/site-packages/pandas/plotting/_matplotlib/core.py:450\u001b[0m, in \u001b[0;36mMPLPlot.generate\u001b[0;34m(self)\u001b[0m\n\u001b[1;32m    448\u001b[0m \u001b[39mdef\u001b[39;00m \u001b[39mgenerate\u001b[39m(\u001b[39mself\u001b[39m) \u001b[39m-\u001b[39m\u001b[39m>\u001b[39m \u001b[39mNone\u001b[39;00m:\n\u001b[1;32m    449\u001b[0m     \u001b[39mself\u001b[39m\u001b[39m.\u001b[39m_args_adjust()\n\u001b[0;32m--> 450\u001b[0m     \u001b[39mself\u001b[39;49m\u001b[39m.\u001b[39;49m_compute_plot_data()\n\u001b[1;32m    451\u001b[0m     \u001b[39mself\u001b[39m\u001b[39m.\u001b[39m_setup_subplots()\n\u001b[1;32m    452\u001b[0m     \u001b[39mself\u001b[39m\u001b[39m.\u001b[39m_make_plot()\n",
      "File \u001b[0;32m~/anaconda3/envs/py38/lib/python3.8/site-packages/pandas/plotting/_matplotlib/core.py:635\u001b[0m, in \u001b[0;36mMPLPlot._compute_plot_data\u001b[0;34m(self)\u001b[0m\n\u001b[1;32m    633\u001b[0m \u001b[39m# no non-numeric frames or series allowed\u001b[39;00m\n\u001b[1;32m    634\u001b[0m \u001b[39mif\u001b[39;00m is_empty:\n\u001b[0;32m--> 635\u001b[0m     \u001b[39mraise\u001b[39;00m \u001b[39mTypeError\u001b[39;00m(\u001b[39m\"\u001b[39m\u001b[39mno numeric data to plot\u001b[39m\u001b[39m\"\u001b[39m)\n\u001b[1;32m    637\u001b[0m \u001b[39mself\u001b[39m\u001b[39m.\u001b[39mdata \u001b[39m=\u001b[39m numeric_data\u001b[39m.\u001b[39mapply(\u001b[39mself\u001b[39m\u001b[39m.\u001b[39m_convert_to_ndarray)\n",
      "\u001b[0;31mTypeError\u001b[0m: no numeric data to plot"
     ]
    }
   ],
   "source": [
    "df.groupby(['duration','kind']).plot(x='logs_number', y='integral',kind='bar')"
   ]
  },
  {
   "cell_type": "code",
   "execution_count": null,
   "metadata": {},
   "outputs": [
    {
     "name": "stderr",
     "output_type": "stream",
     "text": [
      "/home/green-sec/miniconda3/lib/python3.10/site-packages/urllib3/connectionpool.py:1045: InsecureRequestWarning: Unverified HTTPS request is being made to host 'localhost'. Adding certificate verification is strongly advised. See: https://urllib3.readthedocs.io/en/1.26.x/advanced-usage.html#ssl-warnings\n",
      "  warnings.warn(\n"
     ]
    },
    {
     "name": "stdout",
     "output_type": "stream",
     "text": [
      "Scheduled search updated successfully\n"
     ]
    },
    {
     "name": "stderr",
     "output_type": "stream",
     "text": [
      "/home/green-sec/miniconda3/lib/python3.10/site-packages/urllib3/connectionpool.py:1045: InsecureRequestWarning: Unverified HTTPS request is being made to host 'localhost'. Adding certificate verification is strongly advised. See: https://urllib3.readthedocs.io/en/1.26.x/advanced-usage.html#ssl-warnings\n",
      "  warnings.warn(\n"
     ]
    },
    {
     "name": "stdout",
     "output_type": "stream",
     "text": [
      "Scheduled search updated successfully\n"
     ]
    },
    {
     "name": "stderr",
     "output_type": "stream",
     "text": [
      "/home/green-sec/miniconda3/lib/python3.10/site-packages/urllib3/connectionpool.py:1045: InsecureRequestWarning: Unverified HTTPS request is being made to host 'localhost'. Adding certificate verification is strongly advised. See: https://urllib3.readthedocs.io/en/1.26.x/advanced-usage.html#ssl-warnings\n",
      "  warnings.warn(\n"
     ]
    },
    {
     "name": "stdout",
     "output_type": "stream",
     "text": [
      "Scheduled search updated successfully\n"
     ]
    },
    {
     "name": "stderr",
     "output_type": "stream",
     "text": [
      "/home/green-sec/miniconda3/lib/python3.10/site-packages/urllib3/connectionpool.py:1045: InsecureRequestWarning: Unverified HTTPS request is being made to host 'localhost'. Adding certificate verification is strongly advised. See: https://urllib3.readthedocs.io/en/1.26.x/advanced-usage.html#ssl-warnings\n",
      "  warnings.warn(\n"
     ]
    },
    {
     "name": "stdout",
     "output_type": "stream",
     "text": [
      "Scheduled search updated successfully\n"
     ]
    },
    {
     "name": "stderr",
     "output_type": "stream",
     "text": [
      "/home/green-sec/miniconda3/lib/python3.10/site-packages/urllib3/connectionpool.py:1045: InsecureRequestWarning: Unverified HTTPS request is being made to host 'localhost'. Adding certificate verification is strongly advised. See: https://urllib3.readthedocs.io/en/1.26.x/advanced-usage.html#ssl-warnings\n",
      "  warnings.warn(\n"
     ]
    },
    {
     "name": "stdout",
     "output_type": "stream",
     "text": [
      "Scheduled search updated successfully\n"
     ]
    },
    {
     "name": "stderr",
     "output_type": "stream",
     "text": [
      "/home/green-sec/miniconda3/lib/python3.10/site-packages/urllib3/connectionpool.py:1045: InsecureRequestWarning: Unverified HTTPS request is being made to host 'localhost'. Adding certificate verification is strongly advised. See: https://urllib3.readthedocs.io/en/1.26.x/advanced-usage.html#ssl-warnings\n",
      "  warnings.warn(\n"
     ]
    },
    {
     "name": "stdout",
     "output_type": "stream",
     "text": [
      "Scheduled search updated successfully\n"
     ]
    },
    {
     "name": "stderr",
     "output_type": "stream",
     "text": [
      "/home/green-sec/miniconda3/lib/python3.10/site-packages/urllib3/connectionpool.py:1045: InsecureRequestWarning: Unverified HTTPS request is being made to host 'localhost'. Adding certificate verification is strongly advised. See: https://urllib3.readthedocs.io/en/1.26.x/advanced-usage.html#ssl-warnings\n",
      "  warnings.warn(\n"
     ]
    },
    {
     "name": "stdout",
     "output_type": "stream",
     "text": [
      "Scheduled search updated successfully\n"
     ]
    },
    {
     "name": "stderr",
     "output_type": "stream",
     "text": [
      "/home/green-sec/miniconda3/lib/python3.10/site-packages/urllib3/connectionpool.py:1045: InsecureRequestWarning: Unverified HTTPS request is being made to host 'localhost'. Adding certificate verification is strongly advised. See: https://urllib3.readthedocs.io/en/1.26.x/advanced-usage.html#ssl-warnings\n",
      "  warnings.warn(\n"
     ]
    },
    {
     "name": "stdout",
     "output_type": "stream",
     "text": [
      "Scheduled search updated successfully\n"
     ]
    },
    {
     "name": "stderr",
     "output_type": "stream",
     "text": [
      "/home/green-sec/miniconda3/lib/python3.10/site-packages/urllib3/connectionpool.py:1045: InsecureRequestWarning: Unverified HTTPS request is being made to host 'localhost'. Adding certificate verification is strongly advised. See: https://urllib3.readthedocs.io/en/1.26.x/advanced-usage.html#ssl-warnings\n",
      "  warnings.warn(\n"
     ]
    },
    {
     "name": "stdout",
     "output_type": "stream",
     "text": [
      "Scheduled search updated successfully\n"
     ]
    },
    {
     "name": "stderr",
     "output_type": "stream",
     "text": [
      "/home/green-sec/miniconda3/lib/python3.10/site-packages/urllib3/connectionpool.py:1045: InsecureRequestWarning: Unverified HTTPS request is being made to host 'localhost'. Adding certificate verification is strongly advised. See: https://urllib3.readthedocs.io/en/1.26.x/advanced-usage.html#ssl-warnings\n",
      "  warnings.warn(\n"
     ]
    },
    {
     "name": "stdout",
     "output_type": "stream",
     "text": [
      "Scheduled search updated successfully\n"
     ]
    },
    {
     "name": "stderr",
     "output_type": "stream",
     "text": [
      "/home/green-sec/miniconda3/lib/python3.10/site-packages/urllib3/connectionpool.py:1045: InsecureRequestWarning: Unverified HTTPS request is being made to host 'localhost'. Adding certificate verification is strongly advised. See: https://urllib3.readthedocs.io/en/1.26.x/advanced-usage.html#ssl-warnings\n",
      "  warnings.warn(\n"
     ]
    },
    {
     "name": "stdout",
     "output_type": "stream",
     "text": [
      "Scheduled search updated successfully\n",
      "Scheduled search updated successfully\n"
     ]
    },
    {
     "name": "stderr",
     "output_type": "stream",
     "text": [
      "/home/green-sec/miniconda3/lib/python3.10/site-packages/urllib3/connectionpool.py:1045: InsecureRequestWarning: Unverified HTTPS request is being made to host 'localhost'. Adding certificate verification is strongly advised. See: https://urllib3.readthedocs.io/en/1.26.x/advanced-usage.html#ssl-warnings\n",
      "  warnings.warn(\n"
     ]
    }
   ],
   "source": [
    "import requests\n",
    "from time import sleep\n",
    "\n",
    "# Define the Splunk URL and login credentials\n",
    "url = \"https://132.72.81.185:8089/servicesNS/shoueii/splunkawssecuritymon/saved/searches/\"\n",
    "username = \"shoueii\"\n",
    "password = \"sH231294\"\n",
    "\n",
    "# Define the list of scheduled search names to enable/disable\n",
    "searches_to_enable = ['aws_detect_cloudtrail_trail_deleted Clone1', 'aws_detect_cloudwatch_log_group_delete Clone1', 'aws_detect_cloudwatch_log_stream_delete Clone1', 'aws_detect_ec2_instances_run Clone1', 'aws_detect_ec2_vpc_flow_config_deleted Clone1', 'aws_detect_ecr_image_auth_token_get Clone1']\n",
    "searches_to_disable = ['aws_detect_iam_user_deleted Clone', 'aws_detect_iam_user_created Clone', 'aws_detect_iam_new_policy_version_assignment Clone', 'aws_detect_iam_group_added_with_user_from_ec2 Clone', 'aws_detect_ecr_new_repo_image_create Clone', 'aws_detect_ec2_ssh_public_key_addition Clone']\n",
    "\n",
    "\n",
    "for search_name in searches_to_enable:\n",
    "    # Define the headers and payload for the request\n",
    "    headers = {\"Content-type\": \"application/json\"}\n",
    "    payload = {\"disabled\": 0}\n",
    "\n",
    "    # Make the request to update the scheduled search\n",
    "    response = requests.post(\n",
    "        url + search_name + \"/\",\n",
    "        headers=headers,\n",
    "        auth=(username, password),\n",
    "        data=payload,\n",
    "        verify=False,\n",
    "    )\n",
    "    sleep(2)\n",
    "    # Check the response status code\n",
    "    if response.status_code == 200:\n",
    "        print(\"Scheduled search updated successfully\")\n",
    "    else:\n",
    "        print(\"Error updating scheduled search\")\n",
    "        print(response.content)\n",
    "    \n",
    "\n",
    "# Loop through the list of searches to disable and disable them\n",
    "for search_name in searches_to_disable:\n",
    "   # Define the headers and payload for the request\n",
    "    headers = {\"Content-type\": \"application/json\"}\n",
    "    payload = {\"disabled\": 1}\n",
    "\n",
    "    # Make the request to update the scheduled search\n",
    "    response = requests.post(\n",
    "        url + search_name + \"/\",\n",
    "        headers=headers,\n",
    "        auth=(username, password),\n",
    "        data=payload,\n",
    "        verify=False,\n",
    "    )\n",
    "\n",
    "    # Check the response status code\n",
    "    if response.status_code == 200:\n",
    "        print(\"Scheduled search updated successfully\")\n",
    "    else:\n",
    "        print(\"Error updating scheduled search\")\n",
    "        print(response.content)\n",
    "    "
   ]
  },
  {
   "cell_type": "code",
   "execution_count": null,
   "metadata": {},
   "outputs": [
    {
     "data": {
      "text/plain": [
       "DataTransformerRegistry.enable('csv')"
      ]
     },
     "execution_count": 4,
     "metadata": {},
     "output_type": "execute_result"
    }
   ],
   "source": [
    "import altair as alt\n",
    "import pandas as pd\n",
    "alt.data_transformers.enable('csv')"
   ]
  },
  {
   "cell_type": "code",
   "execution_count": 83,
   "metadata": {},
   "outputs": [
    {
     "data": {
      "text/html": [
       "\n",
       "<style>\n",
       "  #altair-viz-8850abbc3de84f67881bc42ed12fa4a8.vega-embed {\n",
       "    width: 100%;\n",
       "    display: flex;\n",
       "  }\n",
       "\n",
       "  #altair-viz-8850abbc3de84f67881bc42ed12fa4a8.vega-embed details,\n",
       "  #altair-viz-8850abbc3de84f67881bc42ed12fa4a8.vega-embed details summary {\n",
       "    position: relative;\n",
       "  }\n",
       "</style>\n",
       "<div id=\"altair-viz-8850abbc3de84f67881bc42ed12fa4a8\"></div>\n",
       "<script type=\"text/javascript\">\n",
       "  var VEGA_DEBUG = (typeof VEGA_DEBUG == \"undefined\") ? {} : VEGA_DEBUG;\n",
       "  (function(spec, embedOpt){\n",
       "    let outputDiv = document.currentScript.previousElementSibling;\n",
       "    if (outputDiv.id !== \"altair-viz-8850abbc3de84f67881bc42ed12fa4a8\") {\n",
       "      outputDiv = document.getElementById(\"altair-viz-8850abbc3de84f67881bc42ed12fa4a8\");\n",
       "    }\n",
       "    const paths = {\n",
       "      \"vega\": \"https://cdn.jsdelivr.net/npm/vega@5?noext\",\n",
       "      \"vega-lib\": \"https://cdn.jsdelivr.net/npm/vega-lib?noext\",\n",
       "      \"vega-lite\": \"https://cdn.jsdelivr.net/npm/vega-lite@5.8.0?noext\",\n",
       "      \"vega-embed\": \"https://cdn.jsdelivr.net/npm/vega-embed@6?noext\",\n",
       "    };\n",
       "\n",
       "    function maybeLoadScript(lib, version) {\n",
       "      var key = `${lib.replace(\"-\", \"\")}_version`;\n",
       "      return (VEGA_DEBUG[key] == version) ?\n",
       "        Promise.resolve(paths[lib]) :\n",
       "        new Promise(function(resolve, reject) {\n",
       "          var s = document.createElement('script');\n",
       "          document.getElementsByTagName(\"head\")[0].appendChild(s);\n",
       "          s.async = true;\n",
       "          s.onload = () => {\n",
       "            VEGA_DEBUG[key] = version;\n",
       "            return resolve(paths[lib]);\n",
       "          };\n",
       "          s.onerror = () => reject(`Error loading script: ${paths[lib]}`);\n",
       "          s.src = paths[lib];\n",
       "        });\n",
       "    }\n",
       "\n",
       "    function showError(err) {\n",
       "      outputDiv.innerHTML = `<div class=\"error\" style=\"color:red;\">${err}</div>`;\n",
       "      throw err;\n",
       "    }\n",
       "\n",
       "    function displayChart(vegaEmbed) {\n",
       "      vegaEmbed(outputDiv, spec, embedOpt)\n",
       "        .catch(err => showError(`Javascript Error: ${err.message}<br>This usually means there's a typo in your chart specification. See the javascript console for the full traceback.`));\n",
       "    }\n",
       "\n",
       "    if(typeof define === \"function\" && define.amd) {\n",
       "      requirejs.config({paths});\n",
       "      require([\"vega-embed\"], displayChart, err => showError(`Error loading script: ${err.message}`));\n",
       "    } else {\n",
       "      maybeLoadScript(\"vega\", \"5\")\n",
       "        .then(() => maybeLoadScript(\"vega-lite\", \"5.8.0\"))\n",
       "        .then(() => maybeLoadScript(\"vega-embed\", \"6\"))\n",
       "        .catch(showError)\n",
       "        .then(() => displayChart(vegaEmbed));\n",
       "    }\n",
       "  })({\"config\": {\"view\": {\"continuousWidth\": 300, \"continuousHeight\": 300}, \"axis\": {\"labelAngle\": 45, \"labelFontSize\": 8, \"titleFontSize\": 20}}, \"data\": {\"url\": \"altair-data-ccfc7e03506c6f75cc1e3dec02b657b2.csv\", \"format\": {\"type\": \"csv\"}}, \"mark\": {\"type\": \"bar\"}, \"encoding\": {\"color\": {\"field\": \"sourcetype\", \"title\": \"Log sourcetype\", \"type\": \"nominal\"}, \"x\": {\"field\": \"host\", \"title\": \"Host name\", \"type\": \"nominal\"}, \"y\": {\"field\": \"count\", \"title\": \"Logs count\", \"type\": \"quantitative\"}}, \"height\": 300, \"title\": \"24 hours Logs count per host and sourcetype\", \"width\": 1500, \"$schema\": \"https://vega.github.io/schema/vega-lite/v5.8.0.json\"}, {\"mode\": \"vega-lite\"});\n",
       "</script>"
      ],
      "text/plain": [
       "alt.Chart(...)"
      ]
     },
     "execution_count": 83,
     "metadata": {},
     "output_type": "execute_result"
    }
   ],
   "source": [
    "import altair as alt\n",
    "import pandas as pd\n",
    "df = pd.read_csv('data_summary.csv')\n",
    "df_dtsplunk = df[df['host']=='dt-splunk']\n",
    "df = df[df['host']!='dt-splunk']\n",
    "# create stacked bar chart with x axis tilted 45 degrees\n",
    "chart = alt.Chart(df).mark_bar().encode(\n",
    "    alt.X('host:N', title='Host name'),\n",
    "    alt.Y('count:Q', title='Logs count'),\n",
    "    alt.Color('sourcetype:N', title='Log sourcetype'),\n",
    ").properties(\n",
    "    width=1500,\n",
    "    height=300,\n",
    "    title='24 hours Logs count per host and sourcetype'\n",
    ").configure_axis(\n",
    "    labelFontSize=8,\n",
    "    titleFontSize=20,\n",
    "    labelAngle=45\n",
    ")\n",
    "chart"
   ]
  },
  {
   "cell_type": "code",
   "execution_count": 84,
   "metadata": {},
   "outputs": [
    {
     "data": {
      "text/html": [
       "\n",
       "<style>\n",
       "  #altair-viz-fbb9f0f8d69e420fadcea11ae020d3b9.vega-embed {\n",
       "    width: 100%;\n",
       "    display: flex;\n",
       "  }\n",
       "\n",
       "  #altair-viz-fbb9f0f8d69e420fadcea11ae020d3b9.vega-embed details,\n",
       "  #altair-viz-fbb9f0f8d69e420fadcea11ae020d3b9.vega-embed details summary {\n",
       "    position: relative;\n",
       "  }\n",
       "</style>\n",
       "<div id=\"altair-viz-fbb9f0f8d69e420fadcea11ae020d3b9\"></div>\n",
       "<script type=\"text/javascript\">\n",
       "  var VEGA_DEBUG = (typeof VEGA_DEBUG == \"undefined\") ? {} : VEGA_DEBUG;\n",
       "  (function(spec, embedOpt){\n",
       "    let outputDiv = document.currentScript.previousElementSibling;\n",
       "    if (outputDiv.id !== \"altair-viz-fbb9f0f8d69e420fadcea11ae020d3b9\") {\n",
       "      outputDiv = document.getElementById(\"altair-viz-fbb9f0f8d69e420fadcea11ae020d3b9\");\n",
       "    }\n",
       "    const paths = {\n",
       "      \"vega\": \"https://cdn.jsdelivr.net/npm/vega@5?noext\",\n",
       "      \"vega-lib\": \"https://cdn.jsdelivr.net/npm/vega-lib?noext\",\n",
       "      \"vega-lite\": \"https://cdn.jsdelivr.net/npm/vega-lite@5.8.0?noext\",\n",
       "      \"vega-embed\": \"https://cdn.jsdelivr.net/npm/vega-embed@6?noext\",\n",
       "    };\n",
       "\n",
       "    function maybeLoadScript(lib, version) {\n",
       "      var key = `${lib.replace(\"-\", \"\")}_version`;\n",
       "      return (VEGA_DEBUG[key] == version) ?\n",
       "        Promise.resolve(paths[lib]) :\n",
       "        new Promise(function(resolve, reject) {\n",
       "          var s = document.createElement('script');\n",
       "          document.getElementsByTagName(\"head\")[0].appendChild(s);\n",
       "          s.async = true;\n",
       "          s.onload = () => {\n",
       "            VEGA_DEBUG[key] = version;\n",
       "            return resolve(paths[lib]);\n",
       "          };\n",
       "          s.onerror = () => reject(`Error loading script: ${paths[lib]}`);\n",
       "          s.src = paths[lib];\n",
       "        });\n",
       "    }\n",
       "\n",
       "    function showError(err) {\n",
       "      outputDiv.innerHTML = `<div class=\"error\" style=\"color:red;\">${err}</div>`;\n",
       "      throw err;\n",
       "    }\n",
       "\n",
       "    function displayChart(vegaEmbed) {\n",
       "      vegaEmbed(outputDiv, spec, embedOpt)\n",
       "        .catch(err => showError(`Javascript Error: ${err.message}<br>This usually means there's a typo in your chart specification. See the javascript console for the full traceback.`));\n",
       "    }\n",
       "\n",
       "    if(typeof define === \"function\" && define.amd) {\n",
       "      requirejs.config({paths});\n",
       "      require([\"vega-embed\"], displayChart, err => showError(`Error loading script: ${err.message}`));\n",
       "    } else {\n",
       "      maybeLoadScript(\"vega\", \"5\")\n",
       "        .then(() => maybeLoadScript(\"vega-lite\", \"5.8.0\"))\n",
       "        .then(() => maybeLoadScript(\"vega-embed\", \"6\"))\n",
       "        .catch(showError)\n",
       "        .then(() => displayChart(vegaEmbed));\n",
       "    }\n",
       "  })({\"config\": {\"view\": {\"continuousWidth\": 300, \"continuousHeight\": 300}, \"axis\": {\"labelAngle\": 45, \"labelFontSize\": 8, \"titleFontSize\": 20}}, \"data\": {\"url\": \"altair-data-4455ffc09ecbce532b24b3055f6c96ea.csv\", \"format\": {\"type\": \"csv\"}}, \"mark\": {\"type\": \"bar\"}, \"encoding\": {\"color\": {\"field\": \"eventtype\", \"title\": \"Log eventtype\", \"type\": \"nominal\"}, \"x\": {\"field\": \"host\", \"title\": \"Host name\", \"type\": \"nominal\"}, \"y\": {\"field\": \"count\", \"title\": \"Logs count\", \"type\": \"quantitative\"}}, \"height\": 300, \"title\": \"Last week Logs count per host and eventtype\", \"width\": 1500, \"$schema\": \"https://vega.github.io/schema/vega-lite/v5.8.0.json\"}, {\"mode\": \"vega-lite\"});\n",
       "</script>"
      ],
      "text/plain": [
       "alt.Chart(...)"
      ]
     },
     "execution_count": 84,
     "metadata": {},
     "output_type": "execute_result"
    }
   ],
   "source": [
    "df = pd.read_csv('eventtype_host.csv')\n",
    "# create stacked bar chart with x axis tilted 45 degrees\n",
    "chart = alt.Chart(df).mark_bar().encode(\n",
    "    alt.X('host:N', title='Host name'),\n",
    "    alt.Y('count:Q', title='Logs count'),\n",
    "    alt.Color('eventtype:N', title='Log eventtype'),\n",
    ").properties(\n",
    "    width=1500,\n",
    "    height=300,\n",
    "    title='Last week Logs count per host and eventtype'\n",
    ").configure_axis(\n",
    "    labelFontSize=8,\n",
    "    titleFontSize=20,\n",
    "    labelAngle=45\n",
    ")\n",
    "chart"
   ]
  },
  {
   "cell_type": "code",
   "execution_count": 87,
   "metadata": {},
   "outputs": [
    {
     "data": {
      "text/html": [
       "<div>\n",
       "<style scoped>\n",
       "    .dataframe tbody tr th:only-of-type {\n",
       "        vertical-align: middle;\n",
       "    }\n",
       "\n",
       "    .dataframe tbody tr th {\n",
       "        vertical-align: top;\n",
       "    }\n",
       "\n",
       "    .dataframe thead th {\n",
       "        text-align: right;\n",
       "    }\n",
       "</style>\n",
       "<table border=\"1\" class=\"dataframe\">\n",
       "  <thead>\n",
       "    <tr style=\"text-align: right;\">\n",
       "      <th></th>\n",
       "      <th>eventtype</th>\n",
       "      <th>host</th>\n",
       "      <th>count</th>\n",
       "    </tr>\n",
       "  </thead>\n",
       "  <tbody>\n",
       "  </tbody>\n",
       "</table>\n",
       "</div>"
      ],
      "text/plain": [
       "Empty DataFrame\n",
       "Columns: [eventtype, host, count]\n",
       "Index: []"
      ]
     },
     "execution_count": 87,
     "metadata": {},
     "output_type": "execute_result"
    }
   ],
   "source": [
    "df"
   ]
  },
  {
   "cell_type": "code",
   "execution_count": 89,
   "metadata": {},
   "outputs": [
    {
     "data": {
      "text/html": [
       "\n",
       "<style>\n",
       "  #altair-viz-95024809335f48a1a34355b074d19aae.vega-embed {\n",
       "    width: 100%;\n",
       "    display: flex;\n",
       "  }\n",
       "\n",
       "  #altair-viz-95024809335f48a1a34355b074d19aae.vega-embed details,\n",
       "  #altair-viz-95024809335f48a1a34355b074d19aae.vega-embed details summary {\n",
       "    position: relative;\n",
       "  }\n",
       "</style>\n",
       "<div id=\"altair-viz-95024809335f48a1a34355b074d19aae\"></div>\n",
       "<script type=\"text/javascript\">\n",
       "  var VEGA_DEBUG = (typeof VEGA_DEBUG == \"undefined\") ? {} : VEGA_DEBUG;\n",
       "  (function(spec, embedOpt){\n",
       "    let outputDiv = document.currentScript.previousElementSibling;\n",
       "    if (outputDiv.id !== \"altair-viz-95024809335f48a1a34355b074d19aae\") {\n",
       "      outputDiv = document.getElementById(\"altair-viz-95024809335f48a1a34355b074d19aae\");\n",
       "    }\n",
       "    const paths = {\n",
       "      \"vega\": \"https://cdn.jsdelivr.net/npm/vega@5?noext\",\n",
       "      \"vega-lib\": \"https://cdn.jsdelivr.net/npm/vega-lib?noext\",\n",
       "      \"vega-lite\": \"https://cdn.jsdelivr.net/npm/vega-lite@5.8.0?noext\",\n",
       "      \"vega-embed\": \"https://cdn.jsdelivr.net/npm/vega-embed@6?noext\",\n",
       "    };\n",
       "\n",
       "    function maybeLoadScript(lib, version) {\n",
       "      var key = `${lib.replace(\"-\", \"\")}_version`;\n",
       "      return (VEGA_DEBUG[key] == version) ?\n",
       "        Promise.resolve(paths[lib]) :\n",
       "        new Promise(function(resolve, reject) {\n",
       "          var s = document.createElement('script');\n",
       "          document.getElementsByTagName(\"head\")[0].appendChild(s);\n",
       "          s.async = true;\n",
       "          s.onload = () => {\n",
       "            VEGA_DEBUG[key] = version;\n",
       "            return resolve(paths[lib]);\n",
       "          };\n",
       "          s.onerror = () => reject(`Error loading script: ${paths[lib]}`);\n",
       "          s.src = paths[lib];\n",
       "        });\n",
       "    }\n",
       "\n",
       "    function showError(err) {\n",
       "      outputDiv.innerHTML = `<div class=\"error\" style=\"color:red;\">${err}</div>`;\n",
       "      throw err;\n",
       "    }\n",
       "\n",
       "    function displayChart(vegaEmbed) {\n",
       "      vegaEmbed(outputDiv, spec, embedOpt)\n",
       "        .catch(err => showError(`Javascript Error: ${err.message}<br>This usually means there's a typo in your chart specification. See the javascript console for the full traceback.`));\n",
       "    }\n",
       "\n",
       "    if(typeof define === \"function\" && define.amd) {\n",
       "      requirejs.config({paths});\n",
       "      require([\"vega-embed\"], displayChart, err => showError(`Error loading script: ${err.message}`));\n",
       "    } else {\n",
       "      maybeLoadScript(\"vega\", \"5\")\n",
       "        .then(() => maybeLoadScript(\"vega-lite\", \"5.8.0\"))\n",
       "        .then(() => maybeLoadScript(\"vega-embed\", \"6\"))\n",
       "        .catch(showError)\n",
       "        .then(() => displayChart(vegaEmbed));\n",
       "    }\n",
       "  })({\"config\": {\"view\": {\"continuousWidth\": 300, \"continuousHeight\": 300}, \"axis\": {\"labelAngle\": 45, \"labelFontSize\": 8, \"titleFontSize\": 20}}, \"data\": {\"url\": \"altair-data-b57cb55725193dde89dd16ab006b86f2.csv\", \"format\": {\"type\": \"csv\"}}, \"mark\": {\"type\": \"bar\"}, \"encoding\": {\"x\": {\"field\": \"host\", \"title\": \"Host name\", \"type\": \"nominal\"}, \"y\": {\"field\": \"count\", \"title\": \"Logs count\", \"type\": \"quantitative\"}}, \"height\": 300, \"title\": \"One week Logs count per host and sourcetype\", \"width\": 1500, \"$schema\": \"https://vega.github.io/schema/vega-lite/v5.8.0.json\"}, {\"mode\": \"vega-lite\"});\n",
       "</script>"
      ],
      "text/plain": [
       "alt.Chart(...)"
      ]
     },
     "execution_count": 89,
     "metadata": {},
     "output_type": "execute_result"
    }
   ],
   "source": [
    "# find all the hosts that starts with 'dt'\n",
    "df = pd.read_csv('eventtype_host.csv')\n",
    "df = df[df['host'].str.startswith('DT')]\n",
    "# create stacked bar chart with x axis tilted 45 degrees\n",
    "chart = alt.Chart(df).mark_bar().encode(\n",
    "    alt.X('host:N', title='Host name'),\n",
    "    alt.Y('count:Q', title='Logs count'),\n",
    ").properties(\n",
    "    width=1500,\n",
    "    height=300,\n",
    "    title='One week Logs count per host and sourcetype'\n",
    ").configure_axis(\n",
    "    labelFontSize=8,\n",
    "    titleFontSize=20,\n",
    "    labelAngle=45\n",
    ")\n",
    "chart"
   ]
  },
  {
   "cell_type": "code",
   "execution_count": 73,
   "metadata": {},
   "outputs": [
    {
     "data": {
      "text/html": [
       "\n",
       "<style>\n",
       "  #altair-viz-86091c5868454a9b89fe38ff16e55c32.vega-embed {\n",
       "    width: 100%;\n",
       "    display: flex;\n",
       "  }\n",
       "\n",
       "  #altair-viz-86091c5868454a9b89fe38ff16e55c32.vega-embed details,\n",
       "  #altair-viz-86091c5868454a9b89fe38ff16e55c32.vega-embed details summary {\n",
       "    position: relative;\n",
       "  }\n",
       "</style>\n",
       "<div id=\"altair-viz-86091c5868454a9b89fe38ff16e55c32\"></div>\n",
       "<script type=\"text/javascript\">\n",
       "  var VEGA_DEBUG = (typeof VEGA_DEBUG == \"undefined\") ? {} : VEGA_DEBUG;\n",
       "  (function(spec, embedOpt){\n",
       "    let outputDiv = document.currentScript.previousElementSibling;\n",
       "    if (outputDiv.id !== \"altair-viz-86091c5868454a9b89fe38ff16e55c32\") {\n",
       "      outputDiv = document.getElementById(\"altair-viz-86091c5868454a9b89fe38ff16e55c32\");\n",
       "    }\n",
       "    const paths = {\n",
       "      \"vega\": \"https://cdn.jsdelivr.net/npm/vega@5?noext\",\n",
       "      \"vega-lib\": \"https://cdn.jsdelivr.net/npm/vega-lib?noext\",\n",
       "      \"vega-lite\": \"https://cdn.jsdelivr.net/npm/vega-lite@5.8.0?noext\",\n",
       "      \"vega-embed\": \"https://cdn.jsdelivr.net/npm/vega-embed@6?noext\",\n",
       "    };\n",
       "\n",
       "    function maybeLoadScript(lib, version) {\n",
       "      var key = `${lib.replace(\"-\", \"\")}_version`;\n",
       "      return (VEGA_DEBUG[key] == version) ?\n",
       "        Promise.resolve(paths[lib]) :\n",
       "        new Promise(function(resolve, reject) {\n",
       "          var s = document.createElement('script');\n",
       "          document.getElementsByTagName(\"head\")[0].appendChild(s);\n",
       "          s.async = true;\n",
       "          s.onload = () => {\n",
       "            VEGA_DEBUG[key] = version;\n",
       "            return resolve(paths[lib]);\n",
       "          };\n",
       "          s.onerror = () => reject(`Error loading script: ${paths[lib]}`);\n",
       "          s.src = paths[lib];\n",
       "        });\n",
       "    }\n",
       "\n",
       "    function showError(err) {\n",
       "      outputDiv.innerHTML = `<div class=\"error\" style=\"color:red;\">${err}</div>`;\n",
       "      throw err;\n",
       "    }\n",
       "\n",
       "    function displayChart(vegaEmbed) {\n",
       "      vegaEmbed(outputDiv, spec, embedOpt)\n",
       "        .catch(err => showError(`Javascript Error: ${err.message}<br>This usually means there's a typo in your chart specification. See the javascript console for the full traceback.`));\n",
       "    }\n",
       "\n",
       "    if(typeof define === \"function\" && define.amd) {\n",
       "      requirejs.config({paths});\n",
       "      require([\"vega-embed\"], displayChart, err => showError(`Error loading script: ${err.message}`));\n",
       "    } else {\n",
       "      maybeLoadScript(\"vega\", \"5\")\n",
       "        .then(() => maybeLoadScript(\"vega-lite\", \"5.8.0\"))\n",
       "        .then(() => maybeLoadScript(\"vega-embed\", \"6\"))\n",
       "        .catch(showError)\n",
       "        .then(() => displayChart(vegaEmbed));\n",
       "    }\n",
       "  })({\"config\": {\"view\": {\"continuousWidth\": 300, \"continuousHeight\": 300}, \"axis\": {\"labelAngle\": 45, \"labelFontSize\": 15, \"titleFontSize\": 20}}, \"data\": {\"url\": \"altair-data-c0c3da8ef50258cdc7b6cd342bb49d9c.csv\", \"format\": {\"type\": \"csv\"}}, \"mark\": {\"type\": \"bar\"}, \"encoding\": {\"color\": {\"field\": \"eventtype\", \"sort\": {\"field\": \"count\", \"order\": \"descending\"}, \"title\": \"Log event type\", \"type\": \"nominal\"}, \"x\": {\"field\": \"hour\", \"timeUnit\": \"hours\", \"title\": \"Hour\", \"type\": \"temporal\"}, \"y\": {\"field\": \"count\", \"title\": \"Logs count\", \"type\": \"quantitative\"}}, \"height\": 300, \"title\": \"Last month Logs count per event type\", \"width\": 1500, \"$schema\": \"https://vega.github.io/schema/vega-lite/v5.8.0.json\"}, {\"mode\": \"vega-lite\"});\n",
       "</script>"
      ],
      "text/plain": [
       "alt.Chart(...)"
      ]
     },
     "execution_count": 73,
     "metadata": {},
     "output_type": "execute_result"
    }
   ],
   "source": [
    "df = pd.read_csv('eventtype_hour_30.csv')\n",
    "df.hour = pd.to_datetime(df.hour)\n",
    "# create stacked bar chart with x axis tilted 45 degrees\n",
    "chart = alt.Chart(df).mark_bar().encode(\n",
    "    alt.X('hours(hour):T', title='Hour'),\n",
    "    alt.Y('count:Q', title='Logs count'),\n",
    "    alt.Color('eventtype:N', title='Log event type',sort=alt.SortField(field='count', order='descending')),\n",
    ")\n",
    "# add rule lines for sign the days\n",
    "rule = alt.Chart(df).mark_rule(color='red', strokeDash=[5, 5]).encode(\n",
    "    x='day:T'\n",
    ").transform_timeunit(\n",
    "    day='yearmonthdate(hour)'\n",
    ")\n",
    "(chart).properties(\n",
    "    width=1500,\n",
    "    height=300,\n",
    "    title='Last month Logs count per event type'\n",
    ").configure_axis(\n",
    "    labelFontSize=15,\n",
    "    titleFontSize=20,\n",
    "    labelAngle=45\n",
    ")\n"
   ]
  },
  {
   "cell_type": "code",
   "execution_count": 80,
   "metadata": {},
   "outputs": [
    {
     "data": {
      "text/html": [
       "\n",
       "<style>\n",
       "  #altair-viz-a343e236706e45e6aa0ada5021dd5bb9.vega-embed {\n",
       "    width: 100%;\n",
       "    display: flex;\n",
       "  }\n",
       "\n",
       "  #altair-viz-a343e236706e45e6aa0ada5021dd5bb9.vega-embed details,\n",
       "  #altair-viz-a343e236706e45e6aa0ada5021dd5bb9.vega-embed details summary {\n",
       "    position: relative;\n",
       "  }\n",
       "</style>\n",
       "<div id=\"altair-viz-a343e236706e45e6aa0ada5021dd5bb9\"></div>\n",
       "<script type=\"text/javascript\">\n",
       "  var VEGA_DEBUG = (typeof VEGA_DEBUG == \"undefined\") ? {} : VEGA_DEBUG;\n",
       "  (function(spec, embedOpt){\n",
       "    let outputDiv = document.currentScript.previousElementSibling;\n",
       "    if (outputDiv.id !== \"altair-viz-a343e236706e45e6aa0ada5021dd5bb9\") {\n",
       "      outputDiv = document.getElementById(\"altair-viz-a343e236706e45e6aa0ada5021dd5bb9\");\n",
       "    }\n",
       "    const paths = {\n",
       "      \"vega\": \"https://cdn.jsdelivr.net/npm/vega@5?noext\",\n",
       "      \"vega-lib\": \"https://cdn.jsdelivr.net/npm/vega-lib?noext\",\n",
       "      \"vega-lite\": \"https://cdn.jsdelivr.net/npm/vega-lite@5.8.0?noext\",\n",
       "      \"vega-embed\": \"https://cdn.jsdelivr.net/npm/vega-embed@6?noext\",\n",
       "    };\n",
       "\n",
       "    function maybeLoadScript(lib, version) {\n",
       "      var key = `${lib.replace(\"-\", \"\")}_version`;\n",
       "      return (VEGA_DEBUG[key] == version) ?\n",
       "        Promise.resolve(paths[lib]) :\n",
       "        new Promise(function(resolve, reject) {\n",
       "          var s = document.createElement('script');\n",
       "          document.getElementsByTagName(\"head\")[0].appendChild(s);\n",
       "          s.async = true;\n",
       "          s.onload = () => {\n",
       "            VEGA_DEBUG[key] = version;\n",
       "            return resolve(paths[lib]);\n",
       "          };\n",
       "          s.onerror = () => reject(`Error loading script: ${paths[lib]}`);\n",
       "          s.src = paths[lib];\n",
       "        });\n",
       "    }\n",
       "\n",
       "    function showError(err) {\n",
       "      outputDiv.innerHTML = `<div class=\"error\" style=\"color:red;\">${err}</div>`;\n",
       "      throw err;\n",
       "    }\n",
       "\n",
       "    function displayChart(vegaEmbed) {\n",
       "      vegaEmbed(outputDiv, spec, embedOpt)\n",
       "        .catch(err => showError(`Javascript Error: ${err.message}<br>This usually means there's a typo in your chart specification. See the javascript console for the full traceback.`));\n",
       "    }\n",
       "\n",
       "    if(typeof define === \"function\" && define.amd) {\n",
       "      requirejs.config({paths});\n",
       "      require([\"vega-embed\"], displayChart, err => showError(`Error loading script: ${err.message}`));\n",
       "    } else {\n",
       "      maybeLoadScript(\"vega\", \"5\")\n",
       "        .then(() => maybeLoadScript(\"vega-lite\", \"5.8.0\"))\n",
       "        .then(() => maybeLoadScript(\"vega-embed\", \"6\"))\n",
       "        .catch(showError)\n",
       "        .then(() => displayChart(vegaEmbed));\n",
       "    }\n",
       "  })({\"config\": {\"view\": {\"continuousWidth\": 300, \"continuousHeight\": 300}, \"axis\": {\"labelAngle\": 45, \"labelFontSize\": 15, \"titleFontSize\": 20}}, \"data\": {\"url\": \"altair-data-c0c3da8ef50258cdc7b6cd342bb49d9c.csv\", \"format\": {\"type\": \"csv\"}}, \"mark\": {\"type\": \"bar\"}, \"encoding\": {\"color\": {\"field\": \"eventtype\", \"sort\": {\"field\": \"count\", \"order\": \"descending\"}, \"title\": \"Log event type\", \"type\": \"nominal\"}, \"x\": {\"field\": \"hour\", \"timeUnit\": \"day\", \"title\": \"Day\", \"type\": \"temporal\"}, \"y\": {\"field\": \"count\", \"title\": \"Logs count\", \"type\": \"quantitative\"}}, \"height\": 300, \"title\": \"Last month Logs count per event type\", \"width\": 1500, \"$schema\": \"https://vega.github.io/schema/vega-lite/v5.8.0.json\"}, {\"mode\": \"vega-lite\"});\n",
       "</script>"
      ],
      "text/plain": [
       "alt.Chart(...)"
      ]
     },
     "execution_count": 80,
     "metadata": {},
     "output_type": "execute_result"
    }
   ],
   "source": [
    "df = pd.read_csv('eventtype_hour_30.csv')\n",
    "df.hour = pd.to_datetime(df.hour)\n",
    "# create stacked bar chart with x axis tilted 45 degrees\n",
    "chart = alt.Chart(df).mark_bar().encode(\n",
    "    alt.X('day(hour):T', title='Day'),\n",
    "    alt.Y('count:Q', title='Logs count'),\n",
    "    alt.Color('eventtype:N', title='Log event type',sort=alt.SortField(field='count', order='descending')),\n",
    ")\n",
    "# add rule lines for sign the days\n",
    "rule = alt.Chart(df).mark_rule(color='red', strokeDash=[5, 5]).encode(\n",
    "    x='day:T'\n",
    ").transform_timeunit(\n",
    "    day='yearmonthdate(hour)'\n",
    ")\n",
    "(chart).properties(\n",
    "    width=1500,\n",
    "    height=300,\n",
    "    title='Last month Logs count per event type'\n",
    ").configure_axis(\n",
    "    labelFontSize=15,\n",
    "    titleFontSize=20,\n",
    "    labelAngle=45\n",
    ")\n"
   ]
  },
  {
   "cell_type": "code",
   "execution_count": null,
   "metadata": {},
   "outputs": [
    {
     "data": {
      "text/html": [
       "\n",
       "<style>\n",
       "  #altair-viz-8baeaa364958420fa48f4718239880cb.vega-embed {\n",
       "    width: 100%;\n",
       "    display: flex;\n",
       "  }\n",
       "\n",
       "  #altair-viz-8baeaa364958420fa48f4718239880cb.vega-embed details,\n",
       "  #altair-viz-8baeaa364958420fa48f4718239880cb.vega-embed details summary {\n",
       "    position: relative;\n",
       "  }\n",
       "</style>\n",
       "<div id=\"altair-viz-8baeaa364958420fa48f4718239880cb\"></div>\n",
       "<script type=\"text/javascript\">\n",
       "  var VEGA_DEBUG = (typeof VEGA_DEBUG == \"undefined\") ? {} : VEGA_DEBUG;\n",
       "  (function(spec, embedOpt){\n",
       "    let outputDiv = document.currentScript.previousElementSibling;\n",
       "    if (outputDiv.id !== \"altair-viz-8baeaa364958420fa48f4718239880cb\") {\n",
       "      outputDiv = document.getElementById(\"altair-viz-8baeaa364958420fa48f4718239880cb\");\n",
       "    }\n",
       "    const paths = {\n",
       "      \"vega\": \"https://cdn.jsdelivr.net/npm/vega@5?noext\",\n",
       "      \"vega-lib\": \"https://cdn.jsdelivr.net/npm/vega-lib?noext\",\n",
       "      \"vega-lite\": \"https://cdn.jsdelivr.net/npm/vega-lite@5.8.0?noext\",\n",
       "      \"vega-embed\": \"https://cdn.jsdelivr.net/npm/vega-embed@6?noext\",\n",
       "    };\n",
       "\n",
       "    function maybeLoadScript(lib, version) {\n",
       "      var key = `${lib.replace(\"-\", \"\")}_version`;\n",
       "      return (VEGA_DEBUG[key] == version) ?\n",
       "        Promise.resolve(paths[lib]) :\n",
       "        new Promise(function(resolve, reject) {\n",
       "          var s = document.createElement('script');\n",
       "          document.getElementsByTagName(\"head\")[0].appendChild(s);\n",
       "          s.async = true;\n",
       "          s.onload = () => {\n",
       "            VEGA_DEBUG[key] = version;\n",
       "            return resolve(paths[lib]);\n",
       "          };\n",
       "          s.onerror = () => reject(`Error loading script: ${paths[lib]}`);\n",
       "          s.src = paths[lib];\n",
       "        });\n",
       "    }\n",
       "\n",
       "    function showError(err) {\n",
       "      outputDiv.innerHTML = `<div class=\"error\" style=\"color:red;\">${err}</div>`;\n",
       "      throw err;\n",
       "    }\n",
       "\n",
       "    function displayChart(vegaEmbed) {\n",
       "      vegaEmbed(outputDiv, spec, embedOpt)\n",
       "        .catch(err => showError(`Javascript Error: ${err.message}<br>This usually means there's a typo in your chart specification. See the javascript console for the full traceback.`));\n",
       "    }\n",
       "\n",
       "    if(typeof define === \"function\" && define.amd) {\n",
       "      requirejs.config({paths});\n",
       "      require([\"vega-embed\"], displayChart, err => showError(`Error loading script: ${err.message}`));\n",
       "    } else {\n",
       "      maybeLoadScript(\"vega\", \"5\")\n",
       "        .then(() => maybeLoadScript(\"vega-lite\", \"5.8.0\"))\n",
       "        .then(() => maybeLoadScript(\"vega-embed\", \"6\"))\n",
       "        .catch(showError)\n",
       "        .then(() => displayChart(vegaEmbed));\n",
       "    }\n",
       "  })({\"config\": {\"view\": {\"continuousWidth\": 300, \"continuousHeight\": 300}, \"axis\": {\"labelAngle\": 45, \"labelFontSize\": 15, \"titleFontSize\": 20}}, \"layer\": [{\"data\": {\"url\": \"altair-data-e90c69bea397540165fb47ba22ef46f0.csv\", \"format\": {\"type\": \"csv\"}}, \"mark\": {\"type\": \"line\"}, \"encoding\": {\"color\": {\"field\": \"eventtype\", \"title\": \"Log event type\", \"type\": \"nominal\"}, \"x\": {\"field\": \"hour\", \"title\": \"Hour\", \"type\": \"temporal\"}, \"y\": {\"field\": \"count\", \"title\": \"Logs count\", \"type\": \"quantitative\"}}}, {\"data\": {\"url\": \"altair-data-c0c3da8ef50258cdc7b6cd342bb49d9c.csv\", \"format\": {\"type\": \"csv\"}}, \"mark\": {\"type\": \"rule\", \"color\": \"red\", \"strokeDash\": [3, 3]}, \"encoding\": {\"x\": {\"field\": \"day\", \"type\": \"temporal\"}}, \"transform\": [{\"field\": \"hour\", \"timeUnit\": \"yearmonthdate\", \"as\": \"day\"}]}], \"height\": 300, \"title\": \"Last month Logs count per event type\", \"width\": 1500, \"$schema\": \"https://vega.github.io/schema/vega-lite/v5.8.0.json\"}, {\"mode\": \"vega-lite\"});\n",
       "</script>"
      ],
      "text/plain": [
       "alt.LayerChart(...)"
      ]
     },
     "execution_count": 91,
     "metadata": {},
     "output_type": "execute_result"
    }
   ],
   "source": [
    "chart = alt.Chart(df[df.hour.dt.hour==7]).mark_line().encode(\n",
    "    alt.X('hour:T', title='Hour'),\n",
    "    alt.Y('count:Q', title='Logs count'),\n",
    "    alt.Color('eventtype:N', title='Log event type'),\n",
    ")\n",
    "# add rule lines for sign the days\n",
    "rule = alt.Chart(df).mark_rule(color='red', strokeDash=[3, 3]).encode(\n",
    "    x='day:T'\n",
    ").transform_timeunit(\n",
    "    day='yearmonthdate(hour)'\n",
    ")\n",
    "(chart+rule).properties(\n",
    "    width=1500,\n",
    "    height=300,\n",
    "    title='Last month Logs count per event type'\n",
    ").configure_axis(\n",
    "    labelFontSize=15,\n",
    "    titleFontSize=20,\n",
    "    labelAngle=45\n",
    ")"
   ]
  },
  {
   "cell_type": "code",
   "execution_count": null,
   "metadata": {},
   "outputs": [
    {
     "name": "stderr",
     "output_type": "stream",
     "text": [
      "/tmp/ipykernel_30871/2909946745.py:1: FutureWarning: The default value of numeric_only in DataFrameGroupBy.sum is deprecated. In a future version, numeric_only will default to False. Either specify numeric_only or select only columns which should be valid for the function.\n",
      "  df[df.hour.dt.hour==7].groupby('eventtype').sum().sort_values('count', ascending=False)\n"
     ]
    },
    {
     "data": {
      "text/html": [
       "<div>\n",
       "<style scoped>\n",
       "    .dataframe tbody tr th:only-of-type {\n",
       "        vertical-align: middle;\n",
       "    }\n",
       "\n",
       "    .dataframe tbody tr th {\n",
       "        vertical-align: top;\n",
       "    }\n",
       "\n",
       "    .dataframe thead th {\n",
       "        text-align: right;\n",
       "    }\n",
       "</style>\n",
       "<table border=\"1\" class=\"dataframe\">\n",
       "  <thead>\n",
       "    <tr style=\"text-align: right;\">\n",
       "      <th></th>\n",
       "      <th>count</th>\n",
       "    </tr>\n",
       "    <tr>\n",
       "      <th>eventtype</th>\n",
       "      <th></th>\n",
       "    </tr>\n",
       "  </thead>\n",
       "  <tbody>\n",
       "    <tr>\n",
       "      <th>endpoint_services_processes</th>\n",
       "      <td>700636</td>\n",
       "    </tr>\n",
       "    <tr>\n",
       "      <th>windows_event_signature</th>\n",
       "      <td>700636</td>\n",
       "    </tr>\n",
       "    <tr>\n",
       "      <th>wineventlog_windows</th>\n",
       "      <td>481102</td>\n",
       "    </tr>\n",
       "    <tr>\n",
       "      <th>winsec</th>\n",
       "      <td>314056</td>\n",
       "    </tr>\n",
       "    <tr>\n",
       "      <th>wineventlog_security</th>\n",
       "      <td>314056</td>\n",
       "    </tr>\n",
       "    <tr>\n",
       "      <th>ms-sysmon-regmod</th>\n",
       "      <td>219265</td>\n",
       "    </tr>\n",
       "    <tr>\n",
       "      <th>windows_account_management</th>\n",
       "      <td>127190</td>\n",
       "    </tr>\n",
       "    <tr>\n",
       "      <th>wineventlog_system</th>\n",
       "      <td>100351</td>\n",
       "    </tr>\n",
       "    <tr>\n",
       "      <th>winsystem</th>\n",
       "      <td>100351</td>\n",
       "    </tr>\n",
       "    <tr>\n",
       "      <th>windows_security_change</th>\n",
       "      <td>68404</td>\n",
       "    </tr>\n",
       "    <tr>\n",
       "      <th>winapp</th>\n",
       "      <td>66695</td>\n",
       "    </tr>\n",
       "    <tr>\n",
       "      <th>wineventlog_application</th>\n",
       "      <td>66695</td>\n",
       "    </tr>\n",
       "    <tr>\n",
       "      <th>windows_system_update</th>\n",
       "      <td>50075</td>\n",
       "    </tr>\n",
       "    <tr>\n",
       "      <th>windows_security_authentication</th>\n",
       "      <td>47615</td>\n",
       "    </tr>\n",
       "    <tr>\n",
       "      <th>windows_logon_success</th>\n",
       "      <td>47185</td>\n",
       "    </tr>\n",
       "    <tr>\n",
       "      <th>windows_special_privileges</th>\n",
       "      <td>46170</td>\n",
       "    </tr>\n",
       "    <tr>\n",
       "      <th>windows_security_change_account</th>\n",
       "      <td>8720</td>\n",
       "    </tr>\n",
       "    <tr>\n",
       "      <th>windows_logoff</th>\n",
       "      <td>8651</td>\n",
       "    </tr>\n",
       "    <tr>\n",
       "      <th>windows_endpoint_services</th>\n",
       "      <td>5748</td>\n",
       "    </tr>\n",
       "    <tr>\n",
       "      <th>windows_time_sync</th>\n",
       "      <td>5209</td>\n",
       "    </tr>\n",
       "    <tr>\n",
       "      <th>windows_logon_explicit</th>\n",
       "      <td>895</td>\n",
       "    </tr>\n",
       "    <tr>\n",
       "      <th>windows_logon_failure</th>\n",
       "      <td>430</td>\n",
       "    </tr>\n",
       "    <tr>\n",
       "      <th>windows_endpoint_processes</th>\n",
       "      <td>264</td>\n",
       "    </tr>\n",
       "    <tr>\n",
       "      <th>windows_process_new</th>\n",
       "      <td>246</td>\n",
       "    </tr>\n",
       "    <tr>\n",
       "      <th>windows_system_update_status</th>\n",
       "      <td>66</td>\n",
       "    </tr>\n",
       "    <tr>\n",
       "      <th>windows_security_access_removed</th>\n",
       "      <td>36</td>\n",
       "    </tr>\n",
       "    <tr>\n",
       "      <th>windows_security_access_granted</th>\n",
       "      <td>36</td>\n",
       "    </tr>\n",
       "    <tr>\n",
       "      <th>windows_account_password_set</th>\n",
       "      <td>29</td>\n",
       "    </tr>\n",
       "    <tr>\n",
       "      <th>windows_account_modified</th>\n",
       "      <td>29</td>\n",
       "    </tr>\n",
       "    <tr>\n",
       "      <th>windows_process_token</th>\n",
       "      <td>18</td>\n",
       "    </tr>\n",
       "    <tr>\n",
       "      <th>windows_security_change_audit</th>\n",
       "      <td>15</td>\n",
       "    </tr>\n",
       "    <tr>\n",
       "      <th>windows_audit_errors</th>\n",
       "      <td>15</td>\n",
       "    </tr>\n",
       "    <tr>\n",
       "      <th>windows_audit_log_stopped</th>\n",
       "      <td>3</td>\n",
       "    </tr>\n",
       "  </tbody>\n",
       "</table>\n",
       "</div>"
      ],
      "text/plain": [
       "                                  count\n",
       "eventtype                              \n",
       "endpoint_services_processes      700636\n",
       "windows_event_signature          700636\n",
       "wineventlog_windows              481102\n",
       "winsec                           314056\n",
       "wineventlog_security             314056\n",
       "ms-sysmon-regmod                 219265\n",
       "windows_account_management       127190\n",
       "wineventlog_system               100351\n",
       "winsystem                        100351\n",
       "windows_security_change           68404\n",
       "winapp                            66695\n",
       "wineventlog_application           66695\n",
       "windows_system_update             50075\n",
       "windows_security_authentication   47615\n",
       "windows_logon_success             47185\n",
       "windows_special_privileges        46170\n",
       "windows_security_change_account    8720\n",
       "windows_logoff                     8651\n",
       "windows_endpoint_services          5748\n",
       "windows_time_sync                  5209\n",
       "windows_logon_explicit              895\n",
       "windows_logon_failure               430\n",
       "windows_endpoint_processes          264\n",
       "windows_process_new                 246\n",
       "windows_system_update_status         66\n",
       "windows_security_access_removed      36\n",
       "windows_security_access_granted      36\n",
       "windows_account_password_set         29\n",
       "windows_account_modified             29\n",
       "windows_process_token                18\n",
       "windows_security_change_audit        15\n",
       "windows_audit_errors                 15\n",
       "windows_audit_log_stopped             3"
      ]
     },
     "execution_count": 16,
     "metadata": {},
     "output_type": "execute_result"
    }
   ],
   "source": [
    "df[df.hour.dt.hour==7].groupby('eventtype').sum().sort_values('count', ascending=False)"
   ]
  },
  {
   "cell_type": "code",
   "execution_count": null,
   "metadata": {},
   "outputs": [
    {
     "data": {
      "text/html": [
       "\n",
       "<style>\n",
       "  #altair-viz-05644d86ec9246619880a0d941ab0261.vega-embed {\n",
       "    width: 100%;\n",
       "    display: flex;\n",
       "  }\n",
       "\n",
       "  #altair-viz-05644d86ec9246619880a0d941ab0261.vega-embed details,\n",
       "  #altair-viz-05644d86ec9246619880a0d941ab0261.vega-embed details summary {\n",
       "    position: relative;\n",
       "  }\n",
       "</style>\n",
       "<div id=\"altair-viz-05644d86ec9246619880a0d941ab0261\"></div>\n",
       "<script type=\"text/javascript\">\n",
       "  var VEGA_DEBUG = (typeof VEGA_DEBUG == \"undefined\") ? {} : VEGA_DEBUG;\n",
       "  (function(spec, embedOpt){\n",
       "    let outputDiv = document.currentScript.previousElementSibling;\n",
       "    if (outputDiv.id !== \"altair-viz-05644d86ec9246619880a0d941ab0261\") {\n",
       "      outputDiv = document.getElementById(\"altair-viz-05644d86ec9246619880a0d941ab0261\");\n",
       "    }\n",
       "    const paths = {\n",
       "      \"vega\": \"https://cdn.jsdelivr.net/npm/vega@5?noext\",\n",
       "      \"vega-lib\": \"https://cdn.jsdelivr.net/npm/vega-lib?noext\",\n",
       "      \"vega-lite\": \"https://cdn.jsdelivr.net/npm/vega-lite@5.8.0?noext\",\n",
       "      \"vega-embed\": \"https://cdn.jsdelivr.net/npm/vega-embed@6?noext\",\n",
       "    };\n",
       "\n",
       "    function maybeLoadScript(lib, version) {\n",
       "      var key = `${lib.replace(\"-\", \"\")}_version`;\n",
       "      return (VEGA_DEBUG[key] == version) ?\n",
       "        Promise.resolve(paths[lib]) :\n",
       "        new Promise(function(resolve, reject) {\n",
       "          var s = document.createElement('script');\n",
       "          document.getElementsByTagName(\"head\")[0].appendChild(s);\n",
       "          s.async = true;\n",
       "          s.onload = () => {\n",
       "            VEGA_DEBUG[key] = version;\n",
       "            return resolve(paths[lib]);\n",
       "          };\n",
       "          s.onerror = () => reject(`Error loading script: ${paths[lib]}`);\n",
       "          s.src = paths[lib];\n",
       "        });\n",
       "    }\n",
       "\n",
       "    function showError(err) {\n",
       "      outputDiv.innerHTML = `<div class=\"error\" style=\"color:red;\">${err}</div>`;\n",
       "      throw err;\n",
       "    }\n",
       "\n",
       "    function displayChart(vegaEmbed) {\n",
       "      vegaEmbed(outputDiv, spec, embedOpt)\n",
       "        .catch(err => showError(`Javascript Error: ${err.message}<br>This usually means there's a typo in your chart specification. See the javascript console for the full traceback.`));\n",
       "    }\n",
       "\n",
       "    if(typeof define === \"function\" && define.amd) {\n",
       "      requirejs.config({paths});\n",
       "      require([\"vega-embed\"], displayChart, err => showError(`Error loading script: ${err.message}`));\n",
       "    } else {\n",
       "      maybeLoadScript(\"vega\", \"5\")\n",
       "        .then(() => maybeLoadScript(\"vega-lite\", \"5.8.0\"))\n",
       "        .then(() => maybeLoadScript(\"vega-embed\", \"6\"))\n",
       "        .catch(showError)\n",
       "        .then(() => displayChart(vegaEmbed));\n",
       "    }\n",
       "  })({\"config\": {\"view\": {\"continuousWidth\": 300, \"continuousHeight\": 300}}, \"data\": {\"url\": \"altair-data-e90c69bea397540165fb47ba22ef46f0.csv\", \"format\": {\"type\": \"csv\"}}, \"mark\": {\"type\": \"arc\"}, \"encoding\": {\"color\": {\"field\": \"eventtype\", \"sort\": {\"field\": \"count\", \"order\": \"descending\"}, \"title\": \"Log eventtype\", \"type\": \"nominal\"}, \"theta\": {\"field\": \"count\", \"title\": \"Logs count\", \"type\": \"quantitative\"}}, \"height\": 800, \"title\": \"Last month 7 am count per sourcetype\", \"width\": 800, \"$schema\": \"https://vega.github.io/schema/vega-lite/v5.8.0.json\"}, {\"mode\": \"vega-lite\"});\n",
       "</script>"
      ],
      "text/plain": [
       "alt.Chart(...)"
      ]
     },
     "execution_count": 18,
     "metadata": {},
     "output_type": "execute_result"
    }
   ],
   "source": [
    "# make pie chart from dt splunk\n",
    "pie_chart = alt.Chart(df[df.hour.dt.hour==7]).mark_arc().encode(\n",
    "    alt.Theta('count:Q', title='Logs count'),\n",
    "    alt.Color('eventtype:N', title='Log eventtype',sort=alt.SortField(field='count', order='descending')),\n",
    ").properties(\n",
    "    width=800,\n",
    "    height=800,\n",
    "    title='Last month 7 am count per sourcetype'\n",
    ")\n",
    "pie_chart"
   ]
  },
  {
   "cell_type": "code",
   "execution_count": null,
   "metadata": {},
   "outputs": [
    {
     "data": {
      "text/html": [
       "\n",
       "<style>\n",
       "  #altair-viz-31861ad6869f4774b779ed61be9e5fde.vega-embed {\n",
       "    width: 100%;\n",
       "    display: flex;\n",
       "  }\n",
       "\n",
       "  #altair-viz-31861ad6869f4774b779ed61be9e5fde.vega-embed details,\n",
       "  #altair-viz-31861ad6869f4774b779ed61be9e5fde.vega-embed details summary {\n",
       "    position: relative;\n",
       "  }\n",
       "</style>\n",
       "<div id=\"altair-viz-31861ad6869f4774b779ed61be9e5fde\"></div>\n",
       "<script type=\"text/javascript\">\n",
       "  var VEGA_DEBUG = (typeof VEGA_DEBUG == \"undefined\") ? {} : VEGA_DEBUG;\n",
       "  (function(spec, embedOpt){\n",
       "    let outputDiv = document.currentScript.previousElementSibling;\n",
       "    if (outputDiv.id !== \"altair-viz-31861ad6869f4774b779ed61be9e5fde\") {\n",
       "      outputDiv = document.getElementById(\"altair-viz-31861ad6869f4774b779ed61be9e5fde\");\n",
       "    }\n",
       "    const paths = {\n",
       "      \"vega\": \"https://cdn.jsdelivr.net/npm/vega@5?noext\",\n",
       "      \"vega-lib\": \"https://cdn.jsdelivr.net/npm/vega-lib?noext\",\n",
       "      \"vega-lite\": \"https://cdn.jsdelivr.net/npm/vega-lite@5.8.0?noext\",\n",
       "      \"vega-embed\": \"https://cdn.jsdelivr.net/npm/vega-embed@6?noext\",\n",
       "    };\n",
       "\n",
       "    function maybeLoadScript(lib, version) {\n",
       "      var key = `${lib.replace(\"-\", \"\")}_version`;\n",
       "      return (VEGA_DEBUG[key] == version) ?\n",
       "        Promise.resolve(paths[lib]) :\n",
       "        new Promise(function(resolve, reject) {\n",
       "          var s = document.createElement('script');\n",
       "          document.getElementsByTagName(\"head\")[0].appendChild(s);\n",
       "          s.async = true;\n",
       "          s.onload = () => {\n",
       "            VEGA_DEBUG[key] = version;\n",
       "            return resolve(paths[lib]);\n",
       "          };\n",
       "          s.onerror = () => reject(`Error loading script: ${paths[lib]}`);\n",
       "          s.src = paths[lib];\n",
       "        });\n",
       "    }\n",
       "\n",
       "    function showError(err) {\n",
       "      outputDiv.innerHTML = `<div class=\"error\" style=\"color:red;\">${err}</div>`;\n",
       "      throw err;\n",
       "    }\n",
       "\n",
       "    function displayChart(vegaEmbed) {\n",
       "      vegaEmbed(outputDiv, spec, embedOpt)\n",
       "        .catch(err => showError(`Javascript Error: ${err.message}<br>This usually means there's a typo in your chart specification. See the javascript console for the full traceback.`));\n",
       "    }\n",
       "\n",
       "    if(typeof define === \"function\" && define.amd) {\n",
       "      requirejs.config({paths});\n",
       "      require([\"vega-embed\"], displayChart, err => showError(`Error loading script: ${err.message}`));\n",
       "    } else {\n",
       "      maybeLoadScript(\"vega\", \"5\")\n",
       "        .then(() => maybeLoadScript(\"vega-lite\", \"5.8.0\"))\n",
       "        .then(() => maybeLoadScript(\"vega-embed\", \"6\"))\n",
       "        .catch(showError)\n",
       "        .then(() => displayChart(vegaEmbed));\n",
       "    }\n",
       "  })({\"config\": {\"view\": {\"continuousWidth\": 300, \"continuousHeight\": 300}, \"axis\": {\"labelAngle\": 45, \"labelFontSize\": 15, \"titleFontSize\": 20}, \"legend\": {\"labelFontSize\": 15}}, \"data\": {\"name\": \"data-265366799170dbe5bfb8826ecf56caaf\"}, \"mark\": {\"type\": \"bar\"}, \"encoding\": {\"color\": {\"field\": \"eventtype\", \"title\": \"Log eventtype\", \"type\": \"nominal\"}, \"x\": {\"field\": \"source\", \"title\": \"source\", \"type\": \"nominal\"}, \"y\": {\"field\": \"count\", \"title\": \"Logs count\", \"type\": \"quantitative\"}}, \"height\": 800, \"title\": \"Last week DT-Splunk host Logs count per eventtype\", \"width\": 1000, \"$schema\": \"https://vega.github.io/schema/vega-lite/v5.8.0.json\", \"datasets\": {\"data-265366799170dbe5bfb8826ecf56caaf\": [{\"eventtype\": \"endpoint_services_processes\", \"source\": \"WinEventLog:Application\", \"count\": 206}, {\"eventtype\": \"endpoint_services_processes\", \"source\": \"WinEventLog:Security\", \"count\": 81750}, {\"eventtype\": \"endpoint_services_processes\", \"source\": \"WinEventLog:System\", \"count\": 1922}, {\"eventtype\": \"endpoint_services_processes\", \"source\": \"XmlWinEventLog:Microsoft-Windows-Sysmon/Operational\", \"count\": 110}, {\"eventtype\": \"ms-sysmon-regmod\", \"source\": \"XmlWinEventLog:Microsoft-Windows-Sysmon/Operational\", \"count\": 110}, {\"eventtype\": \"winapp\", \"source\": \"WinEventLog:Application\", \"count\": 206}, {\"eventtype\": \"windows_event_signature\", \"source\": \"WinEventLog:Application\", \"count\": 206}, {\"eventtype\": \"windows_event_signature\", \"source\": \"WinEventLog:Security\", \"count\": 81750}, {\"eventtype\": \"windows_event_signature\", \"source\": \"WinEventLog:System\", \"count\": 1922}, {\"eventtype\": \"windows_event_signature\", \"source\": \"XmlWinEventLog:Microsoft-Windows-Sysmon/Operational\", \"count\": 110}, {\"eventtype\": \"windows_logon_failure\", \"source\": \"WinEventLog:Security\", \"count\": 5136}, {\"eventtype\": \"windows_logon_success\", \"source\": \"WinEventLog:Security\", \"count\": 72558}, {\"eventtype\": \"windows_security_authentication\", \"source\": \"WinEventLog:Security\", \"count\": 77695}, {\"eventtype\": \"windows_security_change\", \"source\": \"WinEventLog:Security\", \"count\": 3607}, {\"eventtype\": \"windows_time_sync\", \"source\": \"WinEventLog:System\", \"count\": 720}, {\"eventtype\": \"wineventlog_application\", \"source\": \"WinEventLog:Application\", \"count\": 206}, {\"eventtype\": \"wineventlog_security\", \"source\": \"WinEventLog:Security\", \"count\": 81750}, {\"eventtype\": \"wineventlog_system\", \"source\": \"WinEventLog:System\", \"count\": 1922}, {\"eventtype\": \"wineventlog_windows\", \"source\": \"WinEventLog:Application\", \"count\": 206}, {\"eventtype\": \"wineventlog_windows\", \"source\": \"WinEventLog:Security\", \"count\": 81750}, {\"eventtype\": \"wineventlog_windows\", \"source\": \"WinEventLog:System\", \"count\": 1922}, {\"eventtype\": \"winsec\", \"source\": \"WinEventLog:Security\", \"count\": 81750}, {\"eventtype\": \"winsystem\", \"source\": \"WinEventLog:System\", \"count\": 1922}]}}, {\"mode\": \"vega-lite\"});\n",
       "</script>"
      ],
      "text/plain": [
       "alt.Chart(...)"
      ]
     },
     "execution_count": 47,
     "metadata": {},
     "output_type": "execute_result"
    }
   ],
   "source": [
    "# make pie chart from dt splunk\n",
    "df = pd.read_csv('eventtype_source.csv')\n",
    "chart = alt.Chart(df).mark_bar().encode(\n",
    "    alt.Color('eventtype:N', title='Log eventtype'),\n",
    "    alt.Y('count:Q', title='Logs count'),\n",
    "    alt.X('source:N', title='source'),\n",
    ").properties(\n",
    "    width=1000,\n",
    "    height=800,\n",
    "    title='Last week DT-Splunk host Logs count per eventtype'\n",
    ").configure_axis(\n",
    "    labelFontSize=15,\n",
    "    titleFontSize=20,\n",
    "    labelAngle=45\n",
    ").configure_legend(\n",
    "    labelFontSize=15\n",
    ")\n",
    "chart"
   ]
  },
  {
   "cell_type": "code",
   "execution_count": null,
   "metadata": {},
   "outputs": [],
   "source": []
  },
  {
   "cell_type": "code",
   "execution_count": null,
   "metadata": {},
   "outputs": [
    {
     "data": {
      "text/html": [
       "\n",
       "<style>\n",
       "  #altair-viz-606356b4b8ef4e0f9ee353ef6ca8e1e6.vega-embed {\n",
       "    width: 100%;\n",
       "    display: flex;\n",
       "  }\n",
       "\n",
       "  #altair-viz-606356b4b8ef4e0f9ee353ef6ca8e1e6.vega-embed details,\n",
       "  #altair-viz-606356b4b8ef4e0f9ee353ef6ca8e1e6.vega-embed details summary {\n",
       "    position: relative;\n",
       "  }\n",
       "</style>\n",
       "<div id=\"altair-viz-606356b4b8ef4e0f9ee353ef6ca8e1e6\"></div>\n",
       "<script type=\"text/javascript\">\n",
       "  var VEGA_DEBUG = (typeof VEGA_DEBUG == \"undefined\") ? {} : VEGA_DEBUG;\n",
       "  (function(spec, embedOpt){\n",
       "    let outputDiv = document.currentScript.previousElementSibling;\n",
       "    if (outputDiv.id !== \"altair-viz-606356b4b8ef4e0f9ee353ef6ca8e1e6\") {\n",
       "      outputDiv = document.getElementById(\"altair-viz-606356b4b8ef4e0f9ee353ef6ca8e1e6\");\n",
       "    }\n",
       "    const paths = {\n",
       "      \"vega\": \"https://cdn.jsdelivr.net/npm/vega@5?noext\",\n",
       "      \"vega-lib\": \"https://cdn.jsdelivr.net/npm/vega-lib?noext\",\n",
       "      \"vega-lite\": \"https://cdn.jsdelivr.net/npm/vega-lite@5.8.0?noext\",\n",
       "      \"vega-embed\": \"https://cdn.jsdelivr.net/npm/vega-embed@6?noext\",\n",
       "    };\n",
       "\n",
       "    function maybeLoadScript(lib, version) {\n",
       "      var key = `${lib.replace(\"-\", \"\")}_version`;\n",
       "      return (VEGA_DEBUG[key] == version) ?\n",
       "        Promise.resolve(paths[lib]) :\n",
       "        new Promise(function(resolve, reject) {\n",
       "          var s = document.createElement('script');\n",
       "          document.getElementsByTagName(\"head\")[0].appendChild(s);\n",
       "          s.async = true;\n",
       "          s.onload = () => {\n",
       "            VEGA_DEBUG[key] = version;\n",
       "            return resolve(paths[lib]);\n",
       "          };\n",
       "          s.onerror = () => reject(`Error loading script: ${paths[lib]}`);\n",
       "          s.src = paths[lib];\n",
       "        });\n",
       "    }\n",
       "\n",
       "    function showError(err) {\n",
       "      outputDiv.innerHTML = `<div class=\"error\" style=\"color:red;\">${err}</div>`;\n",
       "      throw err;\n",
       "    }\n",
       "\n",
       "    function displayChart(vegaEmbed) {\n",
       "      vegaEmbed(outputDiv, spec, embedOpt)\n",
       "        .catch(err => showError(`Javascript Error: ${err.message}<br>This usually means there's a typo in your chart specification. See the javascript console for the full traceback.`));\n",
       "    }\n",
       "\n",
       "    if(typeof define === \"function\" && define.amd) {\n",
       "      requirejs.config({paths});\n",
       "      require([\"vega-embed\"], displayChart, err => showError(`Error loading script: ${err.message}`));\n",
       "    } else {\n",
       "      maybeLoadScript(\"vega\", \"5\")\n",
       "        .then(() => maybeLoadScript(\"vega-lite\", \"5.8.0\"))\n",
       "        .then(() => maybeLoadScript(\"vega-embed\", \"6\"))\n",
       "        .catch(showError)\n",
       "        .then(() => displayChart(vegaEmbed));\n",
       "    }\n",
       "  })({\"config\": {\"view\": {\"continuousWidth\": 300, \"continuousHeight\": 300}}, \"data\": {\"name\": \"data-f0f19359d00c54946435fd753d578c64\"}, \"mark\": {\"type\": \"arc\"}, \"encoding\": {\"color\": {\"field\": \"sourcetype\", \"sort\": {\"field\": \"count\", \"order\": \"descending\"}, \"title\": \"Log sourcetype\", \"type\": \"nominal\"}, \"theta\": {\"field\": \"count\", \"title\": \"Logs count\", \"type\": \"quantitative\"}}, \"height\": 500, \"title\": \"24 hours DT-Splunk host Logs count per sourcetype\", \"width\": 600, \"$schema\": \"https://vega.github.io/schema/vega-lite/v5.8.0.json\", \"datasets\": {\"data-f0f19359d00c54946435fd753d578c64\": [{\"host\": \"dt-splunk\", \"sourcetype\": \"Linux:SELinuxConfig\", \"count\": 25}, {\"host\": \"dt-splunk\", \"sourcetype\": \"Unix:ListeningPorts\", \"count\": 559}, {\"host\": \"dt-splunk\", \"sourcetype\": \"Unix:SSHDConfig\", \"count\": 25}, {\"host\": \"dt-splunk\", \"sourcetype\": \"Unix:Service\", \"count\": 3550}, {\"host\": \"dt-splunk\", \"sourcetype\": \"Unix:Update\", \"count\": 6}, {\"host\": \"dt-splunk\", \"sourcetype\": \"Unix:Uptime\", \"count\": 2}, {\"host\": \"dt-splunk\", \"sourcetype\": \"Unix:UserAccounts\", \"count\": 725}, {\"host\": \"dt-splunk\", \"sourcetype\": \"Unix:Version\", \"count\": 2}, {\"host\": \"dt-splunk\", \"sourcetype\": \"bandwidth\", \"count\": 1475}, {\"host\": \"dt-splunk\", \"sourcetype\": \"bash_history\", \"count\": 463}, {\"host\": \"dt-splunk\", \"sourcetype\": \"cpu\", \"count\": 14750}, {\"host\": \"dt-splunk\", \"sourcetype\": \"cron-2\", \"count\": 8}, {\"host\": \"dt-splunk\", \"sourcetype\": \"cron-too_small\", \"count\": 234}, {\"host\": \"dt-splunk\", \"sourcetype\": \"df\", \"count\": 885}, {\"host\": \"dt-splunk\", \"sourcetype\": \"hardware\", \"count\": 3}, {\"host\": \"dt-splunk\", \"sourcetype\": \"interfaces\", \"count\": 1475}, {\"host\": \"dt-splunk\", \"sourcetype\": \"iostat\", \"count\": 1475}, {\"host\": \"dt-splunk\", \"sourcetype\": \"lastlog\", \"count\": 590}, {\"host\": \"dt-splunk\", \"sourcetype\": \"linux_secure\", \"count\": 187}, {\"host\": \"dt-splunk\", \"sourcetype\": \"lsof\", \"count\": 965478}, {\"host\": \"dt-splunk\", \"sourcetype\": \"netstat\", \"count\": 277965}, {\"host\": \"dt-splunk\", \"sourcetype\": \"nfsiostat\", \"count\": 1475}, {\"host\": \"dt-splunk\", \"sourcetype\": \"openPorts\", \"count\": 8089}, {\"host\": \"dt-splunk\", \"sourcetype\": \"package\", \"count\": 13350}, {\"host\": \"dt-splunk\", \"sourcetype\": \"protocol\", \"count\": 1475}, {\"host\": \"dt-splunk\", \"sourcetype\": \"ps\", \"count\": 701548}, {\"host\": \"dt-splunk\", \"sourcetype\": \"syslog\", \"count\": 424}, {\"host\": \"dt-splunk\", \"sourcetype\": \"time\", \"count\": 5}, {\"host\": \"dt-splunk\", \"sourcetype\": \"top\", \"count\": 376346}, {\"host\": \"dt-splunk\", \"sourcetype\": \"usersWithLoginPrivs\", \"count\": 75}, {\"host\": \"dt-splunk\", \"sourcetype\": \"vmstat\", \"count\": 1475}, {\"host\": \"dt-splunk\", \"sourcetype\": \"who\", \"count\": 686}]}}, {\"mode\": \"vega-lite\"});\n",
       "</script>"
      ],
      "text/plain": [
       "alt.Chart(...)"
      ]
     },
     "execution_count": 27,
     "metadata": {},
     "output_type": "execute_result"
    }
   ],
   "source": [
    "# make pie chart from dt splunk\n",
    "pie_chart = alt.Chart(df_dtsplunk).mark_arc().encode(\n",
    "    alt.Theta('count:Q', title='Logs count'),\n",
    "    alt.Color('sourcetype:N', title='Log sourcetype',sort=alt.SortField(field='count', order='descending')),\n",
    ").properties(\n",
    "    width=600,\n",
    "    height=500,\n",
    "    title='24 hours DT-Splunk host Logs count per sourcetype'\n",
    ")\n",
    "pie_chart"
   ]
  },
  {
   "cell_type": "code",
   "execution_count": 57,
   "metadata": {},
   "outputs": [],
   "source": [
    "hosts = pd.read_csv('last_2_weeks_hosts.csv')"
   ]
  },
  {
   "cell_type": "code",
   "execution_count": 75,
   "metadata": {},
   "outputs": [
    {
     "data": {
      "text/plain": [
       "DataTransformerRegistry.enable('csv')"
      ]
     },
     "execution_count": 75,
     "metadata": {},
     "output_type": "execute_result"
    }
   ],
   "source": [
    "hosts.host = hosts.host.str.lower()\n",
    "hosts.sort_values('host', ascending=True)\n",
    "# cancel show all the df config\n",
    "alt.data_transformers.disable_max_rows()\n",
    "\n",
    "\n"
   ]
  },
  {
   "cell_type": "code",
   "execution_count": 31,
   "metadata": {},
   "outputs": [
    {
     "data": {
      "text/plain": [
       "array(['CYB301-4$', 'Guest', 'LOCAL SERVICE', 'NETWORK SERVICE',\n",
       "       'NOT_TRANSLATED', 'SYSTEM', 'tigranb', 'yevsikov', 'Administrator',\n",
       "       'CYB301-ATAM-20$', 'D77C167F-2E40-48BC-B64A-E12FAD864D2F',\n",
       "       'DefaultAccount', 'WDAGUtilityAccount', 'muralidh',\n",
       "       'CYB301-ATAM-21$', '-', 'DT-117-01$', 'DWM-1', 'UMFD-0', 'UMFD-1',\n",
       "       'idodah', 'DT-AWS-NEO4J-2$', 'DT-CTI-DRL$', 'DT-IT$', 'R18-ILYA$',\n",
       "       'adinr', 'bsrelan', 'nicolayg', 'DT-JAIDIP$', 'DT-O2$', 'salitsl',\n",
       "       'DT-O5$', 'vitals', 'yehudith', 'yehudith@bgu-users', 'DT-O7$',\n",
       "       'DWM-2', 'UMFD-2', 'admin', 'yovell', 'DT-PRINT$', 'Eitan',\n",
       "       'dvaleria', 'freidiya', 'ilialey', 'ANONYMOUS LOGON', 'DT-WDS$',\n",
       "       'peledf@bgu.ac.il', 'DTS12-VM1$', 'SQLSERVERAGENT', 'DTS12-VM2$',\n",
       "       'MSSQLServerOLAPService', 'ISE-MGMT$', 'LB-003-1$', 'LB-003-10$',\n",
       "       'LB-003-11$', 'LB-003-12$', 'LB-003-13$', 'LB-003-14$',\n",
       "       'LB-003-15$', 'LB-003-16$', 'LB-003-17$', 'LB-003-18$',\n",
       "       'LB-003-19$', 'LB-003-2$', 'LB-003-20$', 'LB-003-21$',\n",
       "       'LB-003-22$', 'LB-003-25$', 'LB-003-26$', '654', 'LB-003-27$', '`',\n",
       "       'LB-003-29$', 'LB-003-3$', 'omerad', 'v cvv', 'LB-003-30$',\n",
       "       'LB-003-31$', 'LB-003-4$', 'LB-003-5$', 'LB-003-6$', 'DWM-3',\n",
       "       'LB-003-7$', 'UMFD-3', 'tomtal', 'LB-003-8$', 'LB-003-9$',\n",
       "       'avamit', 'LB-101-1$', 'LB-101-10$', 'LB-101-11$', 'LB-101-12$',\n",
       "       'LB-101-14$', 'LB-101-15$', 'LB-101-16$', 'LB-101-17$',\n",
       "       'LB-101-18$', 'LB-101-19$', 'LB-101-2$', 'LB-101-20$', 'DWM-6',\n",
       "       'DWM-7', 'LB-101-21$', 'UMFD-5', 'UMFD-6', 'UMFD-7', 'nadavrav',\n",
       "       'LB-101-22$', 'LB-101-23$', 'LB-101-24$', 'LB-101-25$',\n",
       "       'LB-101-26$', 'LB-101-27$', 'LB-101-28$', 'LB-101-29$',\n",
       "       'LB-101-3$', 'LB-101-30$', 'LB-101-31$', 'mickaelz', 'LB-101-6$',\n",
       "       'LB-101-7$', 'LB-101-9$', 'LB-105-1$', 'LB-105-11$', 'LB-105-12$',\n",
       "       'LB-105-14$', 'LB-105-15$', 'LB-105-16$', 'LB-105-17$',\n",
       "       'LB-105-18$', 'almta', 'LB-105-19$', '/*', 'LB-105-2$',\n",
       "       'LB-105-20$', 'LB-105-21$', 'LB-105-24$', 'LB-105-25$',\n",
       "       'LB-105-26$', 'LB-105-27$', 'LB-105-29$', 'LB-105-3$',\n",
       "       'LB-105-30$', 'LB-105-31$', 'LB-105-4$', 'LB-105-5$', 'LB-105-7$',\n",
       "       'LB-105-8$', 'LB-105-9$', 'LB-107-1$', 'LB-107-10$', 'LB-107-11$',\n",
       "       'LB-107-12$', 'LB-107-13$', 'LB-107-15$', 'DWM-11', 'DWM-12',\n",
       "       'LB-107-16$', 'UMFD-11', 'UMFD-12', 'DWM-4', 'DWM-5', 'LB-107-17$',\n",
       "       'UMFD-4', 'USER', 'ehsan', 'ehsank', 'user', 'LB-107-2$',\n",
       "       'LB-107-4$', 'LB-107-5$', 'LB-107-6$', 'LB-107-7$', 'LB-107-8$',\n",
       "       'LB-107-9$', 'LB-111-10$', 'LB-111-11$', 'LB-111-12$',\n",
       "       'LB-111-13$', 'LB-111-14$', 'LB-111-15$', 'LB-111-16$',\n",
       "       'LB-111-17$', 'LB-111-18$', 'LB-111-19$', 'LB-111-2$',\n",
       "       'LB-111-20$', 'LB-111-21$', 'LB-111-3$', 'LB-111-4$', 'LB-111-6$',\n",
       "       'LB-111-7$', 'LB-111-8$', 'LB105-1$', 'LB105-2$'], dtype=object)"
      ]
     },
     "execution_count": 31,
     "metadata": {},
     "output_type": "execute_result"
    }
   ],
   "source": [
    "df.user.unique()"
   ]
  },
  {
   "cell_type": "code",
   "execution_count": 35,
   "metadata": {},
   "outputs": [
    {
     "data": {
      "text/html": [
       "\n",
       "<style>\n",
       "  #altair-viz-ffdcbfddea814f38af47391c89cb5bd4.vega-embed {\n",
       "    width: 100%;\n",
       "    display: flex;\n",
       "  }\n",
       "\n",
       "  #altair-viz-ffdcbfddea814f38af47391c89cb5bd4.vega-embed details,\n",
       "  #altair-viz-ffdcbfddea814f38af47391c89cb5bd4.vega-embed details summary {\n",
       "    position: relative;\n",
       "  }\n",
       "</style>\n",
       "<div id=\"altair-viz-ffdcbfddea814f38af47391c89cb5bd4\"></div>\n",
       "<script type=\"text/javascript\">\n",
       "  var VEGA_DEBUG = (typeof VEGA_DEBUG == \"undefined\") ? {} : VEGA_DEBUG;\n",
       "  (function(spec, embedOpt){\n",
       "    let outputDiv = document.currentScript.previousElementSibling;\n",
       "    if (outputDiv.id !== \"altair-viz-ffdcbfddea814f38af47391c89cb5bd4\") {\n",
       "      outputDiv = document.getElementById(\"altair-viz-ffdcbfddea814f38af47391c89cb5bd4\");\n",
       "    }\n",
       "    const paths = {\n",
       "      \"vega\": \"https://cdn.jsdelivr.net/npm/vega@5?noext\",\n",
       "      \"vega-lib\": \"https://cdn.jsdelivr.net/npm/vega-lib?noext\",\n",
       "      \"vega-lite\": \"https://cdn.jsdelivr.net/npm/vega-lite@5.8.0?noext\",\n",
       "      \"vega-embed\": \"https://cdn.jsdelivr.net/npm/vega-embed@6?noext\",\n",
       "    };\n",
       "\n",
       "    function maybeLoadScript(lib, version) {\n",
       "      var key = `${lib.replace(\"-\", \"\")}_version`;\n",
       "      return (VEGA_DEBUG[key] == version) ?\n",
       "        Promise.resolve(paths[lib]) :\n",
       "        new Promise(function(resolve, reject) {\n",
       "          var s = document.createElement('script');\n",
       "          document.getElementsByTagName(\"head\")[0].appendChild(s);\n",
       "          s.async = true;\n",
       "          s.onload = () => {\n",
       "            VEGA_DEBUG[key] = version;\n",
       "            return resolve(paths[lib]);\n",
       "          };\n",
       "          s.onerror = () => reject(`Error loading script: ${paths[lib]}`);\n",
       "          s.src = paths[lib];\n",
       "        });\n",
       "    }\n",
       "\n",
       "    function showError(err) {\n",
       "      outputDiv.innerHTML = `<div class=\"error\" style=\"color:red;\">${err}</div>`;\n",
       "      throw err;\n",
       "    }\n",
       "\n",
       "    function displayChart(vegaEmbed) {\n",
       "      vegaEmbed(outputDiv, spec, embedOpt)\n",
       "        .catch(err => showError(`Javascript Error: ${err.message}<br>This usually means there's a typo in your chart specification. See the javascript console for the full traceback.`));\n",
       "    }\n",
       "\n",
       "    if(typeof define === \"function\" && define.amd) {\n",
       "      requirejs.config({paths});\n",
       "      require([\"vega-embed\"], displayChart, err => showError(`Error loading script: ${err.message}`));\n",
       "    } else {\n",
       "      maybeLoadScript(\"vega\", \"5\")\n",
       "        .then(() => maybeLoadScript(\"vega-lite\", \"5.8.0\"))\n",
       "        .then(() => maybeLoadScript(\"vega-embed\", \"6\"))\n",
       "        .catch(showError)\n",
       "        .then(() => displayChart(vegaEmbed));\n",
       "    }\n",
       "  })({\"config\": {\"view\": {\"continuousWidth\": 300, \"continuousHeight\": 300}, \"axis\": {\"labelAngle\": 45, \"labelFontSize\": 15, \"titleFontSize\": 20}, \"legend\": {\"labelFontSize\": 15}}, \"data\": {\"url\": \"altair-data-60a17d425ebe06d54751eb893bab0168.csv\", \"format\": {\"type\": \"csv\"}}, \"mark\": {\"type\": \"bar\"}, \"encoding\": {\"color\": {\"field\": \"host\", \"title\": \"host\", \"type\": \"nominal\"}, \"x\": {\"field\": \"user\", \"sort\": {\"field\": \"host_type\", \"order\": \"descending\"}, \"title\": \"user_name\", \"type\": \"nominal\"}, \"y\": {\"field\": \"count\", \"title\": \"Logs count\", \"type\": \"quantitative\"}}, \"height\": 600, \"title\": \"hosts\", \"width\": 2500, \"$schema\": \"https://vega.github.io/schema/vega-lite/v5.8.0.json\"}, {\"mode\": \"vega-lite\"});\n",
       "</script>"
      ],
      "text/plain": [
       "alt.Chart(...)"
      ]
     },
     "execution_count": 35,
     "metadata": {},
     "output_type": "execute_result"
    }
   ],
   "source": [
    "df = pd.read_csv('host_host_type_user_24h.csv')\n",
    "df = df[df.host_type=='dt']\n",
    "chart = alt.Chart(df).mark_bar().encode(\n",
    "    alt.Color('host:N', title='host'),\n",
    "    alt.Y('count:Q', title='Logs count'),\n",
    "    alt.X('user:N', title='user_name',sort=alt.SortField(field='host_type', order='descending')),\n",
    ").properties(\n",
    "    width=2500,\n",
    "    height=600,\n",
    "    title='hosts'\n",
    ").configure_axis(\n",
    "    labelFontSize=15,\n",
    "    titleFontSize=20,\n",
    "    labelAngle=45\n",
    ").configure_legend(\n",
    "    labelFontSize=15\n",
    ")\n",
    "chart"
   ]
  },
  {
   "cell_type": "code",
   "execution_count": 41,
   "metadata": {},
   "outputs": [
    {
     "data": {
      "text/html": [
       "\n",
       "<style>\n",
       "  #altair-viz-7460911ae5b949cea530ecb56157fa2c.vega-embed {\n",
       "    width: 100%;\n",
       "    display: flex;\n",
       "  }\n",
       "\n",
       "  #altair-viz-7460911ae5b949cea530ecb56157fa2c.vega-embed details,\n",
       "  #altair-viz-7460911ae5b949cea530ecb56157fa2c.vega-embed details summary {\n",
       "    position: relative;\n",
       "  }\n",
       "</style>\n",
       "<div id=\"altair-viz-7460911ae5b949cea530ecb56157fa2c\"></div>\n",
       "<script type=\"text/javascript\">\n",
       "  var VEGA_DEBUG = (typeof VEGA_DEBUG == \"undefined\") ? {} : VEGA_DEBUG;\n",
       "  (function(spec, embedOpt){\n",
       "    let outputDiv = document.currentScript.previousElementSibling;\n",
       "    if (outputDiv.id !== \"altair-viz-7460911ae5b949cea530ecb56157fa2c\") {\n",
       "      outputDiv = document.getElementById(\"altair-viz-7460911ae5b949cea530ecb56157fa2c\");\n",
       "    }\n",
       "    const paths = {\n",
       "      \"vega\": \"https://cdn.jsdelivr.net/npm/vega@5?noext\",\n",
       "      \"vega-lib\": \"https://cdn.jsdelivr.net/npm/vega-lib?noext\",\n",
       "      \"vega-lite\": \"https://cdn.jsdelivr.net/npm/vega-lite@5.8.0?noext\",\n",
       "      \"vega-embed\": \"https://cdn.jsdelivr.net/npm/vega-embed@6?noext\",\n",
       "    };\n",
       "\n",
       "    function maybeLoadScript(lib, version) {\n",
       "      var key = `${lib.replace(\"-\", \"\")}_version`;\n",
       "      return (VEGA_DEBUG[key] == version) ?\n",
       "        Promise.resolve(paths[lib]) :\n",
       "        new Promise(function(resolve, reject) {\n",
       "          var s = document.createElement('script');\n",
       "          document.getElementsByTagName(\"head\")[0].appendChild(s);\n",
       "          s.async = true;\n",
       "          s.onload = () => {\n",
       "            VEGA_DEBUG[key] = version;\n",
       "            return resolve(paths[lib]);\n",
       "          };\n",
       "          s.onerror = () => reject(`Error loading script: ${paths[lib]}`);\n",
       "          s.src = paths[lib];\n",
       "        });\n",
       "    }\n",
       "\n",
       "    function showError(err) {\n",
       "      outputDiv.innerHTML = `<div class=\"error\" style=\"color:red;\">${err}</div>`;\n",
       "      throw err;\n",
       "    }\n",
       "\n",
       "    function displayChart(vegaEmbed) {\n",
       "      vegaEmbed(outputDiv, spec, embedOpt)\n",
       "        .catch(err => showError(`Javascript Error: ${err.message}<br>This usually means there's a typo in your chart specification. See the javascript console for the full traceback.`));\n",
       "    }\n",
       "\n",
       "    if(typeof define === \"function\" && define.amd) {\n",
       "      requirejs.config({paths});\n",
       "      require([\"vega-embed\"], displayChart, err => showError(`Error loading script: ${err.message}`));\n",
       "    } else {\n",
       "      maybeLoadScript(\"vega\", \"5\")\n",
       "        .then(() => maybeLoadScript(\"vega-lite\", \"5.8.0\"))\n",
       "        .then(() => maybeLoadScript(\"vega-embed\", \"6\"))\n",
       "        .catch(showError)\n",
       "        .then(() => displayChart(vegaEmbed));\n",
       "    }\n",
       "  })({\"config\": {\"view\": {\"continuousWidth\": 300, \"continuousHeight\": 300}, \"axis\": {\"labelAngle\": 45, \"labelFontSize\": 15, \"titleFontSize\": 20}, \"legend\": {\"labelFontSize\": 15}}, \"data\": {\"url\": \"altair-data-396338514b29b0cff54a57607d0e60bc.csv\", \"format\": {\"type\": \"csv\"}}, \"mark\": {\"type\": \"bar\"}, \"encoding\": {\"color\": {\"field\": \"source\", \"title\": \"host\", \"type\": \"nominal\"}, \"x\": {\"field\": \"user\", \"sort\": {\"field\": \"host_type\", \"order\": \"descending\"}, \"title\": \"user_name\", \"type\": \"nominal\"}, \"y\": {\"field\": \"count\", \"title\": \"Logs count\", \"type\": \"quantitative\"}}, \"height\": 600, \"title\": \"hosts\", \"width\": 2500, \"$schema\": \"https://vega.github.io/schema/vega-lite/v5.8.0.json\"}, {\"mode\": \"vega-lite\"});\n",
       "</script>"
      ],
      "text/plain": [
       "alt.Chart(...)"
      ]
     },
     "execution_count": 41,
     "metadata": {},
     "output_type": "execute_result"
    }
   ],
   "source": [
    "df = pd.read_csv('source_host_type_user_24h.csv')\n",
    "df = df[df.host_type=='dt']\n",
    "chart = alt.Chart(df).mark_bar().encode(\n",
    "    alt.Color('source:N', title='host'),\n",
    "    alt.Y('count:Q', title='Logs count'),\n",
    "    alt.X('user:N', title='user_name',sort=alt.SortField(field='host_type', order='descending')),\n",
    ").properties(\n",
    "    width=2500,\n",
    "    height=600,\n",
    "    title='hosts'\n",
    ").configure_axis(\n",
    "    labelFontSize=15,\n",
    "    titleFontSize=20,\n",
    "    labelAngle=45\n",
    ").configure_legend(\n",
    "    labelFontSize=15\n",
    ")\n",
    "chart"
   ]
  },
  {
   "cell_type": "code",
   "execution_count": null,
   "metadata": {},
   "outputs": [],
   "source": [
    "df = pd.read_csv('host_type_host_24h.csv')\n",
    "chart = alt.Chart(df).mark_bar().encode(\n",
    "    alt.Color('host_type:N', title='host_type'),\n",
    "    alt.Y('count:Q', title='Logs count'),\n",
    "    alt.X('host:N', title='host',sort=alt.SortField(field='host_type', order='descending')),\n",
    ").properties(\n",
    "    width=2500,\n",
    "    height=600,\n",
    "    title='hosts'\n",
    ").configure_axis(\n",
    "    labelFontSize=15,\n",
    "    titleFontSize=20,\n",
    "    labelAngle=45\n",
    ").configure_legend(\n",
    "    labelFontSize=15\n",
    ")\n",
    "chart"
   ]
  },
  {
   "cell_type": "code",
   "execution_count": 16,
   "metadata": {},
   "outputs": [
    {
     "data": {
      "text/html": [
       "\n",
       "<style>\n",
       "  #altair-viz-f0996fc4cff240e9bad2624b1010f31f.vega-embed {\n",
       "    width: 100%;\n",
       "    display: flex;\n",
       "  }\n",
       "\n",
       "  #altair-viz-f0996fc4cff240e9bad2624b1010f31f.vega-embed details,\n",
       "  #altair-viz-f0996fc4cff240e9bad2624b1010f31f.vega-embed details summary {\n",
       "    position: relative;\n",
       "  }\n",
       "</style>\n",
       "<div id=\"altair-viz-f0996fc4cff240e9bad2624b1010f31f\"></div>\n",
       "<script type=\"text/javascript\">\n",
       "  var VEGA_DEBUG = (typeof VEGA_DEBUG == \"undefined\") ? {} : VEGA_DEBUG;\n",
       "  (function(spec, embedOpt){\n",
       "    let outputDiv = document.currentScript.previousElementSibling;\n",
       "    if (outputDiv.id !== \"altair-viz-f0996fc4cff240e9bad2624b1010f31f\") {\n",
       "      outputDiv = document.getElementById(\"altair-viz-f0996fc4cff240e9bad2624b1010f31f\");\n",
       "    }\n",
       "    const paths = {\n",
       "      \"vega\": \"https://cdn.jsdelivr.net/npm/vega@5?noext\",\n",
       "      \"vega-lib\": \"https://cdn.jsdelivr.net/npm/vega-lib?noext\",\n",
       "      \"vega-lite\": \"https://cdn.jsdelivr.net/npm/vega-lite@5.8.0?noext\",\n",
       "      \"vega-embed\": \"https://cdn.jsdelivr.net/npm/vega-embed@6?noext\",\n",
       "    };\n",
       "\n",
       "    function maybeLoadScript(lib, version) {\n",
       "      var key = `${lib.replace(\"-\", \"\")}_version`;\n",
       "      return (VEGA_DEBUG[key] == version) ?\n",
       "        Promise.resolve(paths[lib]) :\n",
       "        new Promise(function(resolve, reject) {\n",
       "          var s = document.createElement('script');\n",
       "          document.getElementsByTagName(\"head\")[0].appendChild(s);\n",
       "          s.async = true;\n",
       "          s.onload = () => {\n",
       "            VEGA_DEBUG[key] = version;\n",
       "            return resolve(paths[lib]);\n",
       "          };\n",
       "          s.onerror = () => reject(`Error loading script: ${paths[lib]}`);\n",
       "          s.src = paths[lib];\n",
       "        });\n",
       "    }\n",
       "\n",
       "    function showError(err) {\n",
       "      outputDiv.innerHTML = `<div class=\"error\" style=\"color:red;\">${err}</div>`;\n",
       "      throw err;\n",
       "    }\n",
       "\n",
       "    function displayChart(vegaEmbed) {\n",
       "      vegaEmbed(outputDiv, spec, embedOpt)\n",
       "        .catch(err => showError(`Javascript Error: ${err.message}<br>This usually means there's a typo in your chart specification. See the javascript console for the full traceback.`));\n",
       "    }\n",
       "\n",
       "    if(typeof define === \"function\" && define.amd) {\n",
       "      requirejs.config({paths});\n",
       "      require([\"vega-embed\"], displayChart, err => showError(`Error loading script: ${err.message}`));\n",
       "    } else {\n",
       "      maybeLoadScript(\"vega\", \"5\")\n",
       "        .then(() => maybeLoadScript(\"vega-lite\", \"5.8.0\"))\n",
       "        .then(() => maybeLoadScript(\"vega-embed\", \"6\"))\n",
       "        .catch(showError)\n",
       "        .then(() => displayChart(vegaEmbed));\n",
       "    }\n",
       "  })({\"config\": {\"view\": {\"continuousWidth\": 300, \"continuousHeight\": 300}, \"axis\": {\"labelAngle\": 45, \"labelFontSize\": 15, \"titleFontSize\": 20}, \"legend\": {\"labelFontSize\": 15, \"labelLimit\": 10000}}, \"data\": {\"url\": \"altair-data-6feec60ed0894fab2c7948ea600b78ab.csv\", \"format\": {\"type\": \"csv\"}}, \"mark\": {\"type\": \"bar\"}, \"encoding\": {\"color\": {\"field\": \"source\", \"title\": \"source\", \"type\": \"nominal\"}, \"x\": {\"field\": \"host_type\", \"title\": \"host_type\", \"type\": \"nominal\"}, \"y\": {\"field\": \"count\", \"title\": \"Logs count\", \"type\": \"quantitative\"}}, \"height\": 600, \"title\": \"hosts sources\", \"width\": 800, \"$schema\": \"https://vega.github.io/schema/vega-lite/v5.8.0.json\"}, {\"mode\": \"vega-lite\"});\n",
       "</script>"
      ],
      "text/plain": [
       "alt.Chart(...)"
      ]
     },
     "execution_count": 16,
     "metadata": {},
     "output_type": "execute_result"
    }
   ],
   "source": [
    "df = pd.read_csv('host_type_source_24h.csv')\n",
    "chart = alt.Chart(df).mark_bar().encode(\n",
    "    alt.X('host_type:N', title='host_type'),\n",
    "    alt.Y('count:Q', title='Logs count'),\n",
    "    alt.Color('source:N', title='source'),\n",
    ").properties(\n",
    "    width=800,\n",
    "    height=600,\n",
    "    title='hosts sources'\n",
    ").configure_axis(\n",
    "    labelFontSize=15,\n",
    "    titleFontSize=20,\n",
    "    labelAngle=45\n",
    ").configure_legend(\n",
    "    labelFontSize=15,\n",
    "    labelLimit=10000\n",
    ")\n",
    "chart"
   ]
  },
  {
   "cell_type": "code",
   "execution_count": null,
   "metadata": {},
   "outputs": [],
   "source": []
  }
 ],
 "metadata": {
  "kernelspec": {
   "display_name": "base",
   "language": "python",
   "name": "python3"
  },
  "language_info": {
   "codemirror_mode": {
    "name": "ipython",
    "version": 3
   },
   "file_extension": ".py",
   "mimetype": "text/x-python",
   "name": "python",
   "nbconvert_exporter": "python",
   "pygments_lexer": "ipython3",
   "version": "3.8.5"
  },
  "orig_nbformat": 4,
  "vscode": {
   "interpreter": {
    "hash": "c25796e94efdf0080a53a43d8f74b37a4a203725a15392403d398c3f9e98c581"
   }
  }
 },
 "nbformat": 4,
 "nbformat_minor": 2
}
