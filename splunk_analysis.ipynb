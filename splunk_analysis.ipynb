{
 "cells": [
  {
   "cell_type": "code",
   "execution_count": 1,
   "metadata": {},
   "outputs": [
    {
     "data": {
      "text/plain": [
       "DataTransformerRegistry.enable('json')"
      ]
     },
     "execution_count": 1,
     "metadata": {},
     "output_type": "execute_result"
    }
   ],
   "source": [
    "\n",
    "import pandas as pd\n",
    "import numpy as np\n",
    "import altair as alt\n",
    "from tqdm import tqdm\n",
    "from general_consts import *\n",
    "alt.data_transformers.enable('json')"
   ]
  },
  {
   "cell_type": "code",
   "execution_count": 32,
   "metadata": {},
   "outputs": [],
   "source": [
    "def get_df(path, table_name):\n",
    "    df = pd.read_csv(fr\"{path}/{table_name}.csv\")\n",
    "    df[CPUColumns.TIME] = pd.to_datetime(df[CPUColumns.TIME], unit='s')\n",
    "    df[CPUColumns.TIME] += pd.Timedelta(hours=2)\n",
    "    return df\n",
    "\n",
    "def load_tables(path):\n",
    "    cpu_df = get_df(path, TableNames.CPU)\n",
    "    memory_df = get_df(path, TableNames.MEMORY)\n",
    "    all_processes_df = get_df(path, TableNames.ALL_PROCESSES)\n",
    "    disk_df = get_df(path, TableNames.DISK)\n",
    "    splunk_logs_df = pd.read_csv(fr\"{path}/output.csv\")\n",
    "    return cpu_df, memory_df, all_processes_df, disk_df, splunk_logs_df\n",
    "    \n",
    "def draw_plot(df, y, path, plot_name):\n",
    "    alt.renderers.enable('altair_saver', fmts=['png'])\n",
    "    chart = alt.Chart(df).mark_line(interpolate='linear').encode(\n",
    "        alt.Y(f\"{y}:Q\", scale=alt.Scale(domain=[min(df[y]), max(df[y])])),\n",
    "        alt.X(f\"{CPUColumns.TIME}:T\"),\n",
    "    ).properties(\n",
    "        width=2100,\n",
    "        height=300\n",
    "    )\n",
    "    # Create PNG image data and then write to a file\n",
    "    with alt.data_transformers.enable('default'):\n",
    "        chart.save(f\"{path}/graphs/{plot_name}.png\", engine=\"altair_saver\")\n",
    "    return chart"
   ]
  },
  {
   "cell_type": "code",
   "execution_count": 37,
   "metadata": {},
   "outputs": [],
   "source": [
    "for measurment_no in range(1, 7):\n",
    "    path = fr\"/home/green-sec/Repositories/GreenSecurity-FirstExperiment/Dell Inc. Linux 5.15.0-67-generic/Splunk Enterprise SIEM/Power Saver Plan/One Scan/Measurement {measurment_no}\"\n",
    "    cpu_df, memory_df, all_processes_df, disk_df, splunk_logs_df = load_tables(path)\n",
    "    cpu = draw_plot(cpu_df, CPUColumns.USED_PERCENT, path, 'cpu')\n",
    "    disc_r_c = draw_plot(disk_df, DiskIOColumns.READ_COUNT, path, 'disk_read_count')\n",
    "    disc_w_c = draw_plot(disk_df, DiskIOColumns.WRITE_COUNT, path, 'disk_write_count')\n",
    "    disc_r_b = draw_plot(disk_df, DiskIOColumns.READ_BYTES, path, 'disk_read_bytes')\n",
    "    disc_w_b = draw_plot(disk_df, DiskIOColumns.WRITE_BYTES, path, 'disk_write_bytes')\n",
    "    splunk_logs_df['_time'] = pd.to_datetime(splunk_logs_df['_time'])\n",
    "    splunk_logs_df['_time'] = splunk_logs_df['_time'].dt.tz_localize(None)\n",
    "\n",
    "    # Define number of bins and opacity range\n",
    "    n_bins = 200\n",
    "    logs = alt.Chart(splunk_logs_df).mark_bar(opacity=0.3, color='green').encode(\n",
    "        alt.Y(\"count():Q\"),\n",
    "        alt.X(\"_time:T\", bin=alt.Bin(maxbins=n_bins)),\n",
    "    ).properties(\n",
    "        width=2100,\n",
    "        height=300,\n",
    "    )\n",
    "    # Create PNG image data and then write to a file\n",
    "    with alt.data_transformers.enable('default'):\n",
    "        logs.save(f\"{path}/graphs/logs_dist.png\", engine=\"altair_saver\")\n",
    "        alt.layer(cpu,logs).resolve_scale(\n",
    "        y = 'independent').save(f\"{path}/graphs/cpu_logs_merge.png\", engine=\"altair_saver\")\n",
    "        \n",
    "        alt.layer(disc_r_c,logs).resolve_scale(\n",
    "        y = 'independent').save(f\"{path}/graphs/disc_r_c_logs_merge.png\", engine=\"altair_saver\")\n",
    "        \n",
    "        alt.layer(disc_w_c,logs).resolve_scale(\n",
    "        y = 'independent').save(f\"{path}/graphs/disc_w_c_logs_merge.png\", engine=\"altair_saver\")\n",
    "        \n",
    "        alt.layer(disc_r_b,logs).resolve_scale(\n",
    "        y = 'independent').save(f\"{path}/graphs/disc_r_b_logs_merge.png\", engine=\"altair_saver\")\n",
    "        \n",
    "        alt.layer(disc_w_b,logs).resolve_scale(\n",
    "        y = 'independent').save(f\"{path}/graphs/disc_w_b_logs_merge.png\", engine=\"altair_saver\")\n",
    "        "
   ]
  },
  {
   "cell_type": "code",
   "execution_count": 33,
   "metadata": {},
   "outputs": [],
   "source": [
    "# splunk_logs_df['_time'] = pd.to_datetime(splunk_logs_df['_time']).dt.strftime('%H:%M:%S')\n",
    "# Define number of bins and opacity range\n",
    "n_bins = 200\n",
    "opacity_range = [0.2, 0.8]\n",
    "\n",
    "\n",
    "chart = alt.Chart(splunk_logs_df).mark_bar(opacity=0.3, color='green').encode(\n",
    "    alt.Y(\"count():Q\"),\n",
    "    alt.X(\"_time:T\", bin=alt.Bin(maxbins=n_bins))\n",
    ").properties(\n",
    "    width=2100,\n",
    "    height=300,\n",
    "    # title='Bar Chart with Adjustable Opacity'\n",
    ")\n",
    "with alt.data_transformers.enable('default'):\n",
    "    alt.layer(draw_plot(cpu_df, CPUColumns.USED_PERCENT, path, 'cpu'),chart).resolve_scale(\n",
    "        y = 'independent'\n",
    "    ).save(f\"{path}/graphs/merge.png\", engine=\"altair_saver\")\n"
   ]
  },
  {
   "cell_type": "code",
   "execution_count": null,
   "metadata": {},
   "outputs": [],
   "source": []
  }
 ],
 "metadata": {
  "kernelspec": {
   "display_name": "base",
   "language": "python",
   "name": "python3"
  },
  "language_info": {
   "codemirror_mode": {
    "name": "ipython",
    "version": 3
   },
   "file_extension": ".py",
   "mimetype": "text/x-python",
   "name": "python",
   "nbconvert_exporter": "python",
   "pygments_lexer": "ipython3",
   "version": "3.10.9"
  },
  "orig_nbformat": 4,
  "vscode": {
   "interpreter": {
    "hash": "c25796e94efdf0080a53a43d8f74b37a4a203725a15392403d398c3f9e98c581"
   }
  }
 },
 "nbformat": 4,
 "nbformat_minor": 2
}
