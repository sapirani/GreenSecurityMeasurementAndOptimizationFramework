{
  "cells": [
    {
      "cell_type": "markdown",
      "source": [
        "First, Lets download some packages:"
      ],
      "metadata": {
        "id": "va6T5xaCJD39"
      },
      "id": "va6T5xaCJD39"
    },
    {
      "cell_type": "code",
      "source": [
        "# check to scan\n",
        "\n",
        "import subprocess\n",
        "\n",
        "# This is our shell command, executed by Popen.\n",
        "\n",
        "p = subprocess.Popen(\"Start-MpScan -ScanType FullScan\", stdout=subprocess.PIPE, shell=True)\n",
        "\n",
        "print(p.communicate())"
      ],
      "metadata": {
        "colab": {
          "base_uri": "https://localhost:8080/"
        },
        "id": "n9u5wY-1hOPX",
        "outputId": "e5584574-aaa9-4058-ba25-25ab3a989e69"
      },
      "id": "n9u5wY-1hOPX",
      "execution_count": 13,
      "outputs": [
        {
          "output_type": "stream",
          "name": "stdout",
          "text": [
            "(b'', None)\n"
          ]
        }
      ]
    },
    {
      "cell_type": "code",
      "execution_count": 1,
      "id": "3dded2b2",
      "metadata": {
        "colab": {
          "base_uri": "https://localhost:8080/"
        },
        "id": "3dded2b2",
        "outputId": "ff49b7cd-267c-4fa0-b8f0-391205d09347"
      },
      "outputs": [
        {
          "output_type": "stream",
          "name": "stdout",
          "text": [
            "Looking in indexes: https://pypi.org/simple, https://us-python.pkg.dev/colab-wheels/public/simple/\n",
            "Requirement already satisfied: prettytable in /usr/local/lib/python3.7/dist-packages (3.4.1)\n",
            "Requirement already satisfied: importlib-metadata in /usr/local/lib/python3.7/dist-packages (from prettytable) (5.0.0)\n",
            "Requirement already satisfied: wcwidth in /usr/local/lib/python3.7/dist-packages (from prettytable) (0.2.5)\n",
            "Requirement already satisfied: zipp>=0.5 in /usr/local/lib/python3.7/dist-packages (from importlib-metadata->prettytable) (3.9.0)\n",
            "Requirement already satisfied: typing-extensions>=3.6.4 in /usr/local/lib/python3.7/dist-packages (from importlib-metadata->prettytable) (4.1.1)\n",
            "Looking in indexes: https://pypi.org/simple, https://us-python.pkg.dev/colab-wheels/public/simple/\n",
            "Requirement already satisfied: wmi in /usr/local/lib/python3.7/dist-packages (1.4.9)\n"
          ]
        }
      ],
      "source": [
        "!pip install prettytable\n",
        "!pip install wmi"
      ]
    },
    {
      "cell_type": "markdown",
      "source": [
        "Now, Lets import them and some more libraries:"
      ],
      "metadata": {
        "id": "nr867PygJOcC"
      },
      "id": "nr867PygJOcC"
    },
    {
      "cell_type": "code",
      "source": [
        "import psutil\n",
        "import time\n",
        "from subprocess import call\n",
        "from prettytable import PrettyTable\n",
        "#import wmi"
      ],
      "metadata": {
        "id": "vlYPW6MXJadq"
      },
      "id": "vlYPW6MXJadq",
      "execution_count": 2,
      "outputs": []
    },
    {
      "cell_type": "markdown",
      "source": [
        "Now, Lets gather some data and display it in tables:"
      ],
      "metadata": {
        "id": "xADms4WabjRd"
      },
      "id": "xADms4WabjRd"
    },
    {
      "cell_type": "markdown",
      "source": [
        "# ***Battery:*** "
      ],
      "metadata": {
        "id": "0L37oReWbpuc"
      },
      "id": "0L37oReWbpuc"
    },
    {
      "cell_type": "code",
      "source": [
        "#c = wmi.WMI()\n",
        "#t = wmi.WMI(moniker = \"//./root/wmi\")\n",
        "\n",
        "# Run an infinite loop to constantly monitor the system\n",
        "def print_battery_stat():\n",
        "    print(\"==============================Process Monitor\\\n",
        "        ======================================\")\n",
        "\n",
        "    # Fetch the battery information\n",
        "    battery = psutil.sensors_battery().percent\n",
        "    print(\"Battery Available: %d \" % (battery,) + \"%\")\n",
        "\n",
        "    batts1 = c.CIM_Battery(Caption='Portable Battery')\n",
        "    for i, b in enumerate(batts1):\n",
        "        print('Battery %d Design Capacity: %d mWh' % (i, b.DesignCapacity or 0))\n",
        "\n",
        "    batts = t.ExecQuery('Select * from BatteryFullChargedCapacity')\n",
        "    for i, b in enumerate(batts):\n",
        "        print('Battery %d Fully Charged Capacity: %d mWh' %\n",
        "              (i, b.FullChargedCapacity))\n",
        "\n",
        "    batts = t.ExecQuery('Select * from BatteryStatus where Voltage > 0')\n",
        "    for i, b in enumerate(batts):\n",
        "        print('Voltage:           ' + str(b.Voltage))\n",
        "        print('RemainingCapacity: ' + str(b.RemainingCapacity))\n",
        "\n",
        "        if b.Charging:\n",
        "            raise Exception(\"Unplug charging cable during measurements!\")\n"
      ],
      "metadata": {
        "id": "OnVYnpZbcbwk"
      },
      "id": "OnVYnpZbcbwk",
      "execution_count": 4,
      "outputs": []
    },
    {
      "cell_type": "markdown",
      "source": [
        "# ***Network:*** "
      ],
      "metadata": {
        "id": "sNffZADKchMs"
      },
      "id": "sNffZADKchMs"
    },
    {
      "cell_type": "code",
      "source": [
        "def print_network_stat():\n",
        "    print(\"----Networks----\")\n",
        "    table = PrettyTable(['Network', 'Status', 'Speed'])\n",
        "    for key in psutil.net_if_stats().keys():\n",
        "        name = key\n",
        "        up = \"Up\" if psutil.net_if_stats()[key].isup else \"Down\"\n",
        "        speed = psutil.net_if_stats()[key].speed\n",
        "        table.add_row([name, up, speed])\n",
        "    print(table)"
      ],
      "metadata": {
        "id": "yr0CKVikcnBN"
      },
      "id": "yr0CKVikcnBN",
      "execution_count": 5,
      "outputs": []
    },
    {
      "cell_type": "markdown",
      "source": [
        "# ***Memory:*** "
      ],
      "metadata": {
        "id": "xXHvQyQScGIp"
      },
      "id": "xXHvQyQScGIp"
    },
    {
      "cell_type": "code",
      "source": [
        "def create_total_memory_table():\n",
        "    print(\"----Memory----\")\n",
        "    memory_table = PrettyTable([\"Total(GB)\", \"Used(GB)\",\n",
        "                                \"Available(GB)\", \"Percentage\"])\n",
        "    vm = psutil.virtual_memory()\n",
        "    memory_table.add_row([\n",
        "        f'{vm.total / 1e9:.3f}',\n",
        "        f'{vm.used / 1e9:.3f}',\n",
        "        f'{vm.available / 1e9:.3f}',\n",
        "        vm.percent\n",
        "    ])\n",
        "    print(memory_table)"
      ],
      "metadata": {
        "id": "W2J1IU3McsOU"
      },
      "id": "W2J1IU3McsOU",
      "execution_count": 6,
      "outputs": []
    },
    {
      "cell_type": "markdown",
      "source": [
        "# ***Disk:*** "
      ],
      "metadata": {
        "id": "3fSbK7p7cCQR"
      },
      "id": "3fSbK7p7cCQR"
    },
    {
      "cell_type": "code",
      "source": [
        "def create_total_disk_table():\n",
        "    print(\"----Disk----\")\n",
        "    disk_table = PrettyTable([\"Total(GB)\", \"Used(GB)\",\n",
        "                              \"Available(GB)\", \"Percentage\"])\n",
        "    disk_stat = psutil.disk_usage('/')\n",
        "    disk_table.add_row([\n",
        "        f'{disk_stat.total / 1e9:.3f}',\n",
        "        f'{disk_stat.used / 1e9:.3f}',\n",
        "        f'{disk_stat.free / 1e9:.3f}',\n",
        "        disk_stat.percent\n",
        "    ])\n",
        "    print(disk_table)"
      ],
      "metadata": {
        "id": "881WBzkPcyY6"
      },
      "id": "881WBzkPcyY6",
      "execution_count": 7,
      "outputs": []
    },
    {
      "cell_type": "markdown",
      "source": [
        "# ***Disk I/O:*** "
      ],
      "metadata": {
        "id": "_tE1ljeWc2IE"
      },
      "id": "_tE1ljeWc2IE"
    },
    {
      "cell_type": "code",
      "source": [
        "# TODO: i/o data is cumulative. maybe we should subtract that from initial i/o data (when the python program starts)\n",
        "def create_current_disk_io_table():\n",
        "    print(\"----Disk I/O----\")\n",
        "    disk_table = PrettyTable([\"read_count\", \"write_count\",\n",
        "                              \"read_bytes(GB)\", \"write_bytes(GB)\"])\n",
        "    disk_io_stat = psutil.disk_io_counters()\n",
        "    disk_table.add_row([\n",
        "        disk_io_stat.read_count,\n",
        "        disk_io_stat.write_count,\n",
        "        f'{disk_io_stat.read_bytes / 1e9:.3f}',\n",
        "        f'{disk_io_stat.write_bytes / 1e9:.3f}'\n",
        "    ])\n",
        "    print(disk_table)\n"
      ],
      "metadata": {
        "id": "NpWjFDtIc6aq"
      },
      "id": "NpWjFDtIc6aq",
      "execution_count": 8,
      "outputs": []
    },
    {
      "cell_type": "markdown",
      "source": [
        "# ***All Processes:*** "
      ],
      "metadata": {
        "id": "LOMNCJGvcMmk"
      },
      "id": "LOMNCJGvcMmk"
    },
    {
      "cell_type": "code",
      "source": [
        "# TODO: i/o data is cumulative. maybe we should subtract that from initial i/o data (when the python program starts)\n",
        "def create_process_table():\n",
        "    print(\"----Processes----\")\n",
        "    process_table = PrettyTable(['PID', 'PNAME',\n",
        "                                 'CPU', 'NUM THREADS', 'MEMORY(MB)', 'MEMORY(%)', 'read_count', 'write_count', 'read_bytes', 'write_bytes'])\n",
        "\n",
        "    proc = []\n",
        "    # get the pids from last which mostly are user processes\n",
        "    for p in psutil.process_iter():\n",
        "        try:\n",
        "            # trigger cpu_percent() the first time which leads to return of 0.0\n",
        "            p.cpu_percent()\n",
        "            proc.append(p)\n",
        "\n",
        "        except Exception as e:\n",
        "            pass\n",
        "\n",
        "    # sort by cpu_percent\n",
        "    top = {}\n",
        "    time.sleep(0.1)\n",
        "    for p in proc:\n",
        "        # trigger cpu_percent() the second time for measurement\n",
        "        top[p] = p.cpu_percent() / psutil.cpu_count()\n",
        "\n",
        "    top_list = sorted(top.items(), key=lambda x: x[1])\n",
        "    top10 = top_list[-20:]\n",
        "    top10.reverse()\n",
        "\n",
        "    for p, cpu_percent in top10:\n",
        "\n",
        "        # While fetching the processes, some of the subprocesses may exit\n",
        "        # Hence we need to put this code in try-except block\n",
        "        try:\n",
        "            # oneshot to improve info retrieve efficiency\n",
        "            with p.oneshot():\n",
        "                disk_io = p.io_counters()\n",
        "                process_table.add_row([\n",
        "                    str(p.pid),\n",
        "                    p.name(),\n",
        "                    f'{cpu_percent:.2f}' + \"%\",\n",
        "                    p.num_threads(),\n",
        "                    f'{p.memory_info().rss / 1e6:.3f}', # TODO: maybe should use uss instead rss?\n",
        "                    round(p.memory_percent(),2),\n",
        "                    disk_io.read_count,\n",
        "                    disk_io.write_count,\n",
        "                    disk_io.read_bytes,\n",
        "                    disk_io.write_bytes\n",
        "                ])\n",
        "\n",
        "        except Exception as e:\n",
        "            pass\n",
        "    print(process_table)\n"
      ],
      "metadata": {
        "id": "xhwOcXiCdDfh"
      },
      "id": "xhwOcXiCdDfh",
      "execution_count": 9,
      "outputs": []
    },
    {
      "cell_type": "markdown",
      "source": [
        "# ***CPU:*** "
      ],
      "metadata": {
        "id": "aGsy0yWicJCs"
      },
      "id": "aGsy0yWicJCs"
    },
    {
      "cell_type": "code",
      "source": [
        "# TO DO: calculate the total cpu consumption"
      ],
      "metadata": {
        "id": "mpb37-I_dIGB"
      },
      "id": "mpb37-I_dIGB",
      "execution_count": null,
      "outputs": []
    },
    {
      "cell_type": "markdown",
      "source": [
        "Now, Lets run the main:"
      ],
      "metadata": {
        "id": "yRrOv4rbdPQR"
      },
      "id": "yRrOv4rbdPQR"
    },
    {
      "cell_type": "code",
      "execution_count": 3,
      "id": "38b13da2",
      "metadata": {
        "colab": {
          "base_uri": "https://localhost:8080/",
          "height": 502
        },
        "id": "38b13da2",
        "outputId": "4c80d28a-f510-4c1d-9d7d-9a2200d06dce"
      },
      "outputs": [
        {
          "output_type": "stream",
          "name": "stdout",
          "text": [
            "----Disk----\n",
            "+-----------+----------+---------------+------------+\n",
            "| Total(GB) | Used(GB) | Available(GB) | Percentage |\n",
            "+-----------+----------+---------------+------------+\n",
            "|  115.658  |  41.211  |     74.431    |    35.6    |\n",
            "+-----------+----------+---------------+------------+\n",
            "----Disk I/O----\n"
          ]
        },
        {
          "output_type": "error",
          "ename": "ValueError",
          "evalue": "ignored",
          "traceback": [
            "\u001b[0;31m---------------------------------------------------------------------------\u001b[0m",
            "\u001b[0;31mValueError\u001b[0m                                Traceback (most recent call last)",
            "\u001b[0;32m<ipython-input-3-42b3815bd959>\u001b[0m in \u001b[0;36m<module>\u001b[0;34m\u001b[0m\n\u001b[1;32m    149\u001b[0m     \u001b[0;31m# print_network_stat()\u001b[0m\u001b[0;34m\u001b[0m\u001b[0;34m\u001b[0m\u001b[0;34m\u001b[0m\u001b[0m\n\u001b[1;32m    150\u001b[0m \u001b[0;34m\u001b[0m\u001b[0m\n\u001b[0;32m--> 151\u001b[0;31m     \u001b[0mcreate_current_disk_io_table\u001b[0m\u001b[0;34m(\u001b[0m\u001b[0;34m)\u001b[0m\u001b[0;34m\u001b[0m\u001b[0;34m\u001b[0m\u001b[0m\n\u001b[0m\u001b[1;32m    152\u001b[0m \u001b[0;34m\u001b[0m\u001b[0m\n\u001b[1;32m    153\u001b[0m     \u001b[0;31m# Fetch the memory information\u001b[0m\u001b[0;34m\u001b[0m\u001b[0;34m\u001b[0m\u001b[0;34m\u001b[0m\u001b[0m\n",
            "\u001b[0;32m<ipython-input-3-42b3815bd959>\u001b[0m in \u001b[0;36mcreate_current_disk_io_table\u001b[0;34m()\u001b[0m\n\u001b[1;32m     73\u001b[0m     disk_table = PrettyTable([\"read_count\", \"write_count\",\n\u001b[1;32m     74\u001b[0m                               \"read_bytes(GB)\", \"write_bytes(GB)\"])\n\u001b[0;32m---> 75\u001b[0;31m     \u001b[0mdisk_io_stat\u001b[0m \u001b[0;34m=\u001b[0m \u001b[0mpsutil\u001b[0m\u001b[0;34m.\u001b[0m\u001b[0mdisk_io_counters\u001b[0m\u001b[0;34m(\u001b[0m\u001b[0;34m)\u001b[0m\u001b[0;34m\u001b[0m\u001b[0;34m\u001b[0m\u001b[0m\n\u001b[0m\u001b[1;32m     76\u001b[0m     disk_table.add_row([\n\u001b[1;32m     77\u001b[0m         \u001b[0mdisk_io_stat\u001b[0m\u001b[0;34m.\u001b[0m\u001b[0mread_count\u001b[0m\u001b[0;34m,\u001b[0m\u001b[0;34m\u001b[0m\u001b[0;34m\u001b[0m\u001b[0m\n",
            "\u001b[0;32m/usr/local/lib/python3.7/dist-packages/psutil/__init__.py\u001b[0m in \u001b[0;36mdisk_io_counters\u001b[0;34m(perdisk, nowrap)\u001b[0m\n\u001b[1;32m   2024\u001b[0m     \"\"\"\n\u001b[1;32m   2025\u001b[0m     \u001b[0mkwargs\u001b[0m \u001b[0;34m=\u001b[0m \u001b[0mdict\u001b[0m\u001b[0;34m(\u001b[0m\u001b[0mperdisk\u001b[0m\u001b[0;34m=\u001b[0m\u001b[0mperdisk\u001b[0m\u001b[0;34m)\u001b[0m \u001b[0;32mif\u001b[0m \u001b[0mLINUX\u001b[0m \u001b[0;32melse\u001b[0m \u001b[0;34m{\u001b[0m\u001b[0;34m}\u001b[0m\u001b[0;34m\u001b[0m\u001b[0;34m\u001b[0m\u001b[0m\n\u001b[0;32m-> 2026\u001b[0;31m     \u001b[0mrawdict\u001b[0m \u001b[0;34m=\u001b[0m \u001b[0m_psplatform\u001b[0m\u001b[0;34m.\u001b[0m\u001b[0mdisk_io_counters\u001b[0m\u001b[0;34m(\u001b[0m\u001b[0;34m**\u001b[0m\u001b[0mkwargs\u001b[0m\u001b[0;34m)\u001b[0m\u001b[0;34m\u001b[0m\u001b[0;34m\u001b[0m\u001b[0m\n\u001b[0m\u001b[1;32m   2027\u001b[0m     \u001b[0;32mif\u001b[0m \u001b[0;32mnot\u001b[0m \u001b[0mrawdict\u001b[0m\u001b[0;34m:\u001b[0m\u001b[0;34m\u001b[0m\u001b[0;34m\u001b[0m\u001b[0m\n\u001b[1;32m   2028\u001b[0m         \u001b[0;32mreturn\u001b[0m \u001b[0;34m{\u001b[0m\u001b[0;34m}\u001b[0m \u001b[0;32mif\u001b[0m \u001b[0mperdisk\u001b[0m \u001b[0;32melse\u001b[0m \u001b[0;32mNone\u001b[0m\u001b[0;34m\u001b[0m\u001b[0;34m\u001b[0m\u001b[0m\n",
            "\u001b[0;32m/usr/local/lib/python3.7/dist-packages/psutil/_pslinux.py\u001b[0m in \u001b[0;36mdisk_io_counters\u001b[0;34m(perdisk)\u001b[0m\n\u001b[1;32m   1113\u001b[0m \u001b[0;34m\u001b[0m\u001b[0m\n\u001b[1;32m   1114\u001b[0m     \u001b[0mretdict\u001b[0m \u001b[0;34m=\u001b[0m \u001b[0;34m{\u001b[0m\u001b[0;34m}\u001b[0m\u001b[0;34m\u001b[0m\u001b[0;34m\u001b[0m\u001b[0m\n\u001b[0;32m-> 1115\u001b[0;31m     \u001b[0;32mfor\u001b[0m \u001b[0mentry\u001b[0m \u001b[0;32min\u001b[0m \u001b[0mgen\u001b[0m\u001b[0;34m:\u001b[0m\u001b[0;34m\u001b[0m\u001b[0;34m\u001b[0m\u001b[0m\n\u001b[0m\u001b[1;32m   1116\u001b[0m         (name, reads, writes, rbytes, wbytes, rtime, wtime, reads_merged,\n\u001b[1;32m   1117\u001b[0m             writes_merged, busy_time) = entry\n",
            "\u001b[0;32m/usr/local/lib/python3.7/dist-packages/psutil/_pslinux.py\u001b[0m in \u001b[0;36mread_procfs\u001b[0;34m()\u001b[0m\n\u001b[1;32m   1086\u001b[0m                 \u001b[0mrtime\u001b[0m \u001b[0;34m=\u001b[0m \u001b[0mwtime\u001b[0m \u001b[0;34m=\u001b[0m \u001b[0mreads_merged\u001b[0m \u001b[0;34m=\u001b[0m \u001b[0mwrites_merged\u001b[0m \u001b[0;34m=\u001b[0m \u001b[0mbusy_time\u001b[0m \u001b[0;34m=\u001b[0m \u001b[0;36m0\u001b[0m\u001b[0;34m\u001b[0m\u001b[0;34m\u001b[0m\u001b[0m\n\u001b[1;32m   1087\u001b[0m             \u001b[0;32melse\u001b[0m\u001b[0;34m:\u001b[0m\u001b[0;34m\u001b[0m\u001b[0;34m\u001b[0m\u001b[0m\n\u001b[0;32m-> 1088\u001b[0;31m                 \u001b[0;32mraise\u001b[0m \u001b[0mValueError\u001b[0m\u001b[0;34m(\u001b[0m\u001b[0;34m\"not sure how to interpret line %r\"\u001b[0m \u001b[0;34m%\u001b[0m \u001b[0mline\u001b[0m\u001b[0;34m)\u001b[0m\u001b[0;34m\u001b[0m\u001b[0;34m\u001b[0m\u001b[0m\n\u001b[0m\u001b[1;32m   1089\u001b[0m             yield (name, reads, writes, rbytes, wbytes, rtime, wtime,\n\u001b[1;32m   1090\u001b[0m                    reads_merged, writes_merged, busy_time)\n",
            "\u001b[0;31mValueError\u001b[0m: not sure how to interpret line '   7       0 loop0 23447 0 1280322 34643 2857 0 33184 1281 0 17443 36675 0 0 0 0 412 749\\n'"
          ]
        }
      ],
      "source": [
        "#print_battery_stat()\n",
        "create_total_disk_table()\n",
        "\n",
        "for i in range(5):\n",
        "\n",
        "    # Clear the screen using a bash command\n",
        "    #call('clear')\n",
        "\n",
        "\n",
        "    # Fetch the Network information - relevant?\n",
        "    # print_network_stat()\n",
        "\n",
        "    create_current_disk_io_table()\n",
        "\n",
        "    # Fetch the memory information\n",
        "    create_total_memory_table()\n",
        "\n",
        "\n",
        "    # Fetch the 10 processes from available processes that has the highest cpu usage\n",
        "    create_process_table()\n",
        "\n",
        "    # Create a 1 second delay\n",
        "    time.sleep(1)\n",
        "\n",
        "#print_battery_stat()\n"
      ]
    }
  ],
  "metadata": {
    "kernelspec": {
      "display_name": "Python 3 (ipykernel)",
      "language": "python",
      "name": "python3"
    },
    "language_info": {
      "codemirror_mode": {
        "name": "ipython",
        "version": 3
      },
      "file_extension": ".py",
      "mimetype": "text/x-python",
      "name": "python",
      "nbconvert_exporter": "python",
      "pygments_lexer": "ipython3",
      "version": "3.10.8"
    },
    "colab": {
      "provenance": []
    }
  },
  "nbformat": 4,
  "nbformat_minor": 5
}