{
 "cells": [
  {
   "cell_type": "code",
   "execution_count": 3,
   "metadata": {},
   "outputs": [],
   "source": [
    "import pandas as pd\n",
    "from matplotlib import pyplot as plt\n",
    "import pandas as pd\n",
    "from sklearn.model_selection import train_test_split\n",
    "from sklearn.neural_network import MLPRegressor\n",
    "from sklearn.ensemble import RandomForestRegressor\n",
    "from sklearn.metrics import mean_squared_error\n",
    "from SplunkResearch.resources.section_logtypes import section_logtypes\n",
    "import numpy as np\n",
    "import joblib\n",
    "from sklearn.linear_model import LinearRegression"
   ]
  },
  {
   "cell_type": "code",
   "execution_count": 28,
   "metadata": {},
   "outputs": [],
   "source": [
    "section_logtypes = {'Detect New Local Admin account': [('wineventlog:security', '4732')],\n",
    "                    'Windows Event For Service Disabled': [('wineventlog:system', '7040')],\n",
    "                    \"Known Services Killed by Ransomware\": [('wineventlog:system', '7036')],\n",
    "                    \"Kerberoasting spn request with RC4 encryption\": [('wineventlog:security', '4769')],\n",
    "                    \"Clop Ransomware Known Service Name\": [('wineventlog:system', '7045')],\n",
    "                    \"Non Chrome Process Accessing Chrome Default Dir\":[('wineventlog:security', '4663')],\n",
    "                    'ESCU Network Share Discovery Via Dir Command Rule': [('wineventlog:security', '5140')],\n",
    "                    'Windows AD Replication Request Initiated from Unsanctioned Location':[('wineventlog:security', '4662')],\n",
    "                    'ESCU Windows Rapid Authentication On Multiple Hosts Rule': [('wineventlog:security', '4624')]}"
   ]
  },
  {
   "cell_type": "code",
   "execution_count": 70,
   "metadata": {},
   "outputs": [],
   "source": [
    "fake_df = pd.read_csv('/home/shouei/GreenSecurity-FirstExperiment/SplunkResearch/resources/all_data.csv')\n",
    "real_df = pd.read_csv('/home/shouei/GreenSecurity-FirstExperiment/SplunkResearch/resources/all_baseline_data.csv')\n"
   ]
  },
  {
   "cell_type": "code",
   "execution_count": 71,
   "metadata": {},
   "outputs": [],
   "source": [
    "fake_df = fake_df[~(fake_df['time_range'].str.contains('08/01/2024')|fake_df['time_range'].str.contains('08/02/2024')|fake_df['time_range'].str.contains('08/03/2024')|fake_df['time_range'].str.contains('08/04/2024')|fake_df['time_range'].str.contains('08/05/2024')|fake_df['time_range'].str.contains('08/06/2024')|fake_df['time_range'].str.contains('08/07/2024')|fake_df['time_range'].str.contains('08/08/2024')|fake_df['time_range'].str.contains('08/09/2024')|fake_df['time_range'].str.contains('08/10/2024')|fake_df['time_range'].str.contains('08/11/2024'))]\n",
    "rael_df = real_df[~(real_df['time_range'].str.contains('08/01/2024')|real_df['time_range'].str.contains('08/02/2024')|real_df['time_range'].str.contains('08/03/2024')|real_df['time_range'].str.contains('08/04/2024')|real_df['time_range'].str.contains('08/05/2024')|real_df['time_range'].str.contains('08/06/2024')|real_df['time_range'].str.contains('08/07/2024')|real_df['time_range'].str.contains('08/08/2024')|real_df['time_range'].str.contains('08/09/2024')|real_df['time_range'].str.contains('08/10/2024')|real_df['time_range'].str.contains('08/11/2024'))]"
   ]
  },
  {
   "cell_type": "code",
   "execution_count": 72,
   "metadata": {},
   "outputs": [],
   "source": [
    "# ommit the prefix ac_fake_distribution and ac_real_distribution from the column names\n",
    "fake_df.columns = [col.replace('ac_fake_distribution_', '') for col in fake_df.columns]\n",
    "real_df.columns = [col.replace('ac_real_distribution_', '') for col in real_df.columns]"
   ]
  },
  {
   "cell_type": "code",
   "execution_count": 75,
   "metadata": {},
   "outputs": [],
   "source": [
    "# drop in fake_Df rows that contains in columns that contaINS CPU with zero values\n",
    "fake_df = fake_df[fake_df[fake_df.columns[fake_df.columns.str.contains('cpu')]].sum(axis=1) != 0]"
   ]
  },
  {
   "cell_type": "markdown",
   "metadata": {},
   "source": [
    "### Alert Forcasting"
   ]
  },
  {
   "cell_type": "code",
   "execution_count": 87,
   "metadata": {},
   "outputs": [
    {
     "name": "stdout",
     "output_type": "stream",
     "text": [
      "Rule: Detect New Local Admin account, Model: RandomForestRegressor\n",
      "Mean Squared Error: 1.9691498217271746\n",
      "R2 Score: 0.9999221494647126\n",
      "Rule: Windows Event For Service Disabled, Model: RandomForestRegressor\n",
      "Mean Squared Error: 2.370338657247255\n",
      "R2 Score: 0.9706573877783182\n",
      "Rule: Known Services Killed by Ransomware, Model: RandomForestRegressor\n",
      "Mean Squared Error: 1.0741725821393229\n",
      "R2 Score: 0.9844404090652873\n",
      "Rule: Kerberoasting spn request with RC4 encryption, Model: RandomForestRegressor\n",
      "Mean Squared Error: nan\n",
      "R2 Score: 1.0\n"
     ]
    },
    {
     "name": "stderr",
     "output_type": "stream",
     "text": [
      "/tmp/ipykernel_30922/3830901948.py:57: RuntimeWarning: invalid value encountered in scalar divide\n",
      "  print(f\"Mean Squared Error: {np.sqrt(mean_squared_error(y_test, y_pred))/ np.mean(y_test)}\")\n",
      "/tmp/ipykernel_30922/3830901948.py:57: RuntimeWarning: invalid value encountered in scalar divide\n",
      "  print(f\"Mean Squared Error: {np.sqrt(mean_squared_error(y_test, y_pred))/ np.mean(y_test)}\")\n"
     ]
    },
    {
     "name": "stdout",
     "output_type": "stream",
     "text": [
      "Rule: Clop Ransomware Known Service Name, Model: RandomForestRegressor\n",
      "Mean Squared Error: nan\n",
      "R2 Score: 1.0\n",
      "Rule: Non Chrome Process Accessing Chrome Default Dir, Model: RandomForestRegressor\n",
      "Mean Squared Error: nan\n",
      "R2 Score: 1.0\n"
     ]
    },
    {
     "name": "stderr",
     "output_type": "stream",
     "text": [
      "/tmp/ipykernel_30922/3830901948.py:57: RuntimeWarning: invalid value encountered in scalar divide\n",
      "  print(f\"Mean Squared Error: {np.sqrt(mean_squared_error(y_test, y_pred))/ np.mean(y_test)}\")\n",
      "/tmp/ipykernel_30922/3830901948.py:57: RuntimeWarning: invalid value encountered in scalar divide\n",
      "  print(f\"Mean Squared Error: {np.sqrt(mean_squared_error(y_test, y_pred))/ np.mean(y_test)}\")\n"
     ]
    },
    {
     "name": "stdout",
     "output_type": "stream",
     "text": [
      "Rule: ESCU Network Share Discovery Via Dir Command Rule, Model: RandomForestRegressor\n",
      "Mean Squared Error: nan\n",
      "R2 Score: 1.0\n",
      "Rule: Windows AD Replication Request Initiated from Unsanctioned Location, Model: RandomForestRegressor\n",
      "Mean Squared Error: nan\n",
      "R2 Score: 1.0\n"
     ]
    },
    {
     "name": "stderr",
     "output_type": "stream",
     "text": [
      "/tmp/ipykernel_30922/3830901948.py:57: RuntimeWarning: invalid value encountered in scalar divide\n",
      "  print(f\"Mean Squared Error: {np.sqrt(mean_squared_error(y_test, y_pred))/ np.mean(y_test)}\")\n"
     ]
    },
    {
     "name": "stdout",
     "output_type": "stream",
     "text": [
      "Rule: ESCU Windows Rapid Authentication On Multiple Hosts Rule, Model: RandomForestRegressor\n",
      "Mean Squared Error: 2.58087921065671\n",
      "R2 Score: 0.9634238777255237\n",
      "All Model: RandomForestRegressor\n",
      "Mean Squared Error: 0.2878556863033308\n",
      "R2 Score: 0.9800151337397219\n",
      "Average R2 Score: 0.9909382026704269\n",
      "Feature ranking:\n",
      "1. feature ('wineventlog:security', '4799') (0.4097816940204805)\n",
      "2. feature ('wineventlog:system', '7045') (0.23374007103361893)\n",
      "3. feature ('wineventlog:system', '44') (0.06302292873046861)\n",
      "4. feature ('wineventlog:security', '4625') (0.05641366851882761)\n",
      "5. feature ('wineventlog:system', '7036') (0.05288440125512214)\n",
      "6. feature ('wineventlog:security', '4732') (0.04023243033926264)\n",
      "7. feature ('wineventlog:security', '4662') (0.03680009487855885)\n",
      "8. feature ('wineventlog:security', '4907') (0.021185481193670568)\n",
      "9. feature ('wineventlog:security', '4648') (0.010722969069722265)\n",
      "10. feature ('wineventlog:system', '1500') (0.008350312419549106)\n",
      "11. feature ('wineventlog:system', '12') (0.006906271234724321)\n",
      "12. feature ('wineventlog:system', '108') (0.00668267002908065)\n",
      "13. feature ('wineventlog:system', '1112') (0.006107537293830128)\n",
      "14. feature ('wineventlog:system', '16') (0.006008785603665409)\n",
      "15. feature ('wineventlog:system', '101') (0.005818425103895526)\n",
      "16. feature ('wineventlog:system', '7') (0.005420422537434184)\n",
      "17. feature ('wineventlog:security', '4634') (0.005273319474124063)\n",
      "18. feature ('wineventlog:security', '4624') (0.005258555766911437)\n",
      "19. feature ('wineventlog:security', '4672') (0.004526475492757976)\n",
      "20. feature ('wineventlog:security', '4735') (0.004066569295936548)\n",
      "21. feature ('wineventlog:system', '7040') (0.0038949733976925832)\n",
      "22. feature ('wineventlog:security', '4702') (0.003730205331581564)\n",
      "23. feature ('wineventlog:security', '5379') (0.003171737979084405)\n",
      "24. feature ('wineventlog:security', '5140') (0.0)\n",
      "25. feature ('wineventlog:security', '4769') (0.0)\n",
      "26. feature ('wineventlog:security', '4663') (0.0)\n"
     ]
    },
    {
     "data": {
      "text/plain": [
       "['models_all_rules_alerts.joblib']"
      ]
     },
     "execution_count": 87,
     "metadata": {},
     "output_type": "execute_result"
    }
   ],
   "source": [
    "# for rule in section_logtypes:\n",
    "#     for logtype, eventid in section_logtypes[rule]:\n",
    "df = real_df              \n",
    "X_distribution = df.iloc[:,df.columns.str.contains(\"wineventlog\")]\n",
    "# X_distribution = df.iloc[:,df.columns.str.contains(f\"'{logtype}', '{eventid}'\")]\n",
    "# X_distribution = X_distribution.drop(columns=['other'])  # Drop the 'other' column if it exists\n",
    "\n",
    "# X_distribution = X_distribution.iloc[:,X_distribution.columns.str.contains(eventid)]\n",
    "# Normalize the distribution values\n",
    "X_distribution = X_distribution.fillna(0)  # Fill NaN values with 0\n",
    "dist_max = X_distribution.max().max()\n",
    "dist_min = X_distribution.min().min()\n",
    "\n",
    "# X_distribution['sum'] = X_distribution.sum(axis=1) / 100000\n",
    "# X_distribution = X_distribution.apply(lambda x: x / x.sum(), axis=0)  # Normalize each column\n",
    "models = {}\n",
    "r_scores = []\n",
    "X_distribution = X_distribution.apply(lambda x: (x - dist_min) / (dist_max - dist_min), axis=0)  # Normalize each column\n",
    "X_distribution = X_distribution.fillna(0)  # Fill NaN values with 0\n",
    "for rule in section_logtypes:\n",
    "    for logtype, eventid in section_logtypes[rule]:\n",
    "\n",
    "        X_alerts = df.iloc[:, df.columns.str.contains(\"alert\")]\n",
    "        X_alerts = X_alerts.iloc[:, X_alerts.columns.str.contains(rule)]\n",
    "        \n",
    "        # X_alerts = X_alerts.iloc[:, X_alerts.columns.str.contains(rule)]\n",
    "        # normalize the alert values\n",
    "        X_alerts = X_alerts.fillna(0)  # Fill NaN values with 0\n",
    "        X_alerts = X_alerts.apply(lambda x: (x - x.min()) / (x.max() - x.min()), axis=0)  # Normalize each column\n",
    "        X_alerts = X_alerts.fillna(0)  # Fill NaN values with 0\n",
    "        X_alerts = X_alerts.fillna(0)  # Fill NaN values with 0\n",
    "        \n",
    "        X = X_distribution\n",
    "        Y = X_alerts.sum(axis=1)\n",
    "\n",
    "        # normalize the cpu values\n",
    "        # Y = (Y - Y.min()) / (Y.max() - Y.min())  # Normalize the target variable\n",
    "        X_train, X_test, y_train, y_test = train_test_split(X, Y, test_size=0.2, random_state=42)\n",
    "        regr1 = RandomForestRegressor(n_estimators=150, random_state=42)\n",
    "\n",
    "        # regr2 = MLPRegressor(hidden_layer_sizes=(100, 100, 50), max_iter=5000)\n",
    "        # regr3 = LinearRegression()\n",
    "        for regr in [regr1]:\n",
    "            \n",
    "            regr.fit(X_train, y_train)\n",
    "            # save model\n",
    "            # joblib.dump(regr, f'model_all.joblib', protocol=4)\n",
    "            # joblib.dump(regr, f'model_{rule}.joblib', protocol=4)\n",
    "            y_pred = regr.predict(X_test)\n",
    "            # clip negative values\n",
    "            y_pred = np.clip(y_pred, 0, None)\n",
    "            # round the values\n",
    "            y_pred = np.round(y_pred)\n",
    "            # print(f\"Rule: {rule}, Model: {regr.__class__.__name__}\")\n",
    "            print(f\"Rule: {rule}, Model: {regr.__class__.__name__}\")\n",
    "            \n",
    "            print(f\"Mean Squared Error: {np.sqrt(mean_squared_error(y_test, y_pred))/ np.mean(y_test)}\")\n",
    "            r_score = regr.score(X_test, y_test)\n",
    "            r_scores.append(r_score)\n",
    "            print(f\"R2 Score: {r_score}\")\n",
    "            models[f\"{rule}_{regr.__class__.__name__}\"] = regr\n",
    "\n",
    "#all model\n",
    "X_alerts = df.iloc[:, df.columns.str.contains(\"alert\")]\n",
    "\n",
    "Y = X_alerts\n",
    "Y = Y.sum(axis=1)\n",
    "X = X_distribution\n",
    "\n",
    "X_train, X_test, y_train, y_test = train_test_split(X, Y, test_size=0.2, random_state=42)\n",
    "regr = RandomForestRegressor(n_estimators=150, random_state=42)\n",
    "regr.fit(X_train, y_train)\n",
    "y_pred = regr.predict(X_test)\n",
    "print(f\"All Model: RandomForestRegressor\")\n",
    "print(f\"Mean Squared Error: {np.sqrt(mean_squared_error(y_test, y_pred))/ np.mean(y_test)}\")\n",
    "print(f\"R2 Score: {regr.score(X_test, y_test)}\")\n",
    "print(f\"Average R2 Score: {np.mean(r_scores)}\")\n",
    "# feature importance\n",
    "importances = regr.feature_importances_\n",
    "indices = np.argsort(importances)[::-1]\n",
    "# print the feature ranking\n",
    "print(\"Feature ranking:\")\n",
    "for f in range(X.shape[1]):\n",
    "    print(f\"{f + 1}. feature {X.columns[indices[f]]} ({importances[indices[f]]})\")\n",
    "models[f\"All_RandomForestRegressor\"] = regr\n",
    "# dump all model\n",
    "joblib.dump(models[f\"All_RandomForestRegressor\"], f'models_all_rules_alerts.joblib', protocol=4)\n"
   ]
  },
  {
   "cell_type": "markdown",
   "metadata": {},
   "source": [
    "### CPU Forcasting"
   ]
  },
  {
   "cell_type": "code",
   "execution_count": 88,
   "metadata": {},
   "outputs": [
    {
     "name": "stdout",
     "output_type": "stream",
     "text": [
      "All Model: RandomForestRegressor\n",
      "Mean Squared Error: 0.1243350223921565\n",
      "R2 Score: 0.8233624638071912\n",
      "Average R2 Score: nan\n",
      "Feature ranking:\n",
      "1. feature raw_metrics_Windows AD Replication Request Initiated from Unsanctioned Location_alert (0.5026554937893354)\n",
      "2. feature ('wineventlog:system', '108') (0.07633207498968758)\n",
      "3. feature ('wineventlog:security', '4662') (0.05181052438802669)\n",
      "4. feature ('wineventlog:security', '4732') (0.0219200704179989)\n",
      "5. feature ('wineventlog:system', '7036') (0.02185951862691804)\n",
      "6. feature raw_metrics_Known Services Killed by Ransomware_alert (0.021591895565723565)\n",
      "7. feature ('wineventlog:system', '7') (0.019992908141469406)\n",
      "8. feature ('wineventlog:security', '4769') (0.017647595266315475)\n",
      "9. feature ('wineventlog:security', '4672') (0.017261407366470034)\n",
      "10. feature ('wineventlog:system', '7045') (0.01691532584502287)\n",
      "11. feature ('wineventlog:system', '1500') (0.01603393511727104)\n",
      "12. feature ('wineventlog:security', '4799') (0.015613778171927589)\n",
      "13. feature ('wineventlog:system', '7040') (0.014113243320104073)\n",
      "14. feature ('wineventlog:security', '5379') (0.013932410744830665)\n",
      "15. feature raw_metrics_Detect New Local Admin account_alert (0.013323661021575608)\n",
      "16. feature raw_metrics_Windows Event For Service Disabled_alert (0.01299381935454736)\n",
      "17. feature ('wineventlog:security', '4624') (0.012642142777209583)\n",
      "18. feature ('wineventlog:system', '16') (0.012125900958018448)\n",
      "19. feature ('wineventlog:security', '4648') (0.012066894467071149)\n",
      "20. feature ('wineventlog:security', '4634') (0.01134817786993146)\n",
      "21. feature ('wineventlog:security', '4702') (0.011329761207953893)\n",
      "22. feature ('wineventlog:security', '4907') (0.011212434998866103)\n",
      "23. feature ('wineventlog:security', '4625') (0.010282380767280426)\n",
      "24. feature ('wineventlog:system', '44') (0.010116410825167151)\n",
      "25. feature ('wineventlog:system', '1112') (0.009564342729514744)\n",
      "26. feature ('wineventlog:system', '101') (0.00930740443719868)\n",
      "27. feature ('wineventlog:security', '4735') (0.008881896599011853)\n",
      "28. feature raw_metrics_ESCU Windows Rapid Authentication On Multiple Hosts Rule_alert (0.007941989022432665)\n",
      "29. feature ('wineventlog:system', '12') (0.007704226865270213)\n",
      "30. feature ('wineventlog:security', '4663') (0.005653442766471003)\n",
      "31. feature ('wineventlog:security', '5140') (0.004520886420699317)\n",
      "32. feature raw_metrics_ESCU Network Share Discovery Via Dir Command Rule_alert (0.00041817558934818794)\n",
      "33. feature raw_metrics_Clop Ransomware Known Service Name_alert (0.00038623302988342997)\n",
      "34. feature raw_metrics_Kerberoasting spn request with RC4 encryption_alert (0.00031324677064091934)\n",
      "35. feature raw_metrics_Non Chrome Process Accessing Chrome Default Dir_alert (0.0001863897708065044)\n"
     ]
    },
    {
     "name": "stderr",
     "output_type": "stream",
     "text": [
      "/home/shouei/anaconda3/envs/py310_modelenv/lib/python3.8/site-packages/numpy/core/fromnumeric.py:3464: RuntimeWarning: Mean of empty slice.\n",
      "  return _methods._mean(a, axis=axis, dtype=dtype,\n",
      "/home/shouei/anaconda3/envs/py310_modelenv/lib/python3.8/site-packages/numpy/core/_methods.py:192: RuntimeWarning: invalid value encountered in scalar divide\n",
      "  ret = ret.dtype.type(ret / rcount)\n"
     ]
    },
    {
     "data": {
      "text/plain": [
       "['models_all_rules_cpu.joblib']"
      ]
     },
     "execution_count": 88,
     "metadata": {},
     "output_type": "execute_result"
    }
   ],
   "source": [
    "# for rule in section_logtypes:\n",
    "#     for logtype, eventid in section_logtypes[rule]:\n",
    "df = pd.concat([fake_df, real_df], axis=0)              \n",
    "X_distribution = df.iloc[:,df.columns.str.contains(\"wineventlog\")]\n",
    "# X_distribution = df.iloc[:,df.columns.str.contains(f\"'{logtype}', '{eventid}'\")]\n",
    "# X_distribution = X_distribution.drop(columns=['other'])  # Drop the 'other' column if it exists\n",
    "\n",
    "# X_distribution = X_distribution.iloc[:,X_distribution.columns.str.contains(eventid)]\n",
    "# Normalize the distribution values\n",
    "X_distribution = X_distribution.fillna(0)  # Fill NaN values with 0\n",
    "dist_max = X_distribution.max().max()\n",
    "dist_min = X_distribution.min().min()\n",
    "\n",
    "# X_distribution['sum'] = X_distribution.sum(axis=1) / 100000\n",
    "# X_distribution = X_distribution.apply(lambda x: x / x.sum(), axis=0)  # Normalize each column\n",
    "models = {}\n",
    "r_scores = []\n",
    "X_distribution = X_distribution.apply(lambda x: (x - dist_min) / (dist_max - dist_min), axis=0)  # Normalize each column\n",
    "X_distribution = X_distribution.fillna(0)  # Fill NaN values with 0\n",
    "for rule in section_logtypes:\n",
    "    for logtype, eventid in section_logtypes[rule]:\n",
    "\n",
    "        X_alerts = df.iloc[:, df.columns.str.contains(\"alert\")]\n",
    "        X_alerts = X_alerts.iloc[:, X_alerts.columns.str.contains(rule)]\n",
    "        \n",
    "        # X_alerts = X_alerts.iloc[:, X_alerts.columns.str.contains(rule)]\n",
    "        # normalize the alert values\n",
    "        X_alerts = X_alerts.fillna(0)  # Fill NaN values with 0\n",
    "        X_alerts = X_alerts.apply(lambda x: (x - x.min()) / (x.max() - x.min()), axis=0)  # Normalize each column\n",
    "        X_alerts = X_alerts.fillna(0)  # Fill NaN values with 0\n",
    "        X_alerts = X_alerts.fillna(0)  # Fill NaN values with 0\n",
    "        \n",
    "        # X = X_distribution\n",
    "        X = pd.concat([X_distribution, X_alerts], axis=1)\n",
    "        Y = df.loc[:, df.columns.str.contains(\"cpu\")]\n",
    "        Y = Y.loc[:, Y.columns.str.contains(rule)].sum(axis=1)\n",
    "        # Y = X_alerts.sum(axis=1)\n",
    "\n",
    "        # normalize the cpu values\n",
    "        # Y = (Y - Y.min()) / (Y.max() - Y.min())  # Normalize the target variable\n",
    "        X_train, X_test, y_train, y_test = train_test_split(X, Y, test_size=0.2, random_state=42)\n",
    "        regr1 = RandomForestRegressor(n_estimators=150, random_state=42)\n",
    "\n",
    "        # regr2 = MLPRegressor(hidden_layer_sizes=(100, 100, 50), max_iter=5000)\n",
    "        # regr3 = LinearRegression()\n",
    "        for regr in [regr1]:\n",
    "            \n",
    "            regr.fit(X_train, y_train)\n",
    "            # save model\n",
    "            # joblib.dump(regr, f'model_all.joblib', protocol=4)\n",
    "            # joblib.dump(regr, f'model_{rule}.joblib', protocol=4)\n",
    "            y_pred = regr.predict(X_test)\n",
    "            # clip negative values\n",
    "            # y_pred = np.clip(y_pred, 0, None)\n",
    "            # round the values\n",
    "            # y_pred = np.round(y_pred)\n",
    "            # print(f\"Rule: {rule}, Model: {regr.__class__.__name__}\")\n",
    "            print(f\"Rule: {rule}, Model: {regr.__class__.__name__}\")\n",
    "            \n",
    "            print(f\"Mean Squared Error: {np.sqrt(mean_squared_error(y_test, y_pred))/ np.mean(y_test)}\")\n",
    "            r_score = regr.score(X_test, y_test)\n",
    "            r_scores.append(r_score)\n",
    "            print(f\"R2 Score: {r_score}\")\n",
    "            models[f\"{rule}_{regr.__class__.__name__}\"] = regr\n",
    "\n",
    "#all model\n",
    "X_alerts = df.iloc[:, df.columns.str.contains(\"alert\")]\n",
    "\n",
    "# Y = X_alerts\n",
    "Y = df.loc[:, df.columns.str.contains(\"cpu\")]\n",
    "Y = Y.sum(axis=1)\n",
    "# X = X_distribution\n",
    "X = pd.concat([X_distribution, X_alerts], axis=1)\n",
    "\n",
    "X_train, X_test, y_train, y_test = train_test_split(X, Y, test_size=0.2, random_state=42)\n",
    "regr = RandomForestRegressor(n_estimators=50, random_state=42)\n",
    "regr.fit(X_train, y_train)\n",
    "y_pred = regr.predict(X_test)\n",
    "print(f\"All Model: RandomForestRegressor\")\n",
    "print(f\"Mean Squared Error: {np.sqrt(mean_squared_error(y_test, y_pred))/ np.mean(y_test)}\")\n",
    "print(f\"R2 Score: {regr.score(X_test, y_test)}\")\n",
    "print(f\"Average R2 Score: {np.mean(r_scores)}\")\n",
    "# feature importance\n",
    "importances = regr.feature_importances_\n",
    "indices = np.argsort(importances)[::-1]\n",
    "# print the feature ranking\n",
    "print(\"Feature ranking:\")\n",
    "for f in range(X.shape[1]):\n",
    "    print(f\"{f + 1}. feature {X.columns[indices[f]]} ({importances[indices[f]]})\")\n",
    "models[f\"All_RandomForestRegressor\"] = regr\n",
    "# dump all model\n",
    "joblib.dump(models[f\"All_RandomForestRegressor\"], f'models_all_rules_cpu.joblib', protocol=4)\n"
   ]
  },
  {
   "cell_type": "code",
   "execution_count": 55,
   "metadata": {},
   "outputs": [
    {
     "data": {
      "text/plain": [
       "0        3.59\n",
       "2        2.28\n",
       "3        2.71\n",
       "4        2.17\n",
       "5        1.81\n",
       "         ... \n",
       "49868    0.00\n",
       "49869    0.00\n",
       "49870    0.00\n",
       "49871    0.00\n",
       "49872    0.00\n",
       "Length: 49171, dtype: float64"
      ]
     },
     "execution_count": 55,
     "metadata": {},
     "output_type": "execute_result"
    }
   ],
   "source": [
    "Y = fake_df.loc[:, fake_df.columns.str.contains(\"cpu\")]\n",
    "Y.loc[:, Y.columns.str.contains(rule)].sum(axis=1)"
   ]
  },
  {
   "cell_type": "code",
   "execution_count": 79,
   "metadata": {},
   "outputs": [
    {
     "data": {
      "text/plain": [
       "array([40.4253, 40.6976, 55.5401, ..., 57.7269, 56.0624, 57.8703])"
      ]
     },
     "execution_count": 79,
     "metadata": {},
     "output_type": "execute_result"
    }
   ],
   "source": [
    "y_pred_fake_all"
   ]
  },
  {
   "cell_type": "code",
   "execution_count": 80,
   "metadata": {},
   "outputs": [
    {
     "data": {
      "text/plain": [
       "0         55.69\n",
       "2         59.58\n",
       "3         54.68\n",
       "4         47.26\n",
       "5         44.85\n",
       "          ...  \n",
       "49581     91.22\n",
       "49618    106.63\n",
       "49686     99.54\n",
       "49816     78.60\n",
       "49825     79.43\n",
       "Length: 15794, dtype: float64"
      ]
     },
     "execution_count": 80,
     "metadata": {},
     "output_type": "execute_result"
    }
   ],
   "source": [
    "Y_all"
   ]
  },
  {
   "cell_type": "code",
   "execution_count": 77,
   "metadata": {},
   "outputs": [
    {
     "name": "stdout",
     "output_type": "stream",
     "text": [
      "Rule: Detect New Local Admin account, Model: RandomForestRegressor\n",
      "R2 Score: -0.7574821451199976\n",
      "Rule: Windows Event For Service Disabled, Model: RandomForestRegressor\n",
      "R2 Score: -1.0868919048889332\n",
      "Rule: Known Services Killed by Ransomware, Model: RandomForestRegressor\n",
      "R2 Score: -0.5820954080529104\n",
      "Rule: Kerberoasting spn request with RC4 encryption, Model: RandomForestRegressor\n",
      "R2 Score: -0.7768580218777741\n",
      "Rule: Clop Ransomware Known Service Name, Model: RandomForestRegressor\n",
      "R2 Score: -0.1900981917650746\n",
      "Rule: Non Chrome Process Accessing Chrome Default Dir, Model: RandomForestRegressor\n",
      "R2 Score: -0.8860488005980078\n",
      "Rule: ESCU Network Share Discovery Via Dir Command Rule, Model: RandomForestRegressor\n",
      "R2 Score: -0.8521552019999199\n",
      "Rule: Windows AD Replication Request Initiated from Unsanctioned Location, Model: RandomForestRegressor\n",
      "R2 Score: -0.13602894401525156\n",
      "Rule: ESCU Windows Rapid Authentication On Multiple Hosts Rule, Model: RandomForestRegressor\n",
      "R2 Score: -0.1986933255041312\n",
      "All Model: RandomForestRegressor\n",
      "R2 Score: -0.3767679495985974\n"
     ]
    }
   ],
   "source": [
    "# predict the cpu usage of fake df\n",
    "X_distribution_fake = fake_df.iloc[:,fake_df.columns.str.contains(\"wineventlog\")]\n",
    "X_distribution_fake = X_distribution_fake.fillna(0)  # Fill NaN values with 0\n",
    "X_distribution_fake = X_distribution_fake.apply(lambda x: (x - dist_min) / (dist_max - dist_min), axis=0)  # Normalize each column\n",
    "X_distribution_fake = X_distribution_fake.fillna(0)  # Fill NaN values with 0\n",
    "X_alerts_fake = fake_df.iloc[:, fake_df.columns.str.contains(\"alert\")]\n",
    "\n",
    "for rule in section_logtypes:\n",
    "    for logtype, eventid in section_logtypes[rule]:\n",
    "\n",
    "        X_alerts_fake_rule = X_alerts_fake.iloc[:, X_alerts_fake.columns.str.contains(rule)]\n",
    "        \n",
    "        # normalize the alert values\n",
    "        X_alerts_fake_rule = X_alerts_fake_rule.fillna(0)  # Fill NaN values with 0\n",
    "        X_alerts_fake_rule = X_alerts_fake_rule.apply(lambda x: (x - x.min()) / (x.max() - x.min()), axis=0)  # Normalize each column\n",
    "        X_alerts_fake_rule = X_alerts_fake_rule.fillna(0)  # Fill NaN values with 0\n",
    "        \n",
    "        # X = X_distribution\n",
    "        X_fake = pd.concat([X_distribution_fake, X_alerts_fake_rule], axis=1)\n",
    "        Y = fake_df.loc[:, fake_df.columns.str.contains(\"cpu\")]\n",
    "        Y = Y.loc[:, Y.columns.str.contains(rule)].sum(axis=1)\n",
    "        # Y = X_alerts.sum(axis=1)\n",
    "\n",
    "        # normalize the cpu values\n",
    "        # Y = (Y - Y.min()) / (Y.max() - Y.min())  # Normalize the target variable\n",
    "\n",
    "        model = models.get(f\"{rule}_RandomForestRegressor\")\n",
    "        if model:\n",
    "            y_pred_fake = model.predict(X_fake)\n",
    "            # clip negative values\n",
    "            # y_pred_fake = np.clip(y_pred_fake, 0, None)\n",
    "            # round the values\n",
    "            # y_pred_fake = np.round(y_pred_fake)\n",
    "            print(f\"Rule: {rule}, Model: RandomForestRegressor\")\n",
    "            # evaluate the prediction\n",
    "            print(f\"R2 Score: {model.score(X_fake, Y)}\")\n",
    "            \n",
    "X_fake_all = pd.concat([X_distribution_fake, X_alerts_fake], axis=1)\n",
    "model_all = models.get(f\"All_RandomForestRegressor\")\n",
    "if model_all:\n",
    "    y_pred_fake_all = model_all.predict(X_fake_all)\n",
    "    # clip negative values\n",
    "    # y_pred_fake_all = np.clip(y_pred_fake_all, 0, None)\n",
    "    # round the values\n",
    "    # y_pred_fake_all = np.round(y_pred_fake_all)\n",
    "    Y_all = fake_df.loc[:, fake_df.columns.str.contains(\"cpu\")]\n",
    "    Y_all = Y_all.sum(axis=1)\n",
    "    print(f\"All Model: RandomForestRegressor\")\n",
    "    print(f\"R2 Score: {model_all.score(X_fake_all, Y_all)}\")\n",
    "    "
   ]
  },
  {
   "cell_type": "code",
   "execution_count": null,
   "metadata": {},
   "outputs": [],
   "source": []
  }
 ],
 "metadata": {
  "kernelspec": {
   "display_name": "py310_modelenv",
   "language": "python",
   "name": "python3"
  },
  "language_info": {
   "codemirror_mode": {
    "name": "ipython",
    "version": 3
   },
   "file_extension": ".py",
   "mimetype": "text/x-python",
   "name": "python",
   "nbconvert_exporter": "python",
   "pygments_lexer": "ipython3",
   "version": "3.8.5"
  }
 },
 "nbformat": 4,
 "nbformat_minor": 2
}
