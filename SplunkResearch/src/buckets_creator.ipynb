{
 "cells": [
  {
   "cell_type": "code",
   "execution_count": 2,
   "metadata": {},
   "outputs": [
    {
     "name": "stdout",
     "output_type": "stream",
     "text": [
      "Saved bucket_2024-04-26_13-00-05_2024-04-26_23-59-59.csv\n",
      "Saved bucket_2024-04-27_00-00-00_2024-04-27_23-59-59.csv\n",
      "Saved bucket_2024-04-28_00-00-00_2024-04-28_23-59-58.csv\n",
      "Saved bucket_2024-04-29_00-00-00_2024-04-29_23-59-45.csv\n",
      "Saved bucket_2024-04-30_00-00-00_2024-04-30_23-59-54.csv\n",
      "Saved bucket_2024-05-01_00-00-00_2024-05-01_23-59-34.csv\n",
      "Saved bucket_2024-05-02_00-00-00_2024-05-02_23-59-59.csv\n",
      "Saved bucket_2024-05-03_00-00-00_2024-05-03_23-59-45.csv\n",
      "Saved bucket_2024-05-04_00-00-00_2024-05-04_23-59-52.csv\n",
      "Saved bucket_2024-05-05_00-00-00_2024-05-05_23-59-57.csv\n",
      "Saved bucket_2024-05-06_00-00-00_2024-05-06_23-59-58.csv\n",
      "Saved bucket_2024-05-07_00-00-00_2024-05-07_23-59-58.csv\n",
      "Saved bucket_2024-05-08_00-00-00_2024-05-08_23-59-59.csv\n",
      "Saved bucket_2024-05-09_00-00-00_2024-05-09_23-59-55.csv\n",
      "Saved bucket_2024-05-10_00-00-00_2024-05-10_23-59-58.csv\n",
      "Saved bucket_2024-05-11_00-00-00_2024-05-11_23-59-55.csv\n",
      "Saved bucket_2024-05-12_00-00-00_2024-05-12_23-59-55.csv\n",
      "Saved bucket_2024-05-13_00-00-01_2024-05-13_23-59-55.csv\n",
      "Saved bucket_2024-05-14_00-00-00_2024-05-14_23-59-53.csv\n",
      "Saved bucket_2024-05-15_00-00-03_2024-05-15_23-59-54.csv\n",
      "Saved bucket_2024-05-16_00-00-00_2024-05-16_23-59-59.csv\n",
      "Saved bucket_2024-05-17_00-00-00_2024-05-17_23-59-57.csv\n",
      "Saved bucket_2024-05-18_00-00-00_2024-05-18_23-59-59.csv\n",
      "Saved bucket_2024-05-19_00-00-01_2024-05-19_23-59-59.csv\n",
      "Saved bucket_2024-05-20_00-00-00_2024-05-20_23-59-50.csv\n",
      "Saved bucket_2024-05-21_00-00-02_2024-05-21_23-59-58.csv\n",
      "Saved bucket_2024-05-22_00-00-00_2024-05-22_23-59-40.csv\n",
      "Saved bucket_2024-05-23_00-00-10_2024-05-23_23-59-40.csv\n",
      "Saved bucket_2024-05-24_00-00-00_2024-05-24_23-59-54.csv\n",
      "Saved bucket_2024-05-25_00-00-09_2024-05-25_23-59-58.csv\n",
      "Saved bucket_2024-05-26_00-00-06_2024-05-26_12-59-56.csv\n"
     ]
    }
   ],
   "source": [
    "import pandas as pd\n",
    "from datetime import datetime, timedelta\n",
    "\n",
    "# Load the CSV data into a DataFrame\n",
    "csv_file = '/home/shouei/GreenSecurity-FirstExperiment/SplunkResearch/resources/real_log_distribution.csv'\n",
    "\n",
    "df = pd.read_csv(csv_file)\n",
    "\n",
    "# Convert the '_time' column to datetime\n",
    "df['_time'] = pd.to_datetime(df['_time'])\n",
    "\n",
    "# Define the bucket interval (e.g., weekly)\n",
    "def get_bucket_start_date(date):\n",
    "    # This function returns the start of the week for a given date\n",
    "    return date.floor('D')\n",
    "\n",
    "df['bucket_start_date'] = df['_time'].apply(lambda x: get_bucket_start_date(x))\n",
    "\n",
    "# Group by the bucket start date\n",
    "groups = df.groupby('bucket_start_date')\n",
    "\n",
    "# Save each group to a separate CSV file\n",
    "for bucket_start_date, group in groups:\n",
    "    start_time = group['_time'].min().strftime('%Y-%m-%d_%H-%M-%S')\n",
    "    end_time = group['_time'].max().strftime('%Y-%m-%d_%H-%M-%S')\n",
    "    bucket_name = f'bucket_{start_time}_{end_time}.csv'\n",
    "    group.drop(columns=['bucket_start_date'], inplace=True)  # Drop the temporary 'bucket_start_date' column\n",
    "    group.to_csv(f\"/home/shouei/GreenSecurity-FirstExperiment/SplunkResearch/resources/output_buckets/{bucket_name}\", index=False)\n",
    "    print(f'Saved {bucket_name}')\n"
   ]
  },
  {
   "cell_type": "code",
   "execution_count": 6,
   "metadata": {},
   "outputs": [
    {
     "data": {
      "text/plain": [
       "<DatetimeArray>\n",
       "['2024-05-19 00:00:00+03:00', '2024-05-20 00:00:00+03:00',\n",
       " '2024-05-21 00:00:00+03:00', '2024-05-22 00:00:00+03:00',\n",
       " '2024-05-23 00:00:00+03:00', '2024-05-24 00:00:00+03:00',\n",
       " '2024-05-25 00:00:00+03:00']\n",
       "Length: 7, dtype: datetime64[ns, UTC+03:00]"
      ]
     },
     "execution_count": 6,
     "metadata": {},
     "output_type": "execute_result"
    }
   ],
   "source": [
    "df['_time'].dt.floor('D').unique()"
   ]
  }
 ],
 "metadata": {
  "kernelspec": {
   "display_name": "py38",
   "language": "python",
   "name": "python3"
  },
  "language_info": {
   "codemirror_mode": {
    "name": "ipython",
    "version": 3
   },
   "file_extension": ".py",
   "mimetype": "text/x-python",
   "name": "python",
   "nbconvert_exporter": "python",
   "pygments_lexer": "ipython3",
   "version": "3.8.5"
  }
 },
 "nbformat": 4,
 "nbformat_minor": 2
}
