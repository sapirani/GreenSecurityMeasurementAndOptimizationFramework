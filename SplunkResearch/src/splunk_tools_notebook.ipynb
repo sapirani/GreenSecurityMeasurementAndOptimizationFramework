{
 "cells": [
  {
   "cell_type": "code",
   "execution_count": null,
   "metadata": {},
   "outputs": [
    {
     "name": "stderr",
     "output_type": "stream",
     "text": [
      "/home/shouei/anaconda3/envs/py38/lib/python3.8/site-packages/urllib3/connectionpool.py:1061: InsecureRequestWarning: Unverified HTTPS request is being made to host 'localhost'. Adding certificate verification is strongly advised. See: https://urllib3.readthedocs.io/en/1.26.x/advanced-usage.html#ssl-warnings\n",
      "  warnings.warn(\n"
     ]
    }
   ],
   "source": [
    "from splunk_tools import SplunkTools\n",
    "import asyncio\n",
    "savedsearches = [\"Windows Event For Service Disabled\",\n",
    "                 \"Detect New Local Admin account\",\n",
    "                 \"ESCU Network Share Discovery Via Dir Command Rule\",\n",
    "                 \"Known Services Killed by Ransomware\",\n",
    "                 \"Non Chrome Process Accessing Chrome Default Dir\",\n",
    "                 \"Kerberoasting spn request with RC4 encryption\",\n",
    "                 \"Clop Ransomware Known Service Name\",\n",
    "                 \"WinEvent Scheduled Task Created Within Public Path\"]\n",
    "\n",
    "splunk = SplunkTools(savedsearches, 1)\n",
    "\n",
    "logtypes_list = [('wineventlog:security', '4698')]\n",
    "# logtypes_list = [('wineventlog:system', '1'), ('wineventlog:system', '16'), ('wineventlog:system', '1085'), ('wineventlog:security', '5061'), ('wineventlog:system', '7000'), ('wineventlog:system', '566'), ('wineventlog:system', '107'), ('wineventlog:system', '55'), ('wineventlog:security', '4663'), ('wineventlog:system', '7038'), ('wineventlog:system', '24'), ('wineventlog:security', '4625'), ('wineventlog:system', '7031'), ('wineventlog:security', '4662'), ('wineventlog:system', '7040'), ('wineventlog:security', '4672'), ('wineventlog:system', '1112'), ('wineventlog:system', '8015'), ('wineventlog:system', '101'), ('wineventlog:security', '4702'), ('wineventlog:system', '44'), ('wineventlog:security', '4735'), ('wineventlog:system', '37'), ('wineventlog:security', '4697'), ('wineventlog:security', '5059'), ('wineventlog:system', '1500'), ('wineventlog:system', '7036'), ('wineventlog:system', '1501'), ('wineventlog:system', '131'), ('wineventlog:system', '187'), ('wineventlog:security', '4732'), ('wineventlog:system', '103'), ('wineventlog:system', '32'), ('wineventlog:system', '35'), ('wineventlog:security', '4799'), ('wineventlog:security', '5058'), ('wineventlog:security', '4648'), ('wineventlog:security', '5379'), ('wineventlog:security', '4634'), ('wineventlog:system', '7'), ('wineventlog:system', '129'), ('wineventlog:security', '5038'), ('wineventlog:security', '4907'), ('wineventlog:security', '4624'), ('wineventlog:system', '27'), ('wineventlog:system', '10016'), ('wineventlog:system', '7045'), ('wineventlog:system', '6'), ('wineventlog:system', '108'), ('wineventlog:security', '4698'), ('wineventlog:security', '5140'), ('wineventlog:system', '12'), ('wineventlog:security', '4627'), ('wineventlog:system', '6013'), ('wineventlog:security', '4769')]\n",
    "# find one sample of each logtype in splunk in all time and save as raw\n",
    "async def find(logtype, eventcode):\n",
    "    query = f\"index=main source={logtype} EventCode={eventcode} | head 1\"\n",
    "    return await splunk.execute_query(f\"find_one_{logtype}_{eventcode}\", query, 0, \"now\")\n",
    "    \n",
    "results = await asyncio.gather(*[find(logtype, eventcode) for logtype, eventcode in logtypes_list])"
   ]
  },
  {
   "cell_type": "code",
   "execution_count": 2,
   "metadata": {},
   "outputs": [
    {
     "data": {
      "text/plain": [
       "{('WinEventLog:Security',\n",
       "  '4698'): '06/23/2025 11:09:03 AM\\nLogName=Security\\nEventCode=4698\\nEventType=0\\nComputerName=LB-003-25.auth.ad.bgu.ac.il\\nSourceName=Microsoft Windows security auditing.\\nType=Information\\nRecordNumber=3253237\\nKeywords=Audit Success\\nTaskCategory=Other Object Access Events\\nOpCode=Info\\nMessage=A scheduled task was created.\\r\\n\\r\\nSubject:\\r\\n\\tSecurity ID:\\t\\tNT AUTHORITY\\\\SYSTEM\\r\\n\\tAccount Name:\\t\\tLB-003-25$\\r\\n\\tAccount Domain:\\t\\tBGU-USERS\\r\\n\\tLogon ID:\\t\\t0x3E7\\r\\n\\r\\nTask Information:\\r\\n\\tTask Name: \\t\\t\\\\copy user data\\r\\n\\tTask Content: \\t\\t<?xml version=\"1.0\" encoding=\"UTF-16\"?>\\r\\n<Task version=\"1.2\" xmlns=\"http://schemas.microsoft.com/windows/2004/02/mit/task\">\\r\\n  <RegistrationInfo>\\r\\n    <Author>BGU-USERS\\\\ilyadr</Author>\\r\\n    <URI>\\\\copy user data</URI>\\r\\n  </RegistrationInfo>\\r\\n  <Triggers>\\r\\n    <TimeTrigger>\\r\\n      <StartBoundary>2025-06-23T11:09:08</StartBoundary>\\r\\n      <EndBoundary>2025-06-23T11:10:03</EndBoundary>\\r\\n      <Enabled>true</Enabled>\\r\\n    </TimeTrigger>\\r\\n  </Triggers>\\r\\n  <Principals>\\r\\n    <Principal id=\"Author\">\\r\\n      <RunLevel>LeastPrivilege</RunLevel>\\r\\n      <UserId>NT AUTHORITY\\\\System</UserId>\\r\\n      <LogonType>S4U</LogonType>\\r\\n    </Principal>\\r\\n  </Principals>\\r\\n  <Settings>\\r\\n    <MultipleInstancesPolicy>IgnoreNew</MultipleInstancesPolicy>\\r\\n    <DisallowStartIfOnBatteries>false</DisallowStartIfOnBatteries>\\r\\n    <StopIfGoingOnBatteries>false</StopIfGoingOnBatteries>\\r\\n    <AllowHardTerminate>true</AllowHardTerminate>\\r\\n    <StartWhenAvailable>true</StartWhenAvailable>\\r\\n    <RunOnlyIfNetworkAvailable>false</RunOnlyIfNetworkAvailable>\\r\\n    <IdleSettings>\\r\\n      <Duration>PT5M</Duration>\\r\\n      <WaitTimeout>PT1H</WaitTimeout>\\r\\n      <StopOnIdleEnd>false</StopOnIdleEnd>\\r\\n      <RestartOnIdle>false</RestartOnIdle>\\r\\n    </IdleSettings>\\r\\n    <AllowStartOnDemand>true</AllowStartOnDemand>\\r\\n    <Enabled>true</Enabled>\\r\\n    <Hidden>false</Hidden>\\r\\n    <RunOnlyIfIdle>false</RunOnlyIfIdle>\\r\\n    <WakeToRun>false</WakeToRun>\\r\\n    <ExecutionTimeLimit>P3D</ExecutionTimeLimit>\\r\\n    <DeleteExpiredTaskAfter>PT0S</DeleteExpiredTaskAfter>\\r\\n    <Priority>7</Priority>\\r\\n  </Settings>\\r\\n  <Actions Context=\"Author\">\\r\\n    <Exec>\\r\\n      <Command>powershell.exe</Command>\\r\\n      <Arguments>-ExecutionPolicy Bypass -command \"\\\\\\\\ise-deploy\\\\REMINST\\\\ISE-LAB\\\\copy-data.ps1\"</Arguments>\\r\\n    </Exec>\\r\\n  </Actions>\\r\\n</Task>\\r\\n\\r\\nOther Information:\\r\\n\\tProcessCreationTime: \\t\\t33214047251934166\\r\\n\\tClientProcessId: \\t\\t\\t10548\\r\\n\\tParentProcessId: \\t\\t\\t1008\\r\\n\\tFQDN: \\t\\t0'}"
      ]
     },
     "execution_count": 2,
     "metadata": {},
     "output_type": "execute_result"
    }
   ],
   "source": [
    "log_samples = {}\n",
    "for metric, result in results:\n",
    "    result = result[0]\n",
    "    source = result['source'] \n",
    "    eventcode = result['EventCode']\n",
    "    raw = result['_raw']\n",
    "    log_samples[(source, eventcode)] = raw\n",
    "\n",
    "log_samples   "
   ]
  },
  {
   "cell_type": "code",
   "execution_count": 1,
   "metadata": {},
   "outputs": [],
   "source": [
    "from datetime import datetime\n",
    "import re\n",
    "from env_utils import clean_env\n",
    "# validate raw logs by send them to splunk and search for them\n",
    "async def validate(source, eventcode, raw):\n",
    "    for i, log in enumerate(raw):\n",
    "        # change date using regex\n",
    "        log = re.sub(r'^\\d{2}/\\d{2}/\\d{4} \\d{2}:\\d{2}:\\d{2} [APM]{2}', datetime.now().strftime(\"%m/%d/%Y %I:%M:%S %p\"), log)\n",
    "        raw[i] = log\n",
    "    # send raw to splunk\n",
    "    print(f\"Time {datetime.now().strftime('%m/%d/%Y %I:%M:%S %p')} - Writing {len(raw)} logs to splunk for validation: {source} {eventcode}\")\n",
    "    splunk.write_logs_to_monitor(raw, source.lower())\n",
    "    print(f\"Time {datetime.now().strftime('%m/%d/%Y %I:%M:%S %p')} - finished writing logs to splunk for validation: {source} {eventcode}\")\n",
    "    results = []\n",
    "    while len(results) == 0 or int(results[1][0]['count']) < len(raw):\n",
    "        # wait for splunk to index the logs\n",
    "        await asyncio.sleep(1)       \n",
    "        # search for the raw in splunk\n",
    "        query = f\"index=main source={source} EventCode={eventcode} earliest=-10m host=dt-splunk|stats count\"\n",
    "        print(f\"Time {datetime.now().strftime('%m/%d/%Y %I:%M:%S %p')} - Starting validation query for {source} {eventcode}\")\n",
    "        results = await splunk.execute_query(f\"validate_{source}_{eventcode}\", query, 0, \"now\")\n",
    "        print(f\"Time {datetime.now().strftime('%m/%d/%Y %I:%M:%S %p')} - Finished validation query for {source} {eventcode}\")\n",
    "        print(f\"Time {datetime.now().strftime('%m/%d/%Y %I:%M:%S %p')} - Validating {source} {eventcode} - found {int(results[1][0]['count'])} results\")\n",
    "    return results\n",
    "\n",
    "async def validate_deletion(source, eventcode):\n",
    "    # delete the logs from splunk\n",
    "    print(f\"Time {datetime.now().strftime('%m/%d/%Y %I:%M:%S %p')} - Deleting logs from splunk for validation: {source} {eventcode}\")\n",
    "    clean_env(splunk, time_range=\"2m\")\n",
    "    print(f\"Time {datetime.now().strftime('%m/%d/%Y %I:%M:%S %p')} - Finished deleting logs from splunk for validation: {source} {eventcode}\")\n",
    "    results = []\n",
    "    while len(results) == 0 or int(results[1][0]['count']) > 0:\n",
    "        # wait for splunk to delete the logs\n",
    "        await asyncio.sleep(1)\n",
    "        # search for the raw in splunk\n",
    "        query = f\"index=main source={source} EventCode={eventcode} earliest=-10m host=dt-splunk|stats count\"\n",
    "        print(f\"Time {datetime.now().strftime('%m/%d/%Y %I:%M:%S %p')} - Starting validation deletion query for {source} {eventcode}\")\n",
    "        results = await splunk.execute_query(f\"validate_deletion_{source}_{eventcode}\", query, 0, \"now\")\n",
    "        print(results)\n",
    "        print(f\"Time {datetime.now().strftime('%m/%d/%Y %I:M:%S %p')} - Finished validation deletion query for {source} {eventcode}\")\n",
    "        print(f\"Time {datetime.now().strftime('%m/%d/%Y %I:M:%S %p')} - Validating deletion of {source} {eventcode} - found {int(results[1][0]['count'])} results\")\n",
    "    return results\n",
    "    \n"
   ]
  },
  {
   "cell_type": "code",
   "execution_count": null,
   "metadata": {},
   "outputs": [],
   "source": [
    "results = await asyncio.gather(*[validate(source, eventcode, [raw]) for (source, eventcode), raw in log_samples.items()])\n"
   ]
  },
  {
   "cell_type": "code",
   "execution_count": 4,
   "metadata": {},
   "outputs": [
    {
     "data": {
      "text/plain": [
       "[(QueryMetrics(search_name='validate_WinEventLog:Security_4698', results_count=1, execution_time=2.049, cpu=1.9, io_metrics={'read_count': 0, 'write_count': 0, 'read_bytes': 0, 'write_bytes': 0}, start_time=0.0, end_time=0.0),\n",
       "  [{'EventCode': '4698',\n",
       "    'Message': 'A scheduled task was created.\\r\\n\\r\\nSubject:\\r\\n\\tSecurity ID:\\t\\tNT AUTHORITY\\\\SYSTEM\\r\\n\\tAccount Name:\\t\\tLB-003-25$\\r\\n\\tAccount Domain:\\t\\tBGU-USERS\\r\\n\\tLogon ID:\\t\\t0x3E7\\r\\n\\r\\nTask Information:\\r\\n\\tTask Name: \\t\\t\\\\copy user data\\r\\n\\tTask Content: \\t\\t<?xml version=\"1.0\" encoding=\"UTF-16\"?>\\r\\n<Task version=\"1.2\" xmlns=\"http://schemas.microsoft.com/windows/2004/02/mit/task\">\\r\\n  <RegistrationInfo>\\r\\n    <Author>BGU-USERS\\\\ilyadr</Author>\\r\\n    <URI>\\\\copy user data</URI>\\r\\n  </RegistrationInfo>\\r\\n  <Triggers>\\r\\n    <TimeTrigger>\\r\\n      <StartBoundary>2025-06-23T11:09:08</StartBoundary>\\r\\n      <EndBoundary>2025-06-23T11:10:03</EndBoundary>\\r\\n      <Enabled>true</Enabled>\\r\\n    </TimeTrigger>\\r\\n  </Triggers>\\r\\n  <Principals>\\r\\n    <Principal id=\"Author\">\\r\\n      <RunLevel>LeastPrivilege</RunLevel>\\r\\n      <UserId>NT AUTHORITY\\\\System</UserId>\\r\\n      <LogonType>S4U</LogonType>\\r\\n    </Principal>\\r\\n  </Principals>\\r\\n  <Settings>\\r\\n    <MultipleInstancesPolicy>IgnoreNew</MultipleInstancesPolicy>\\r\\n    <DisallowStartIfOnBatteries>false</DisallowStartIfOnBatteries>\\r\\n    <StopIfGoingOnBatteries>false</StopIfGoingOnBatteries>\\r\\n    <AllowHardTerminate>true</AllowHardTerminate>\\r\\n    <StartWhenAvailable>true</StartWhenAvailable>\\r\\n    <RunOnlyIfNetworkAvailable>false</RunOnlyIfNetworkAvailable>\\r\\n    <IdleSettings>\\r\\n      <Duration>PT5M</Duration>\\r\\n      <WaitTimeout>PT1H</WaitTimeout>\\r\\n      <StopOnIdleEnd>false</StopOnIdleEnd>\\r\\n      <RestartOnIdle>false</RestartOnIdle>\\r\\n    </IdleSettings>\\r\\n    <AllowStartOnDemand>true</AllowStartOnDemand>\\r\\n    <Enabled>true</Enabled>\\r\\n    <Hidden>false</Hidden>\\r\\n    <RunOnlyIfIdle>false</RunOnlyIfIdle>\\r\\n    <WakeToRun>false</WakeToRun>\\r\\n    <ExecutionTimeLimit>P3D</ExecutionTimeLimit>\\r\\n    <DeleteExpiredTaskAfter>PT0S</DeleteExpiredTaskAfter>\\r\\n    <Priority>7</Priority>\\r\\n  </Settings>\\r\\n  <Actions Context=\"Author\">\\r\\n    <Exec>\\r\\n      <Command>powershell.exe</Command>\\r\\n      <Arguments>-ExecutionPolicy Bypass -command \"\\\\\\\\ise-deploy\\\\REMINST\\\\ISE-LAB\\\\copy-data.ps1\"</Arguments>\\r\\n    </Exec>\\r\\n  </Actions>\\r\\n</Task>\\r\\n\\r\\nOther Information:\\r\\n\\tProcessCreationTime: \\t\\t33214047251934166\\r\\n\\tClientProcessId: \\t\\t\\t10548\\r\\n\\tParentProcessId: \\t\\t\\t1008\\r\\n\\tFQDN: \\t\\t0',\n",
       "    '_bkt': 'main~2155~5E9D06A2-F80B-43DF-85C0-53D15F89256C',\n",
       "    '_cd': '2155:3729517',\n",
       "    '_indextime': '1750666508',\n",
       "    '_pre_msg': '06/23/2025 11:15:07 AM\\nLogName=Security\\nEventCode=4698\\nEventType=0\\nComputerName=LB-003-25.auth.ad.bgu.ac.il\\nSourceName=Microsoft Windows security auditing.\\nType=Information\\nRecordNumber=3253237\\nKeywords=Audit Success\\nTaskCategory=Other Object Access Events\\nOpCode=Info',\n",
       "    '_raw': '06/23/2025 11:15:07 AM\\nLogName=Security\\nEventCode=4698\\nEventType=0\\nComputerName=LB-003-25.auth.ad.bgu.ac.il\\nSourceName=Microsoft Windows security auditing.\\nType=Information\\nRecordNumber=3253237\\nKeywords=Audit Success\\nTaskCategory=Other Object Access Events\\nOpCode=Info\\nMessage=A scheduled task was created.\\r\\n\\r\\nSubject:\\r\\n\\tSecurity ID:\\t\\tNT AUTHORITY\\\\SYSTEM\\r\\n\\tAccount Name:\\t\\tLB-003-25$\\r\\n\\tAccount Domain:\\t\\tBGU-USERS\\r\\n\\tLogon ID:\\t\\t0x3E7\\r\\n\\r\\nTask Information:\\r\\n\\tTask Name: \\t\\t\\\\copy user data\\r\\n\\tTask Content: \\t\\t<?xml version=\"1.0\" encoding=\"UTF-16\"?>\\r\\n<Task version=\"1.2\" xmlns=\"http://schemas.microsoft.com/windows/2004/02/mit/task\">\\r\\n  <RegistrationInfo>\\r\\n    <Author>BGU-USERS\\\\ilyadr</Author>\\r\\n    <URI>\\\\copy user data</URI>\\r\\n  </RegistrationInfo>\\r\\n  <Triggers>\\r\\n    <TimeTrigger>\\r\\n      <StartBoundary>2025-06-23T11:09:08</StartBoundary>\\r\\n      <EndBoundary>2025-06-23T11:10:03</EndBoundary>\\r\\n      <Enabled>true</Enabled>\\r\\n    </TimeTrigger>\\r\\n  </Triggers>\\r\\n  <Principals>\\r\\n    <Principal id=\"Author\">\\r\\n      <RunLevel>LeastPrivilege</RunLevel>\\r\\n      <UserId>NT AUTHORITY\\\\System</UserId>\\r\\n      <LogonType>S4U</LogonType>\\r\\n    </Principal>\\r\\n  </Principals>\\r\\n  <Settings>\\r\\n    <MultipleInstancesPolicy>IgnoreNew</MultipleInstancesPolicy>\\r\\n    <DisallowStartIfOnBatteries>false</DisallowStartIfOnBatteries>\\r\\n    <StopIfGoingOnBatteries>false</StopIfGoingOnBatteries>\\r\\n    <AllowHardTerminate>true</AllowHardTerminate>\\r\\n    <StartWhenAvailable>true</StartWhenAvailable>\\r\\n    <RunOnlyIfNetworkAvailable>false</RunOnlyIfNetworkAvailable>\\r\\n    <IdleSettings>\\r\\n      <Duration>PT5M</Duration>\\r\\n      <WaitTimeout>PT1H</WaitTimeout>\\r\\n      <StopOnIdleEnd>false</StopOnIdleEnd>\\r\\n      <RestartOnIdle>false</RestartOnIdle>\\r\\n    </IdleSettings>\\r\\n    <AllowStartOnDemand>true</AllowStartOnDemand>\\r\\n    <Enabled>true</Enabled>\\r\\n    <Hidden>false</Hidden>\\r\\n    <RunOnlyIfIdle>false</RunOnlyIfIdle>\\r\\n    <WakeToRun>false</WakeToRun>\\r\\n    <ExecutionTimeLimit>P3D</ExecutionTimeLimit>\\r\\n    <DeleteExpiredTaskAfter>PT0S</DeleteExpiredTaskAfter>\\r\\n    <Priority>7</Priority>\\r\\n  </Settings>\\r\\n  <Actions Context=\"Author\">\\r\\n    <Exec>\\r\\n      <Command>powershell.exe</Command>\\r\\n      <Arguments>-ExecutionPolicy Bypass -command \"\\\\\\\\ise-deploy\\\\REMINST\\\\ISE-LAB\\\\copy-data.ps1\"</Arguments>\\r\\n    </Exec>\\r\\n  </Actions>\\r\\n</Task>\\r\\n\\r\\nOther Information:\\r\\n\\tProcessCreationTime: \\t\\t33214047251934166\\r\\n\\tClientProcessId: \\t\\t\\t10548\\r\\n\\tParentProcessId: \\t\\t\\t1008\\r\\n\\tFQDN: \\t\\t0\\n\\n',\n",
       "    '_serial': '0',\n",
       "    '_si': ['dt-splunk', 'main'],\n",
       "    '_sourcetype': 'WinEventLog',\n",
       "    '_time': '2025-06-23T11:15:07.000+03:00',\n",
       "    'host': 'dt-splunk',\n",
       "    'index': 'main',\n",
       "    'linecount': '78',\n",
       "    'source': 'WinEventLog:Security',\n",
       "    'sourcetype': 'WinEventLog',\n",
       "    'splunk_server': 'dt-splunk'}])]"
      ]
     },
     "execution_count": 4,
     "metadata": {},
     "output_type": "execute_result"
    }
   ],
   "source": [
    "results"
   ]
  },
  {
   "cell_type": "code",
   "execution_count": 7,
   "metadata": {},
   "outputs": [],
   "source": [
    "import os\n",
    "path=r\"/home/shouei/GreenSecurity-FirstExperiment/SplunkResearch/logs_resource/\"\n",
    "for logtype, eventcode in log_samples:\n",
    "    file_name = f\"{logtype.lower()}_{eventcode}_notrigger.txt\"\n",
    "    if not os.path.exists(file_name):\n",
    "        with open(path+file_name, \"w\") as f:\n",
    "            f.write(log_samples[(logtype, eventcode)])\n",
    "    "
   ]
  },
  {
   "cell_type": "code",
   "execution_count": 3,
   "metadata": {},
   "outputs": [
    {
     "name": "stdout",
     "output_type": "stream",
     "text": [
      "Time 08/08/2025 03:06:37 PM - Writing 5000 logs to splunk for validation: wineventlog:security 4624\n",
      "Time 08/08/2025 03:06:37 PM - finished writing logs to splunk for validation: wineventlog:security 4624\n",
      "Time 08/08/2025 03:06:38 PM - Starting validation query for wineventlog:security 4624\n"
     ]
    },
    {
     "name": "stdout",
     "output_type": "stream",
     "text": [
      "\n",
      "Time 08/08/2025 03:06:42 PM - Finished validation query for wineventlog:security 4624\n",
      "Time 08/08/2025 03:06:42 PM - Validating wineventlog:security 4624 - found 5000 results\n",
      "Ingestion time for wineventlog:security with event code 4624 and volume 5000: 4.72 seconds\n"
     ]
    }
   ],
   "source": [
    "# check ingestion and deletion latency\n",
    "from splunk_tools import SplunkTools\n",
    "savedsearches = [\"Windows Event For Service Disabled\",\n",
    "                 \"Detect New Local Admin account\",\n",
    "                 \"ESCU Network Share Discovery Via Dir Command Rule\",\n",
    "                 \"Known Services Killed by Ransomware\",\n",
    "                 \"Non Chrome Process Accessing Chrome Default Dir\",\n",
    "                 \"Kerberoasting spn request with RC4 encryption\",\n",
    "                 \"Clop Ransomware Known Service Name\",\n",
    "                 \"WinEvent Scheduled Task Created Within Public Path\"]\n",
    "\n",
    "splunk = SplunkTools(savedsearches, 1)\n",
    "import os\n",
    "import time\n",
    "import asyncio\n",
    "resource_path=r\"/home/shouei/GreenSecurity-FirstExperiment/SplunkResearch/logs_resource/\"\n",
    "log_types = [('wineventlog:security', '4624')]\n",
    "volumes = [5000]\n",
    "for log_type, event_code in log_types:\n",
    "    for volume in volumes:\n",
    "        # ingest logs\n",
    "        log_file = f\"{resource_path}{log_type.lower()}_{event_code}_notrigger.txt\"\n",
    "        if os.path.exists(log_file):\n",
    "            with open(log_file, \"r\") as f:\n",
    "                text = f.read()\n",
    "                log = text.split('\\n[EOF]\\n')\n",
    "        logs = [log[0] for _ in range(volume)]\n",
    "        # timer\n",
    "        start_time = time.time()\n",
    "        results = await asyncio.gather(validate(log_type, event_code, logs))\n",
    "        end_time = time.time()\n",
    "        ingestion_time = end_time - start_time\n",
    "        print(f\"Ingestion time for {log_type} with event code {event_code} and volume {volume}: {ingestion_time:.2f} seconds\")\n",
    "        # start_time = time.time()\n",
    "        # results = await asyncio.gather(validate_deletion(log_type, event_code))\n",
    "        # end_time = time.time()\n",
    "        # deletion_time = end_time - start_time\n",
    "        # print(f\"Deletion time for {log_type} with event code {event_code}: {deletion_time:.2f} seconds\")"
   ]
  },
  {
   "cell_type": "code",
   "execution_count": null,
   "metadata": {},
   "outputs": [],
   "source": []
  }
 ],
 "metadata": {
  "kernelspec": {
   "display_name": "py38",
   "language": "python",
   "name": "python3"
  },
  "language_info": {
   "codemirror_mode": {
    "name": "ipython",
    "version": 3
   },
   "file_extension": ".py",
   "mimetype": "text/x-python",
   "name": "python",
   "nbconvert_exporter": "python",
   "pygments_lexer": "ipython3",
   "version": "3.8.5"
  }
 },
 "nbformat": 4,
 "nbformat_minor": 2
}
