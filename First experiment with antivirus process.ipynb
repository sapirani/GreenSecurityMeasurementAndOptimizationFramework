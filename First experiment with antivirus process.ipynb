{
 "cells": [
  {
   "cell_type": "markdown",
   "id": "va6T5xaCJD39",
   "metadata": {
    "id": "va6T5xaCJD39"
   },
   "source": [
    "First, Lets download some packages:"
   ]
  },
  {
   "cell_type": "code",
   "execution_count": 1,
   "id": "3dded2b2",
   "metadata": {
    "colab": {
     "base_uri": "https://localhost:8080/"
    },
    "id": "3dded2b2",
    "outputId": "ff49b7cd-267c-4fa0-b8f0-391205d09347"
   },
   "outputs": [
    {
     "name": "stdout",
     "output_type": "stream",
     "text": [
      "Requirement already satisfied: prettytable in c:\\users\\administrator\\appdata\\local\\programs\\python\\python310\\lib\\site-packages (3.4.1)\n",
      "Requirement already satisfied: wcwidth in c:\\users\\administrator\\appdata\\local\\programs\\python\\python310\\lib\\site-packages (from prettytable) (0.2.5)\n",
      "Requirement already satisfied: matplotlib in c:\\users\\administrator\\appdata\\local\\programs\\python\\python310\\lib\\site-packages (3.6.1)\n",
      "Requirement already satisfied: pyparsing>=2.2.1 in c:\\users\\administrator\\appdata\\local\\programs\\python\\python310\\lib\\site-packages (from matplotlib) (3.0.9)\n",
      "Requirement already satisfied: contourpy>=1.0.1 in c:\\users\\administrator\\appdata\\local\\programs\\python\\python310\\lib\\site-packages (from matplotlib) (1.0.5)\n",
      "Requirement already satisfied: packaging>=20.0 in c:\\users\\administrator\\appdata\\local\\programs\\python\\python310\\lib\\site-packages (from matplotlib) (21.3)\n",
      "Requirement already satisfied: fonttools>=4.22.0 in c:\\users\\administrator\\appdata\\local\\programs\\python\\python310\\lib\\site-packages (from matplotlib) (4.37.4)\n",
      "Requirement already satisfied: kiwisolver>=1.0.1 in c:\\users\\administrator\\appdata\\local\\programs\\python\\python310\\lib\\site-packages (from matplotlib) (1.4.4)\n",
      "Requirement already satisfied: cycler>=0.10 in c:\\users\\administrator\\appdata\\local\\programs\\python\\python310\\lib\\site-packages (from matplotlib) (0.11.0)\n",
      "Requirement already satisfied: python-dateutil>=2.7 in c:\\users\\administrator\\appdata\\local\\programs\\python\\python310\\lib\\site-packages (from matplotlib) (2.8.2)\n",
      "Requirement already satisfied: numpy>=1.19 in c:\\users\\administrator\\appdata\\local\\programs\\python\\python310\\lib\\site-packages (from matplotlib) (1.23.4)\n",
      "Requirement already satisfied: pillow>=6.2.0 in c:\\users\\administrator\\appdata\\local\\programs\\python\\python310\\lib\\site-packages (from matplotlib) (9.2.0)\n",
      "Requirement already satisfied: six>=1.5 in c:\\users\\administrator\\appdata\\local\\programs\\python\\python310\\lib\\site-packages (from python-dateutil>=2.7->matplotlib) (1.16.0)\n"
     ]
    }
   ],
   "source": [
    "!pip install prettytable\n",
    "#!pip install wmi\n",
    "!pip install matplotlib"
   ]
  },
  {
   "cell_type": "markdown",
   "id": "nr867PygJOcC",
   "metadata": {
    "id": "nr867PygJOcC"
   },
   "source": [
    "Now, Lets import them and some more libraries:"
   ]
  },
  {
   "cell_type": "code",
   "execution_count": 2,
   "id": "vlYPW6MXJadq",
   "metadata": {
    "id": "vlYPW6MXJadq"
   },
   "outputs": [],
   "source": [
    "import psutil\n",
    "import time\n",
    "import numpy as np\n",
    "from subprocess import call\n",
    "from prettytable import PrettyTable\n",
    "from datetime import datetime\n",
    "import matplotlib.pyplot as plt\n",
    "#import wmi"
   ]
  },
  {
   "cell_type": "markdown",
   "id": "9b2f43ce",
   "metadata": {},
   "source": [
    "If we need an anti virus scan:"
   ]
  },
  {
   "cell_type": "code",
   "execution_count": 3,
   "id": "n9u5wY-1hOPX",
   "metadata": {
    "colab": {
     "base_uri": "https://localhost:8080/"
    },
    "id": "n9u5wY-1hOPX",
    "outputId": "e5584574-aaa9-4058-ba25-25ab3a989e69"
   },
   "outputs": [],
   "source": [
    "# check to scan\n",
    "\n",
    "import subprocess\n",
    "\n",
    "# This is our shell command, executed by Popen.\n",
    "\n",
    "def run_antivirus():\n",
    "    completed = subprocess.run([\"powershell\", \"-Command\", \"Start-MpScan -ScanType QuickScan\"], capture_output=True)\n",
    "    if completed.returncode == 0:\n",
    "        isScanDone = True\n",
    "    else:\n",
    "        raise Exception(\"Anti virus scan didn't work\")\n",
    "    return completed\n"
   ]
  },
  {
   "cell_type": "markdown",
   "id": "4f5a8b8f",
   "metadata": {},
   "source": [
    "Some helpful functions:"
   ]
  },
  {
   "cell_type": "code",
   "execution_count": 4,
   "id": "c54791d3",
   "metadata": {},
   "outputs": [],
   "source": [
    "def calc_time_interval():\n",
    "    time = datetime.now() - starting_time\n",
    "    return time.total_seconds()\n",
    "\n",
    "# [ [x1, y1] [x2, y2] [x3,y3]] to [x1 x2 x3] and [y1 y2 y3]\n",
    "def split_to_xy(arr):\n",
    "    x,y = zip(*arr)\n",
    "    return x, y\n",
    "\n",
    "def draw_graph(x, y, y_name):\n",
    "    # plotting the points\n",
    "    plt.plot(x, y)\n",
    "\n",
    "    # naming the x axis\n",
    "    plt.xlabel('Time')\n",
    "    # naming the y axis\n",
    "    plt.ylabel(y_name)\n",
    "\n",
    "    # giving a title to my graph\n",
    "    plt.title('My first graph!')\n",
    "\n",
    "    # function to show the plot\n",
    "    plt.show()\n",
    "\n",
    "    "
   ]
  },
  {
   "cell_type": "code",
   "execution_count": 5,
   "id": "11139d62",
   "metadata": {},
   "outputs": [],
   "source": [
    "need_scan = True\n",
    "isScanDone = not need_scan\n",
    "SCAN_TIME = 30 # 30 minutes\n",
    "starting_time = datetime.now()\n",
    "ANTIVIRUS_PROCESS_NAME = \"MsMpeng\"\n",
    "SYSTEM_IDLE_PROCESS_NAME = \"System Idle Process\""
   ]
  },
  {
   "cell_type": "markdown",
   "id": "xADms4WabjRd",
   "metadata": {
    "id": "xADms4WabjRd"
   },
   "source": [
    "Now, Lets gather some data and display it in tables.\n",
    "Also, enter the sample into a data structure in order to display it as a graph:"
   ]
  },
  {
   "cell_type": "code",
   "execution_count": 6,
   "id": "2a95443a",
   "metadata": {},
   "outputs": [],
   "source": [
    "battery_available_precent = []\n",
    "used_total_memory = []\n",
    "used_memory_by_antivirus = []\n",
    "used_total_cpu = []\n",
    "used_cpu_by_antivirus = []\n",
    "used_total_disk = []\n",
    "used_disk_by_antivirus = []\n",
    "used_total_IO = []\n",
    "used_IO_by_antivirus = []"
   ]
  },
  {
   "cell_type": "markdown",
   "id": "0L37oReWbpuc",
   "metadata": {
    "id": "0L37oReWbpuc"
   },
   "source": [
    "# ***Battery:*** "
   ]
  },
  {
   "cell_type": "code",
   "execution_count": 7,
   "id": "OnVYnpZbcbwk",
   "metadata": {
    "id": "OnVYnpZbcbwk"
   },
   "outputs": [],
   "source": [
    "#c = wmi.WMI()\n",
    "#t = wmi.WMI(moniker = \"//./root/wmi\")\n",
    "\n",
    "# Run an infinite loop to constantly monitor the system\n",
    "def print_battery_stat():\n",
    "    print(\"==============================Process Monitor\\\n",
    "        ======================================\")\n",
    "\n",
    "    # Fetch the battery information\n",
    "    battery = psutil.sensors_battery().percent\n",
    "    print(\"Battery Available: %d \" % (battery,) + \"%\")\n",
    "    battery_available_precent.append([calc_time_interval(), battery])\n",
    "\n",
    "    batts1 = c.CIM_Battery(Caption='Portable Battery')\n",
    "    for i, b in enumerate(batts1):\n",
    "        print('Battery %d Design Capacity: %d mWh' % (i, b.DesignCapacity or 0))\n",
    "\n",
    "    batts = t.ExecQuery('Select * from BatteryFullChargedCapacity')\n",
    "    for i, b in enumerate(batts):\n",
    "        print('Battery %d Fully Charged Capacity: %d mWh' %\n",
    "              (i, b.FullChargedCapacity))\n",
    "\n",
    "    batts = t.ExecQuery('Select * from BatteryStatus where Voltage > 0')\n",
    "    for i, b in enumerate(batts):\n",
    "        print('Voltage:           ' + str(b.Voltage))\n",
    "        print('RemainingCapacity: ' + str(b.RemainingCapacity))\n",
    "\n",
    "        if b.Charging:\n",
    "            raise Exception(\"Unplug charging cable during measurements!\")\n"
   ]
  },
  {
   "cell_type": "markdown",
   "id": "sNffZADKchMs",
   "metadata": {
    "id": "sNffZADKchMs"
   },
   "source": [
    "# ***Network:*** "
   ]
  },
  {
   "cell_type": "code",
   "execution_count": 8,
   "id": "yr0CKVikcnBN",
   "metadata": {
    "id": "yr0CKVikcnBN"
   },
   "outputs": [],
   "source": [
    "def print_network_stat():\n",
    "    print(\"----Networks----\")\n",
    "    table = PrettyTable(['Network', 'Status', 'Speed'])\n",
    "    for key in psutil.net_if_stats().keys():\n",
    "        name = key\n",
    "        up = \"Up\" if psutil.net_if_stats()[key].isup else \"Down\"\n",
    "        speed = psutil.net_if_stats()[key].speed\n",
    "        table.add_row([name, up, speed])\n",
    "    print(table)"
   ]
  },
  {
   "cell_type": "markdown",
   "id": "xXHvQyQScGIp",
   "metadata": {
    "id": "xXHvQyQScGIp"
   },
   "source": [
    "# ***Memory:*** "
   ]
  },
  {
   "cell_type": "code",
   "execution_count": 9,
   "id": "W2J1IU3McsOU",
   "metadata": {
    "id": "W2J1IU3McsOU"
   },
   "outputs": [],
   "source": [
    "def create_total_memory_table():\n",
    "    print(\"----Memory----\")\n",
    "    memory_table = PrettyTable([\"Total(GB)\", \"Used(GB)\",\n",
    "                                \"Available(GB)\", \"Percentage\"])\n",
    "    vm = psutil.virtual_memory()\n",
    "    memory_table.add_row([\n",
    "        f'{vm.total / 1e9:.3f}',\n",
    "        f'{vm.used / 1e9:.3f}',\n",
    "        f'{vm.available / 1e9:.3f}',\n",
    "        vm.percent\n",
    "    ])\n",
    "    used_total_memory.append([calc_time_interval(), f'{vm.used / 1e9:.3f}'])\n",
    "    print(memory_table)"
   ]
  },
  {
   "cell_type": "markdown",
   "id": "3fSbK7p7cCQR",
   "metadata": {
    "id": "3fSbK7p7cCQR"
   },
   "source": [
    "# ***Disk:*** "
   ]
  },
  {
   "cell_type": "code",
   "execution_count": 10,
   "id": "881WBzkPcyY6",
   "metadata": {
    "id": "881WBzkPcyY6"
   },
   "outputs": [],
   "source": [
    "def create_total_disk_table():\n",
    "    print(\"----Disk----\")\n",
    "    disk_table = PrettyTable([\"Total(GB)\", \"Used(GB)\",\n",
    "                              \"Available(GB)\", \"Percentage\"])\n",
    "    disk_stat = psutil.disk_usage('/')\n",
    "    disk_table.add_row([\n",
    "        f'{disk_stat.total / 1e9:.3f}',\n",
    "        f'{disk_stat.used / 1e9:.3f}',\n",
    "        f'{disk_stat.free / 1e9:.3f}',\n",
    "        disk_stat.percent\n",
    "    ])\n",
    "    used_total_disk.append([calc_time_interval(), f'{disk_stat.used / 1e9:.3f}'])\n",
    "    print(disk_table)"
   ]
  },
  {
   "cell_type": "markdown",
   "id": "_tE1ljeWc2IE",
   "metadata": {
    "id": "_tE1ljeWc2IE"
   },
   "source": [
    "# ***Disk I/O:*** "
   ]
  },
  {
   "cell_type": "code",
   "execution_count": 11,
   "id": "NpWjFDtIc6aq",
   "metadata": {
    "id": "NpWjFDtIc6aq"
   },
   "outputs": [],
   "source": [
    "# TODO: i/o data is cumulative. maybe we should subtract that from initial i/o data (when the python program starts)\n",
    "def create_current_disk_io_table():\n",
    "    print(\"----Disk I/O----\")\n",
    "    disk_table = PrettyTable([\"read_count\", \"write_count\",\n",
    "                              \"read_bytes(GB)\", \"write_bytes(GB)\"])\n",
    "    disk_io_stat = psutil.disk_io_counters()\n",
    "    disk_table.add_row([\n",
    "        disk_io_stat.read_count,\n",
    "        disk_io_stat.write_count,\n",
    "        f'{disk_io_stat.read_bytes / 1e9:.3f}',\n",
    "        f'{disk_io_stat.write_bytes / 1e9:.3f}'\n",
    "    ])\n",
    "    print(disk_table)\n"
   ]
  },
  {
   "cell_type": "markdown",
   "id": "LOMNCJGvcMmk",
   "metadata": {
    "id": "LOMNCJGvcMmk"
   },
   "source": [
    "# ***All Processes:*** "
   ]
  },
  {
   "cell_type": "code",
   "execution_count": 12,
   "id": "xhwOcXiCdDfh",
   "metadata": {
    "id": "xhwOcXiCdDfh"
   },
   "outputs": [],
   "source": [
    "# TODO: i/o data is cumulative. maybe we should subtract that from initial i/o data (when the python program starts)\n",
    "def create_process_table():\n",
    "    print(\"----Processes----\")\n",
    "    process_table = PrettyTable(['PID', 'PNAME',\n",
    "                                 'CPU', 'NUM THREADS', 'MEMORY(MB)', 'MEMORY(%)', 'read_count', 'write_count', 'read_bytes', 'write_bytes'])\n",
    "\n",
    "    proc = []\n",
    "    # get the pids from last which mostly are user processes\n",
    "    for p in psutil.process_iter():\n",
    "        try:\n",
    "            # trigger cpu_percent() the first time which leads to return of 0.0\n",
    "            p.cpu_percent()\n",
    "            proc.append(p)\n",
    "\n",
    "        except Exception as e:\n",
    "            pass\n",
    "\n",
    "    # sort by cpu_percent\n",
    "    top = {}\n",
    "    time.sleep(0.1)\n",
    "    for p in proc:\n",
    "        # trigger cpu_percent() the second time for measurement\n",
    "        top[p] = p.cpu_percent() / psutil.cpu_count()\n",
    "\n",
    "    top_list = sorted(top.items(), key=lambda x: x[1])\n",
    "    top10 = top_list[-20:]\n",
    "    top10.reverse()\n",
    "\n",
    "    for p, cpu_percent in top10:\n",
    "\n",
    "        # While fetching the processes, some of the subprocesses may exit\n",
    "        # Hence we need to put this code in try-except block\n",
    "        if p.name() == SYSTEM_IDLE_PROCESS_NAME:\n",
    "                used_total_cpu.append([calc_time_interval(), float(f'{100 - cpu_percent:.2f}')])\n",
    "        elif need_scan and p.name() == ANTIVIRUS_PROCESS_NAME:\n",
    "                used_cpu_by_antivirus.append([calc_time_interval(), f'{cpu_percent:.2f}'])\n",
    "        try:\n",
    "            # oneshot to improve info retrieve efficiency\n",
    "            with p.oneshot():\n",
    "                disk_io = p.io_counters()\n",
    "                process_table.add_row([\n",
    "                    str(p.pid),\n",
    "                    p.name(),\n",
    "                    f'{cpu_percent:.2f}' + \"%\",\n",
    "                    p.num_threads(),\n",
    "                    f'{p.memory_info().rss / 1e6:.3f}', # TODO: maybe should use uss instead rss?\n",
    "                    round(p.memory_percent(),2),\n",
    "                    disk_io.read_count,\n",
    "                    disk_io.write_count,\n",
    "                    disk_io.read_bytes,\n",
    "                    disk_io.write_bytes\n",
    "                ])\n",
    "            \n",
    "\n",
    "        except Exception as e:\n",
    "            pass\n",
    "    print(process_table)\n"
   ]
  },
  {
   "cell_type": "markdown",
   "id": "aGsy0yWicJCs",
   "metadata": {
    "id": "aGsy0yWicJCs"
   },
   "source": [
    "# ***CPU:*** "
   ]
  },
  {
   "cell_type": "code",
   "execution_count": 13,
   "id": "mpb37-I_dIGB",
   "metadata": {
    "id": "mpb37-I_dIGB"
   },
   "outputs": [],
   "source": [
    "# TO DO: calculate the total cpu consumption"
   ]
  },
  {
   "cell_type": "markdown",
   "id": "yRrOv4rbdPQR",
   "metadata": {
    "id": "yRrOv4rbdPQR"
   },
   "source": [
    "Now, Lets run the main:"
   ]
  },
  {
   "cell_type": "code",
   "execution_count": 14,
   "id": "5e83f5c5",
   "metadata": {},
   "outputs": [],
   "source": [
    "def main_program():\n",
    "    condition = not isScanDone if need_scan else (datetime.now() - start_time <= timedelta(minutes=SCAN_TIME))\n",
    "    print (condition)\n",
    "    while condition:\n",
    "        print(\"befor\")\n",
    "        create_total_disk_table()\n",
    "        print(\"after disk\")\n",
    "        create_current_disk_io_table()\n",
    "        print(\"after io\")\n",
    "        create_total_memory_table()\n",
    "        print(\"after memory\")\n",
    "        create_process_table()\n",
    "        print(\"after process\")\n",
    "        \n",
    "        # Create a 1 second delay\n",
    "        time.sleep(0.5)\n",
    "        "
   ]
  },
  {
   "cell_type": "code",
   "execution_count": 15,
   "id": "249c3700",
   "metadata": {},
   "outputs": [],
   "source": [
    "# create 2 processes, one to run the code and one to run the antivirus.\n",
    "from multiprocessing import Process\n",
    "\n",
    "mainP = Process(target=main_program, args=())\n",
    "mainP.start()\n",
    "\n",
    "if need_scan:\n",
    "    scanP = Process(target=run_antivirus, args=())\n",
    "    scanP.start()\n",
    "    scanP.join()"
   ]
  },
  {
   "cell_type": "code",
   "execution_count": 16,
   "id": "38b13da2",
   "metadata": {
    "colab": {
     "base_uri": "https://localhost:8080/",
     "height": 502
    },
    "id": "38b13da2",
    "outputId": "4c80d28a-f510-4c1d-9d7d-9a2200d06dce"
   },
   "outputs": [
    {
     "name": "stdout",
     "output_type": "stream",
     "text": [
      "----Disk----\n",
      "+-----------+----------+---------------+------------+\n",
      "| Total(GB) | Used(GB) | Available(GB) | Percentage |\n",
      "+-----------+----------+---------------+------------+\n",
      "|  500.966  | 180.328  |    320.638    |    36.0    |\n",
      "+-----------+----------+---------------+------------+\n",
      "----Disk I/O----\n",
      "+------------+-------------+----------------+-----------------+\n",
      "| read_count | write_count | read_bytes(GB) | write_bytes(GB) |\n",
      "+------------+-------------+----------------+-----------------+\n",
      "|  6824401   |   2281388   |    286.704     |     110.694     |\n",
      "+------------+-------------+----------------+-----------------+\n",
      "----Memory----\n",
      "+-----------+----------+---------------+------------+\n",
      "| Total(GB) | Used(GB) | Available(GB) | Percentage |\n",
      "+-----------+----------+---------------+------------+\n",
      "|   16.889  |  9.117   |     7.772     |    54.0    |\n",
      "+-----------+----------+---------------+------------+\n",
      "----Processes----\n",
      "+-------+---------------------+--------+-------------+------------+-----------+------------+-------------+------------+-------------+\n",
      "|  PID  |        PNAME        |  CPU   | NUM THREADS | MEMORY(MB) | MEMORY(%) | read_count | write_count | read_bytes | write_bytes |\n",
      "+-------+---------------------+--------+-------------+------------+-----------+------------+-------------+------------+-------------+\n",
      "|   0   | System Idle Process | 83.99% |      8      |   0.008    |    0.0    |     0      |      0      |     0      |      0      |\n",
      "|  4316 |      python.exe     | 9.57%  |      21     |  105.239   |    0.62   |    2437    |     247     |  17884744  |    451195   |\n",
      "|   4   |        System       | 1.65%  |     246     |   12.308   |    0.07   |    2998    |    33917    | 297967634  |  1395804026 |\n",
      "| 12880 |      chrome.exe     | 0.53%  |      16     |   54.682   |    0.32   |   941605   |   1467117   | 407312453  |  1066430313 |\n",
      "| 17336 |      chrome.exe     | 0.00%  |      17     |   41.845   |    0.25   |    2324    |     558     |  1510044   |    109488   |\n",
      "| 17332 |  RuntimeBroker.exe  | 0.00%  |      3      |   19.800   |    0.12   |     3      |      1      |    116     |     160     |\n",
      "| 17260 |      chrome.exe     | 0.00%  |      17     |   89.981   |    0.53   |    4550    |     6069    |  2632852   |   4861292   |\n",
      "| 16620 |      chrome.exe     | 0.00%  |      18     |  145.093   |    0.86   |   33906    |    32604    |  27638421  |   20493783  |\n",
      "| 16572 |      chrome.exe     | 0.00%  |      17     |   44.491   |    0.26   |    4032    |     867     |  2701828   |    175520   |\n",
      "| 16556 |     MsMpEng.exe     | 0.00%  |      15     |  158.519   |    0.94   |   183599   |     2553    | 701168777  |  385583948  |\n",
      "| 16388 |      chrome.exe     | 0.00%  |      17     |   93.192   |    0.55   |    3694    |     3600    |  3533055   |   2536632   |\n",
      "| 16208 |      chrome.exe     | 0.00%  |      17     |  102.531   |    0.61   |    3268    |     4202    |  4104534   |   2377632   |\n",
      "| 16184 |      chrome.exe     | 0.00%  |      17     |   48.312   |    0.29   |    3916    |     1201    |  2744060   |    249040   |\n",
      "| 16044 |      chrome.exe     | 0.00%  |      21     |  102.707   |    0.61   |   13923    |    11941    |  8139776   |   4206515   |\n",
      "| 16004 |      chrome.exe     | 0.00%  |      17     |   41.423   |    0.25   |    2239    |     543     |  1518772   |    108080   |\n",
      "| 15916 |      chrome.exe     | 0.00%  |      17     |  111.596   |    0.66   |    9419    |    12362    |  4640660   |   10576209  |\n",
      "| 15868 |      chrome.exe     | 0.00%  |      17     |   52.634   |    0.31   |    9574    |     3196    |  6352796   |    728136   |\n",
      "| 15860 |      chrome.exe     | 0.00%  |      17     |   87.716   |    0.52   |   11483    |    65498    |  15534695  |   36944305  |\n",
      "| 15836 |      chrome.exe     | 0.00%  |      17     |   71.242   |    0.42   |    4039    |     4996    |  2065370   |   3743098   |\n",
      "| 15688 |      chrome.exe     | 0.00%  |      17     |   43.684   |    0.26   |    2377    |     1240    |   998404   |    492552   |\n",
      "+-------+---------------------+--------+-------------+------------+-----------+------------+-------------+------------+-------------+\n",
      "----Disk I/O----\n",
      "+------------+-------------+----------------+-----------------+\n",
      "| read_count | write_count | read_bytes(GB) | write_bytes(GB) |\n",
      "+------------+-------------+----------------+-----------------+\n",
      "|  6824405   |   2281428   |    286.704     |     110.695     |\n",
      "+------------+-------------+----------------+-----------------+\n",
      "----Memory----\n",
      "+-----------+----------+---------------+------------+\n",
      "| Total(GB) | Used(GB) | Available(GB) | Percentage |\n",
      "+-----------+----------+---------------+------------+\n",
      "|   16.889  |  9.112   |     7.777     |    54.0    |\n",
      "+-----------+----------+---------------+------------+\n",
      "----Processes----\n",
      "+-------+---------------------+--------+-------------+------------+-----------+------------+-------------+------------+-------------+\n",
      "|  PID  |        PNAME        |  CPU   | NUM THREADS | MEMORY(MB) | MEMORY(%) | read_count | write_count | read_bytes | write_bytes |\n",
      "+-------+---------------------+--------+-------------+------------+-----------+------------+-------------+------------+-------------+\n",
      "|   0   | System Idle Process | 88.84% |      8      |   0.008    |    0.0    |     0      |      0      |     0      |      0      |\n",
      "|  4316 |      python.exe     | 9.57%  |      21     |  105.279   |    0.62   |    2437    |     247     |  17884744  |    451195   |\n",
      "| 15252 |      chrome.exe     | 0.55%  |      11     |   12.141   |    0.07   |   344807   |    347031   |  1601088   |   2222740   |\n",
      "|  1748 |       dwm.exe       | 0.35%  |      14     |   65.913   |    0.39   |   702557   |      0      |  7097850   |      0      |\n",
      "| 17336 |      chrome.exe     | 0.00%  |      17     |   41.845   |    0.25   |    2324    |     558     |  1510044   |    109488   |\n",
      "| 17332 |  RuntimeBroker.exe  | 0.00%  |      3      |   19.800   |    0.12   |     3      |      1      |    116     |     160     |\n",
      "| 17260 |      chrome.exe     | 0.00%  |      17     |   89.981   |    0.53   |    4550    |     6069    |  2632852   |   4861292   |\n",
      "| 16620 |      chrome.exe     | 0.00%  |      18     |  145.093   |    0.86   |   33906    |    32604    |  27638421  |   20493783  |\n",
      "| 16572 |      chrome.exe     | 0.00%  |      17     |   44.491   |    0.26   |    4032    |     867     |  2701828   |    175520   |\n",
      "| 16556 |     MsMpEng.exe     | 0.00%  |      15     |  158.519   |    0.94   |   183599   |     2553    | 701168777  |  385583948  |\n",
      "| 16388 |      chrome.exe     | 0.00%  |      17     |   93.192   |    0.55   |    3694    |     3600    |  3533055   |   2536632   |\n",
      "| 16208 |      chrome.exe     | 0.00%  |      17     |  102.531   |    0.61   |    3268    |     4202    |  4104534   |   2377632   |\n",
      "| 16184 |      chrome.exe     | 0.00%  |      17     |   48.312   |    0.29   |    3916    |     1201    |  2744060   |    249040   |\n",
      "| 16044 |      chrome.exe     | 0.00%  |      21     |  102.707   |    0.61   |   13923    |    11941    |  8139776   |   4206515   |\n",
      "| 16004 |      chrome.exe     | 0.00%  |      17     |   41.423   |    0.25   |    2239    |     543     |  1518772   |    108080   |\n",
      "| 15916 |      chrome.exe     | 0.00%  |      17     |  111.596   |    0.66   |    9419    |    12362    |  4640660   |   10576209  |\n",
      "| 15868 |      chrome.exe     | 0.00%  |      17     |   52.634   |    0.31   |    9574    |     3196    |  6352796   |    728136   |\n",
      "| 15860 |      chrome.exe     | 0.00%  |      17     |   87.716   |    0.52   |   11483    |    65498    |  15534695  |   36944305  |\n",
      "| 15836 |      chrome.exe     | 0.00%  |      17     |   71.242   |    0.42   |    4039    |     4996    |  2065370   |   3743098   |\n",
      "| 15688 |      chrome.exe     | 0.00%  |      17     |   43.684   |    0.26   |    2377    |     1240    |   998404   |    492552   |\n",
      "+-------+---------------------+--------+-------------+------------+-----------+------------+-------------+------------+-------------+\n",
      "----Disk I/O----\n",
      "+------------+-------------+----------------+-----------------+\n",
      "| read_count | write_count | read_bytes(GB) | write_bytes(GB) |\n",
      "+------------+-------------+----------------+-----------------+\n",
      "|  6824405   |   2281435   |    286.704     |     110.695     |\n",
      "+------------+-------------+----------------+-----------------+\n",
      "----Memory----\n",
      "+-----------+----------+---------------+------------+\n",
      "| Total(GB) | Used(GB) | Available(GB) | Percentage |\n",
      "+-----------+----------+---------------+------------+\n",
      "|   16.889  |  9.108   |     7.781     |    53.9    |\n",
      "+-----------+----------+---------------+------------+\n",
      "----Processes----\n"
     ]
    },
    {
     "name": "stdout",
     "output_type": "stream",
     "text": [
      "+-------+---------------------+--------+-------------+------------+-----------+------------+-------------+------------+-------------+\n",
      "|  PID  |        PNAME        |  CPU   | NUM THREADS | MEMORY(MB) | MEMORY(%) | read_count | write_count | read_bytes | write_bytes |\n",
      "+-------+---------------------+--------+-------------+------------+-----------+------------+-------------+------------+-------------+\n",
      "|   0   | System Idle Process | 89.11% |      8      |   0.008    |    0.0    |     0      |      0      |     0      |      0      |\n",
      "|  4316 |      python.exe     | 9.57%  |      21     |  105.288   |    0.62   |    2437    |     247     |  17884744  |    451195   |\n",
      "|  4032 |      chrome.exe     | 0.41%  |      17     |  477.884   |    2.83   |  1202506   |   1120382   | 1968417020 |  387840784  |\n",
      "| 17336 |      chrome.exe     | 0.00%  |      17     |   41.845   |    0.25   |    2324    |     558     |  1510044   |    109488   |\n",
      "| 17332 |  RuntimeBroker.exe  | 0.00%  |      3      |   19.800   |    0.12   |     3      |      1      |    116     |     160     |\n",
      "| 17260 |      chrome.exe     | 0.00%  |      17     |   89.981   |    0.53   |    4550    |     6069    |  2632852   |   4861292   |\n",
      "| 16620 |      chrome.exe     | 0.00%  |      18     |  145.093   |    0.86   |   33906    |    32604    |  27638421  |   20493783  |\n",
      "| 16572 |      chrome.exe     | 0.00%  |      17     |   44.491   |    0.26   |    4032    |     867     |  2701828   |    175520   |\n",
      "| 16556 |     MsMpEng.exe     | 0.00%  |      15     |  158.519   |    0.94   |   183599   |     2553    | 701168777  |  385583948  |\n",
      "| 16388 |      chrome.exe     | 0.00%  |      17     |   93.192   |    0.55   |    3694    |     3600    |  3533055   |   2536632   |\n",
      "| 16208 |      chrome.exe     | 0.00%  |      17     |  102.531   |    0.61   |    3268    |     4202    |  4104534   |   2377632   |\n",
      "| 16184 |      chrome.exe     | 0.00%  |      17     |   48.312   |    0.29   |    3916    |     1201    |  2744060   |    249040   |\n",
      "| 16044 |      chrome.exe     | 0.00%  |      21     |  102.707   |    0.61   |   13923    |    11941    |  8139776   |   4206515   |\n",
      "| 16004 |      chrome.exe     | 0.00%  |      17     |   41.423   |    0.25   |    2239    |     543     |  1518772   |    108080   |\n",
      "| 15916 |      chrome.exe     | 0.00%  |      17     |  111.596   |    0.66   |    9419    |    12362    |  4640660   |   10576209  |\n",
      "| 15868 |      chrome.exe     | 0.00%  |      17     |   52.634   |    0.31   |    9574    |     3196    |  6352796   |    728136   |\n",
      "| 15860 |      chrome.exe     | 0.00%  |      17     |   87.716   |    0.52   |   11483    |    65498    |  15534695  |   36944305  |\n",
      "| 15836 |      chrome.exe     | 0.00%  |      17     |   71.242   |    0.42   |    4039    |     4996    |  2065370   |   3743098   |\n",
      "| 15688 |      chrome.exe     | 0.00%  |      17     |   43.684   |    0.26   |    2377    |     1240    |   998404   |    492552   |\n",
      "| 15608 |      chrome.exe     | 0.00%  |      17     |   98.439   |    0.58   |   15279    |    21051    |  6499788   |   19123384  |\n",
      "+-------+---------------------+--------+-------------+------------+-----------+------------+-------------+------------+-------------+\n",
      "----Disk I/O----\n",
      "+------------+-------------+----------------+-----------------+\n",
      "| read_count | write_count | read_bytes(GB) | write_bytes(GB) |\n",
      "+------------+-------------+----------------+-----------------+\n",
      "|  6824407   |   2281463   |    286.704     |     110.696     |\n",
      "+------------+-------------+----------------+-----------------+\n",
      "----Memory----\n",
      "+-----------+----------+---------------+------------+\n",
      "| Total(GB) | Used(GB) | Available(GB) | Percentage |\n",
      "+-----------+----------+---------------+------------+\n",
      "|   16.889  |  9.099   |     7.790     |    53.9    |\n",
      "+-----------+----------+---------------+------------+\n",
      "----Processes----\n",
      "+-------+---------------------+--------+-------------+------------+-----------+------------+-------------+------------+-------------+\n",
      "|  PID  |        PNAME        |  CPU   | NUM THREADS | MEMORY(MB) | MEMORY(%) | read_count | write_count | read_bytes | write_bytes |\n",
      "+-------+---------------------+--------+-------------+------------+-----------+------------+-------------+------------+-------------+\n",
      "|   0   | System Idle Process | 87.55% |      8      |   0.008    |    0.0    |     0      |      0      |     0      |      0      |\n",
      "|  4316 |      python.exe     | 9.60%  |      21     |  105.288   |    0.62   |    2437    |     247     |  17884744  |    451195   |\n",
      "|  6336 |      chrome.exe     | 0.47%  |      27     |  270.602   |    1.6    |   635501   |    709169   | 383681323  |  187301547  |\n",
      "|  1092 |   dptf_helper.exe   | 0.34%  |      5      |   2.187    |    0.01   |     4      |     1091    |    156     |   1106061   |\n",
      "|   4   |        System       | 0.33%  |     246     |   12.308   |    0.07   |    2998    |    33917    | 297967634  |  1395804026 |\n",
      "| 17336 |      chrome.exe     | 0.00%  |      17     |   41.845   |    0.25   |    2324    |     558     |  1510044   |    109488   |\n",
      "| 17332 |  RuntimeBroker.exe  | 0.00%  |      3      |   19.800   |    0.12   |     3      |      1      |    116     |     160     |\n",
      "| 17260 |      chrome.exe     | 0.00%  |      17     |   89.981   |    0.53   |    4550    |     6069    |  2632852   |   4861292   |\n",
      "| 16620 |      chrome.exe     | 0.00%  |      18     |  145.043   |    0.86   |   33906    |    32604    |  27638421  |   20493783  |\n",
      "| 16572 |      chrome.exe     | 0.00%  |      17     |   44.491   |    0.26   |    4032    |     867     |  2701828   |    175520   |\n",
      "| 16556 |     MsMpEng.exe     | 0.00%  |      15     |  158.519   |    0.94   |   183599   |     2553    | 701168777  |  385583948  |\n",
      "| 16388 |      chrome.exe     | 0.00%  |      17     |   93.192   |    0.55   |    3694    |     3600    |  3533055   |   2536632   |\n",
      "| 16208 |      chrome.exe     | 0.00%  |      17     |  102.531   |    0.61   |    3268    |     4202    |  4104534   |   2377632   |\n",
      "| 16184 |      chrome.exe     | 0.00%  |      17     |   48.312   |    0.29   |    3916    |     1201    |  2744060   |    249040   |\n",
      "| 16044 |      chrome.exe     | 0.00%  |      21     |  102.707   |    0.61   |   13923    |    11941    |  8139776   |   4206515   |\n",
      "| 16004 |      chrome.exe     | 0.00%  |      17     |   41.423   |    0.25   |    2239    |     543     |  1518772   |    108080   |\n",
      "| 15916 |      chrome.exe     | 0.00%  |      17     |  111.596   |    0.66   |    9419    |    12362    |  4640660   |   10576209  |\n",
      "| 15868 |      chrome.exe     | 0.00%  |      17     |   52.634   |    0.31   |    9574    |     3196    |  6352796   |    728136   |\n",
      "| 15860 |      chrome.exe     | 0.00%  |      17     |   87.716   |    0.52   |   11483    |    65498    |  15534695  |   36944305  |\n",
      "| 15836 |      chrome.exe     | 0.00%  |      17     |   71.242   |    0.42   |    4039    |     4996    |  2065370   |   3743098   |\n",
      "+-------+---------------------+--------+-------------+------------+-----------+------------+-------------+------------+-------------+\n",
      "----Disk I/O----\n",
      "+------------+-------------+----------------+-----------------+\n",
      "| read_count | write_count | read_bytes(GB) | write_bytes(GB) |\n",
      "+------------+-------------+----------------+-----------------+\n",
      "|  6824407   |   2281467   |    286.704     |     110.696     |\n",
      "+------------+-------------+----------------+-----------------+\n",
      "----Memory----\n",
      "+-----------+----------+---------------+------------+\n",
      "| Total(GB) | Used(GB) | Available(GB) | Percentage |\n",
      "+-----------+----------+---------------+------------+\n",
      "|   16.889  |  9.096   |     7.792     |    53.9    |\n",
      "+-----------+----------+---------------+------------+\n",
      "----Processes----\n",
      "+-------+---------------------+--------+-------------+------------+-----------+------------+-------------+------------+-------------+\n",
      "|  PID  |        PNAME        |  CPU   | NUM THREADS | MEMORY(MB) | MEMORY(%) | read_count | write_count | read_bytes | write_bytes |\n",
      "+-------+---------------------+--------+-------------+------------+-----------+------------+-------------+------------+-------------+\n",
      "|   0   | System Idle Process | 88.51% |      8      |   0.008    |    0.0    |     0      |      0      |     0      |      0      |\n",
      "|  4316 |      python.exe     | 9.69%  |      21     |  105.288   |    0.62   |    2437    |     247     |  17884744  |    451195   |\n",
      "| 17336 |      chrome.exe     | 0.00%  |      17     |   41.845   |    0.25   |    2324    |     558     |  1510044   |    109488   |\n",
      "| 17332 |  RuntimeBroker.exe  | 0.00%  |      3      |   19.800   |    0.12   |     3      |      1      |    116     |     160     |\n",
      "| 17260 |      chrome.exe     | 0.00%  |      17     |   89.981   |    0.53   |    4550    |     6069    |  2632852   |   4861292   |\n",
      "| 16620 |      chrome.exe     | 0.00%  |      18     |  144.937   |    0.86   |   33906    |    32604    |  27638421  |   20493783  |\n",
      "| 16572 |      chrome.exe     | 0.00%  |      17     |   44.491   |    0.26   |    4032    |     867     |  2701828   |    175520   |\n",
      "| 16556 |     MsMpEng.exe     | 0.00%  |      15     |  158.519   |    0.94   |   183599   |     2553    | 701168777  |  385583948  |\n",
      "| 16388 |      chrome.exe     | 0.00%  |      17     |   93.192   |    0.55   |    3694    |     3600    |  3533055   |   2536632   |\n",
      "| 16208 |      chrome.exe     | 0.00%  |      17     |  102.531   |    0.61   |    3268    |     4202    |  4104534   |   2377632   |\n",
      "| 16184 |      chrome.exe     | 0.00%  |      17     |   48.312   |    0.29   |    3916    |     1201    |  2744060   |    249040   |\n",
      "| 16044 |      chrome.exe     | 0.00%  |      21     |  102.707   |    0.61   |   13923    |    11941    |  8139776   |   4206515   |\n",
      "| 16004 |      chrome.exe     | 0.00%  |      17     |   41.423   |    0.25   |    2239    |     543     |  1518772   |    108080   |\n",
      "| 15916 |      chrome.exe     | 0.00%  |      17     |  111.596   |    0.66   |    9419    |    12362    |  4640660   |   10576209  |\n",
      "| 15868 |      chrome.exe     | 0.00%  |      17     |   52.634   |    0.31   |    9574    |     3196    |  6352796   |    728136   |\n",
      "| 15860 |      chrome.exe     | 0.00%  |      17     |   87.716   |    0.52   |   11483    |    65498    |  15534695  |   36944305  |\n",
      "| 15836 |      chrome.exe     | 0.00%  |      17     |   71.242   |    0.42   |    4039    |     4996    |  2065370   |   3743098   |\n",
      "| 15688 |      chrome.exe     | 0.00%  |      17     |   43.684   |    0.26   |    2377    |     1240    |   998404   |    492552   |\n",
      "| 15608 |      chrome.exe     | 0.00%  |      17     |   98.439   |    0.58   |   15279    |    21051    |  6499788   |   19123384  |\n",
      "| 15592 |      chrome.exe     | 0.00%  |      19     |  157.811   |    0.93   |   15245    |    20494    |  6467766   |   11453611  |\n",
      "+-------+---------------------+--------+-------------+------------+-----------+------------+-------------+------------+-------------+\n"
     ]
    }
   ],
   "source": [
    "#print_battery_stat()\n",
    "starting_time = datetime.now()\n",
    "create_total_disk_table()\n",
    "\n",
    "for i in range(5):\n",
    "\n",
    "    # Clear the screen using a bash command\n",
    "    #call('clear')\n",
    "\n",
    "\n",
    "    # Fetch the Network information - relevant?\n",
    "    # print_network_stat()\n",
    "\n",
    "    create_current_disk_io_table()\n",
    "\n",
    "    # Fetch the memory information\n",
    "    create_total_memory_table()\n",
    "\n",
    "\n",
    "    # Fetch the 10 processes from available processes that has the highest cpu usage\n",
    "    create_process_table()\n",
    "\n",
    "    # Create a 1 second delay\n",
    "    time.sleep(1)\n",
    "\n",
    "#print_battery_stat()\n"
   ]
  },
  {
   "cell_type": "markdown",
   "id": "2104eecc",
   "metadata": {},
   "source": [
    "Print all saved data:"
   ]
  },
  {
   "cell_type": "code",
   "execution_count": 17,
   "id": "b84508f8",
   "metadata": {},
   "outputs": [
    {
     "name": "stdout",
     "output_type": "stream",
     "text": [
      "-------------- Battery data --------------\n",
      "[]\n",
      "-------------- Total Memory data ---------------\n",
      "[[0.0, '9.117'], [1.920254, '9.112'], [3.820855, '9.108'], [5.704299, '9.099'], [7.584432, '9.096']]\n",
      "-------------- Antivirus Memory data -------------\n",
      "[]\n",
      "-------------- Total CPU data -------------\n",
      "[[0.86273, 16.01], [2.77096, 11.16], [4.660786, 10.89], [6.544766, 12.45], [8.44103, 11.49]]\n",
      "-------------- Antivirus CPU data -----------\n",
      "[]\n",
      "-------------- Total Disk data ---------------\n",
      "[[0.0, '180.328']]\n",
      "-------------- Antivirus Disk data ------------\n",
      "[]\n"
     ]
    }
   ],
   "source": [
    "print(\"-------------- Battery data --------------\")\n",
    "print(battery_available_precent)\n",
    "print(\"-------------- Total Memory data ---------------\")\n",
    "print(used_total_memory)\n",
    "print(\"-------------- Antivirus Memory data -------------\")\n",
    "print(used_memory_by_antivirus)\n",
    "print(\"-------------- Total CPU data -------------\")\n",
    "print(used_total_cpu)\n",
    "print(\"-------------- Antivirus CPU data -----------\")\n",
    "print(used_cpu_by_antivirus)\n",
    "print(\"-------------- Total Disk data ---------------\")\n",
    "print(used_total_disk)\n",
    "print(\"-------------- Antivirus Disk data ------------\")\n",
    "print(used_disk_by_antivirus)"
   ]
  },
  {
   "cell_type": "markdown",
   "id": "386d41ce",
   "metadata": {},
   "source": [
    "Display all graphs:"
   ]
  },
  {
   "cell_type": "code",
   "execution_count": 18,
   "id": "b60d63ba",
   "metadata": {
    "scrolled": false
   },
   "outputs": [
    {
     "data": {
      "image/png": "[encoded data removed]",
      "text/plain": [
       "<Figure size 640x480 with 1 Axes>"
      ]
     },
     "metadata": {},
     "output_type": "display_data"
    },
    {
     "data": {
      "image/png": "[encoded data removed]",
      "text/plain": [
       "<Figure size 640x480 with 1 Axes>"
      ]
     },
     "metadata": {},
     "output_type": "display_data"
    }
   ],
   "source": [
    "x, y = split_to_xy(used_total_memory)\n",
    "draw_graph(x, y, \"used memory\")\n",
    "x, y = split_to_xy(used_total_cpu)\n",
    "draw_graph(x, y, \"used cpu\")"
   ]
  },
  {
   "cell_type": "code",
   "execution_count": null,
   "id": "a6236736",
   "metadata": {},
   "outputs": [],
   "source": []
  }
 ],
 "metadata": {
  "colab": {
   "provenance": []
  },
  "kernelspec": {
   "display_name": "Python 3 (ipykernel)",
   "language": "python",
   "name": "python3"
  },
  "language_info": {
   "codemirror_mode": {
    "name": "ipython",
    "version": 3
   },
   "file_extension": ".py",
   "mimetype": "text/x-python",
   "name": "python",
   "nbconvert_exporter": "python",
   "pygments_lexer": "ipython3",
   "version": "3.10.8"
  }
 },
 "nbformat": 4,
 "nbformat_minor": 5
}
